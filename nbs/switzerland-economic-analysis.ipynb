{
 "cells": [
  {
   "cell_type": "markdown",
   "id": "71cb2a65-fcd8-42f8-a1bb-6e71642513eb",
   "metadata": {},
   "source": [
    "# Switzerland Economic Analysis"
   ]
  },
  {
   "cell_type": "code",
   "execution_count": 1,
   "id": "2f47bd92-ac7e-438d-bbad-4bb6f42a9758",
   "metadata": {},
   "outputs": [
    {
     "name": "stdout",
     "output_type": "stream",
     "text": [
      "/Users/eshaankirpal/miniforge3/envs/financials/bin/python\n"
     ]
    }
   ],
   "source": [
    "!which python"
   ]
  },
  {
   "cell_type": "code",
   "execution_count": 174,
   "id": "e620bd0a-efeb-47ac-801a-d1f20d62de75",
   "metadata": {},
   "outputs": [],
   "source": [
    "import os\n",
    "import pandas as pd\n",
    "import numpy as np\n",
    "\n",
    "import matplotlib.pyplot as plt\n",
    "import seaborn as sns\n",
    "import plotly.express as px\n",
    "import plotly.graph_objects as go\n",
    "\n",
    "\n",
    "from ipywidgets import interact, interactive, fixed, interact_manual\n",
    "from ipywidgets import widgets"
   ]
  },
  {
   "cell_type": "markdown",
   "id": "ca81407d-7d5f-44af-8521-da8eaa218913",
   "metadata": {},
   "source": [
    "## Read the Data"
   ]
  },
  {
   "cell_type": "code",
   "execution_count": 175,
   "id": "a82af9e1-302e-418b-8418-f75ea20f624a",
   "metadata": {},
   "outputs": [],
   "source": [
    "DATAPATH='../assets'\n",
    "FILENAME='P_Data_Extract_From_World_Development_Indicators.xlsx'"
   ]
  },
  {
   "cell_type": "code",
   "execution_count": 177,
   "id": "a5d20d2a-6e28-4359-a71e-b43de17d2967",
   "metadata": {},
   "outputs": [
    {
     "name": "stdout",
     "output_type": "stream",
     "text": [
      "(260, 29)\n"
     ]
    },
    {
     "data": {
      "text/html": [
       "<div>\n",
       "<style scoped>\n",
       "    .dataframe tbody tr th:only-of-type {\n",
       "        vertical-align: middle;\n",
       "    }\n",
       "\n",
       "    .dataframe tbody tr th {\n",
       "        vertical-align: top;\n",
       "    }\n",
       "\n",
       "    .dataframe thead th {\n",
       "        text-align: right;\n",
       "    }\n",
       "</style>\n",
       "<table border=\"1\" class=\"dataframe\">\n",
       "  <thead>\n",
       "    <tr style=\"text-align: right;\">\n",
       "      <th></th>\n",
       "      <th>Country Name</th>\n",
       "      <th>Country Code</th>\n",
       "      <th>Series Name</th>\n",
       "      <th>Series Code</th>\n",
       "      <th>1998 [YR1998]</th>\n",
       "      <th>1999 [YR1999]</th>\n",
       "      <th>2000 [YR2000]</th>\n",
       "      <th>2001 [YR2001]</th>\n",
       "      <th>2002 [YR2002]</th>\n",
       "      <th>2003 [YR2003]</th>\n",
       "      <th>...</th>\n",
       "      <th>2013 [YR2013]</th>\n",
       "      <th>2014 [YR2014]</th>\n",
       "      <th>2015 [YR2015]</th>\n",
       "      <th>2016 [YR2016]</th>\n",
       "      <th>2017 [YR2017]</th>\n",
       "      <th>2018 [YR2018]</th>\n",
       "      <th>2019 [YR2019]</th>\n",
       "      <th>2020 [YR2020]</th>\n",
       "      <th>2021 [YR2021]</th>\n",
       "      <th>2022 [YR2022]</th>\n",
       "    </tr>\n",
       "  </thead>\n",
       "  <tbody>\n",
       "    <tr>\n",
       "      <th>0</th>\n",
       "      <td>Australia</td>\n",
       "      <td>AUS</td>\n",
       "      <td>GDP growth (annual %)</td>\n",
       "      <td>NY.GDP.MKTP.KD.ZG</td>\n",
       "      <td>4.663252</td>\n",
       "      <td>5.027647</td>\n",
       "      <td>3.921518</td>\n",
       "      <td>2.025127</td>\n",
       "      <td>3.979634</td>\n",
       "      <td>3.090687</td>\n",
       "      <td>...</td>\n",
       "      <td>2.606198</td>\n",
       "      <td>2.607401</td>\n",
       "      <td>2.20181</td>\n",
       "      <td>2.779143</td>\n",
       "      <td>2.318709</td>\n",
       "      <td>2.906363</td>\n",
       "      <td>2.181109</td>\n",
       "      <td>-0.334686</td>\n",
       "      <td>2.111831</td>\n",
       "      <td>4.268946</td>\n",
       "    </tr>\n",
       "    <tr>\n",
       "      <th>1</th>\n",
       "      <td>Australia</td>\n",
       "      <td>AUS</td>\n",
       "      <td>GDP per capita (current US$)</td>\n",
       "      <td>NY.GDP.PCAP.CD</td>\n",
       "      <td>21479.114202</td>\n",
       "      <td>20712.669781</td>\n",
       "      <td>21870.415967</td>\n",
       "      <td>19695.729738</td>\n",
       "      <td>20301.843171</td>\n",
       "      <td>23718.13385</td>\n",
       "      <td>...</td>\n",
       "      <td>68198.419345</td>\n",
       "      <td>62558.243879</td>\n",
       "      <td>56758.869203</td>\n",
       "      <td>49918.793933</td>\n",
       "      <td>53954.553495</td>\n",
       "      <td>57273.520475</td>\n",
       "      <td>55049.57192</td>\n",
       "      <td>51868.247557</td>\n",
       "      <td>60697.245436</td>\n",
       "      <td>65099.845912</td>\n",
       "    </tr>\n",
       "    <tr>\n",
       "      <th>2</th>\n",
       "      <td>Australia</td>\n",
       "      <td>AUS</td>\n",
       "      <td>GDP per capita, PPP (current international $)</td>\n",
       "      <td>NY.GDP.PCAP.PP.CD</td>\n",
       "      <td>24378.245311</td>\n",
       "      <td>25485.391446</td>\n",
       "      <td>26541.665321</td>\n",
       "      <td>27645.834854</td>\n",
       "      <td>29032.490956</td>\n",
       "      <td>30121.818418</td>\n",
       "      <td>...</td>\n",
       "      <td>45936.04931</td>\n",
       "      <td>46914.386708</td>\n",
       "      <td>46292.095439</td>\n",
       "      <td>47289.285914</td>\n",
       "      <td>48418.558422</td>\n",
       "      <td>50251.335338</td>\n",
       "      <td>52011.519113</td>\n",
       "      <td>53216.468537</td>\n",
       "      <td>56180.984752</td>\n",
       "      <td>63216.149216</td>\n",
       "    </tr>\n",
       "    <tr>\n",
       "      <th>3</th>\n",
       "      <td>Australia</td>\n",
       "      <td>AUS</td>\n",
       "      <td>Gini index</td>\n",
       "      <td>SI.POV.GINI</td>\n",
       "      <td>..</td>\n",
       "      <td>..</td>\n",
       "      <td>..</td>\n",
       "      <td>33.5</td>\n",
       "      <td>..</td>\n",
       "      <td>33.5</td>\n",
       "      <td>...</td>\n",
       "      <td>..</td>\n",
       "      <td>34.4</td>\n",
       "      <td>..</td>\n",
       "      <td>33.7</td>\n",
       "      <td>..</td>\n",
       "      <td>34.3</td>\n",
       "      <td>..</td>\n",
       "      <td>..</td>\n",
       "      <td>..</td>\n",
       "      <td>..</td>\n",
       "    </tr>\n",
       "    <tr>\n",
       "      <th>4</th>\n",
       "      <td>Australia</td>\n",
       "      <td>AUS</td>\n",
       "      <td>Inflation, consumer prices (annual %)</td>\n",
       "      <td>FP.CPI.TOTL.ZG</td>\n",
       "      <td>0.860135</td>\n",
       "      <td>1.483129</td>\n",
       "      <td>4.457435</td>\n",
       "      <td>4.407135</td>\n",
       "      <td>2.981575</td>\n",
       "      <td>2.732596</td>\n",
       "      <td>...</td>\n",
       "      <td>2.449889</td>\n",
       "      <td>2.487923</td>\n",
       "      <td>1.508367</td>\n",
       "      <td>1.276991</td>\n",
       "      <td>1.948647</td>\n",
       "      <td>1.911401</td>\n",
       "      <td>1.610768</td>\n",
       "      <td>0.846906</td>\n",
       "      <td>2.86391</td>\n",
       "      <td>6.594097</td>\n",
       "    </tr>\n",
       "  </tbody>\n",
       "</table>\n",
       "<p>5 rows × 29 columns</p>\n",
       "</div>"
      ],
      "text/plain": [
       "  Country Name Country Code                                    Series Name  \\\n",
       "0    Australia          AUS                          GDP growth (annual %)   \n",
       "1    Australia          AUS                   GDP per capita (current US$)   \n",
       "2    Australia          AUS  GDP per capita, PPP (current international $)   \n",
       "3    Australia          AUS                                     Gini index   \n",
       "4    Australia          AUS          Inflation, consumer prices (annual %)   \n",
       "\n",
       "         Series Code 1998 [YR1998] 1999 [YR1999] 2000 [YR2000] 2001 [YR2001]  \\\n",
       "0  NY.GDP.MKTP.KD.ZG      4.663252      5.027647      3.921518      2.025127   \n",
       "1     NY.GDP.PCAP.CD  21479.114202  20712.669781  21870.415967  19695.729738   \n",
       "2  NY.GDP.PCAP.PP.CD  24378.245311  25485.391446  26541.665321  27645.834854   \n",
       "3        SI.POV.GINI            ..            ..            ..          33.5   \n",
       "4     FP.CPI.TOTL.ZG      0.860135      1.483129      4.457435      4.407135   \n",
       "\n",
       "  2002 [YR2002] 2003 [YR2003]  ... 2013 [YR2013] 2014 [YR2014] 2015 [YR2015]  \\\n",
       "0      3.979634      3.090687  ...      2.606198      2.607401       2.20181   \n",
       "1  20301.843171   23718.13385  ...  68198.419345  62558.243879  56758.869203   \n",
       "2  29032.490956  30121.818418  ...   45936.04931  46914.386708  46292.095439   \n",
       "3            ..          33.5  ...            ..          34.4            ..   \n",
       "4      2.981575      2.732596  ...      2.449889      2.487923      1.508367   \n",
       "\n",
       "  2016 [YR2016] 2017 [YR2017] 2018 [YR2018] 2019 [YR2019] 2020 [YR2020]  \\\n",
       "0      2.779143      2.318709      2.906363      2.181109     -0.334686   \n",
       "1  49918.793933  53954.553495  57273.520475   55049.57192  51868.247557   \n",
       "2  47289.285914  48418.558422  50251.335338  52011.519113  53216.468537   \n",
       "3          33.7            ..          34.3            ..            ..   \n",
       "4      1.276991      1.948647      1.911401      1.610768      0.846906   \n",
       "\n",
       "  2021 [YR2021] 2022 [YR2022]  \n",
       "0      2.111831      4.268946  \n",
       "1  60697.245436  65099.845912  \n",
       "2  56180.984752  63216.149216  \n",
       "3            ..            ..  \n",
       "4       2.86391      6.594097  \n",
       "\n",
       "[5 rows x 29 columns]"
      ]
     },
     "execution_count": 177,
     "metadata": {},
     "output_type": "execute_result"
    }
   ],
   "source": [
    "df_wdi=pd.read_excel(os.path.join(DATAPATH,FILENAME),engine='openpyxl')#,sheet_name=PERIOD_SHEET_MAP[PERIOD],skiprows=5,usecols=[*range(2,22)])\n",
    "print(df_wdi.shape)\n",
    "df_wdi.head()"
   ]
  },
  {
   "cell_type": "markdown",
   "id": "8c2762dd-10db-4952-8b13-04f8bf5c9154",
   "metadata": {},
   "source": [
    "## Data Exploration"
   ]
  },
  {
   "cell_type": "code",
   "execution_count": 178,
   "id": "395b07b0-a962-40db-b2d7-514550cdbc06",
   "metadata": {},
   "outputs": [
    {
     "data": {
      "text/html": [
       "<div>\n",
       "<style scoped>\n",
       "    .dataframe tbody tr th:only-of-type {\n",
       "        vertical-align: middle;\n",
       "    }\n",
       "\n",
       "    .dataframe tbody tr th {\n",
       "        vertical-align: top;\n",
       "    }\n",
       "\n",
       "    .dataframe thead th {\n",
       "        text-align: right;\n",
       "    }\n",
       "</style>\n",
       "<table border=\"1\" class=\"dataframe\">\n",
       "  <thead>\n",
       "    <tr style=\"text-align: right;\">\n",
       "      <th></th>\n",
       "      <th>Country Name</th>\n",
       "      <th>Country Code</th>\n",
       "      <th>Series Name</th>\n",
       "      <th>Series Code</th>\n",
       "      <th>1998 [YR1998]</th>\n",
       "      <th>1999 [YR1999]</th>\n",
       "      <th>2000 [YR2000]</th>\n",
       "      <th>2001 [YR2001]</th>\n",
       "      <th>2002 [YR2002]</th>\n",
       "      <th>2003 [YR2003]</th>\n",
       "      <th>...</th>\n",
       "      <th>2013 [YR2013]</th>\n",
       "      <th>2014 [YR2014]</th>\n",
       "      <th>2015 [YR2015]</th>\n",
       "      <th>2016 [YR2016]</th>\n",
       "      <th>2017 [YR2017]</th>\n",
       "      <th>2018 [YR2018]</th>\n",
       "      <th>2019 [YR2019]</th>\n",
       "      <th>2020 [YR2020]</th>\n",
       "      <th>2021 [YR2021]</th>\n",
       "      <th>2022 [YR2022]</th>\n",
       "    </tr>\n",
       "  </thead>\n",
       "  <tbody>\n",
       "    <tr>\n",
       "      <th>250</th>\n",
       "      <td>United States</td>\n",
       "      <td>USA</td>\n",
       "      <td>External debt stocks (% of GNI)</td>\n",
       "      <td>DT.DOD.DECT.GN.ZS</td>\n",
       "      <td>..</td>\n",
       "      <td>..</td>\n",
       "      <td>..</td>\n",
       "      <td>..</td>\n",
       "      <td>..</td>\n",
       "      <td>..</td>\n",
       "      <td>...</td>\n",
       "      <td>..</td>\n",
       "      <td>..</td>\n",
       "      <td>..</td>\n",
       "      <td>..</td>\n",
       "      <td>..</td>\n",
       "      <td>..</td>\n",
       "      <td>..</td>\n",
       "      <td>..</td>\n",
       "      <td>..</td>\n",
       "      <td>..</td>\n",
       "    </tr>\n",
       "    <tr>\n",
       "      <th>251</th>\n",
       "      <td>United States</td>\n",
       "      <td>USA</td>\n",
       "      <td>Interest payments (% of expense)</td>\n",
       "      <td>GC.XPN.INTP.ZS</td>\n",
       "      <td>14.923262</td>\n",
       "      <td>13.824864</td>\n",
       "      <td>12.862149</td>\n",
       "      <td>16.043792</td>\n",
       "      <td>13.725318</td>\n",
       "      <td>12.324625</td>\n",
       "      <td>...</td>\n",
       "      <td>10.778532</td>\n",
       "      <td>11.029109</td>\n",
       "      <td>10.487588</td>\n",
       "      <td>10.777508</td>\n",
       "      <td>10.978055</td>\n",
       "      <td>11.805574</td>\n",
       "      <td>11.904293</td>\n",
       "      <td>7.714715</td>\n",
       "      <td>7.887938</td>\n",
       "      <td>11.5075</td>\n",
       "    </tr>\n",
       "    <tr>\n",
       "      <th>252</th>\n",
       "      <td>United States</td>\n",
       "      <td>USA</td>\n",
       "      <td>Interest payments (% of revenue)</td>\n",
       "      <td>GC.XPN.INTP.RV.ZS</td>\n",
       "      <td>14.089837</td>\n",
       "      <td>12.652408</td>\n",
       "      <td>11.205826</td>\n",
       "      <td>16.040285</td>\n",
       "      <td>15.852691</td>\n",
       "      <td>15.171976</td>\n",
       "      <td>...</td>\n",
       "      <td>13.156018</td>\n",
       "      <td>13.21846</td>\n",
       "      <td>12.350295</td>\n",
       "      <td>13.026974</td>\n",
       "      <td>12.650508</td>\n",
       "      <td>14.970298</td>\n",
       "      <td>15.496675</td>\n",
       "      <td>13.755731</td>\n",
       "      <td>12.999282</td>\n",
       "      <td>14.404838</td>\n",
       "    </tr>\n",
       "    <tr>\n",
       "      <th>253</th>\n",
       "      <td>United States</td>\n",
       "      <td>USA</td>\n",
       "      <td>Interest payments (current LCU)</td>\n",
       "      <td>GC.XPN.INTP.CN</td>\n",
       "      <td>253200000000</td>\n",
       "      <td>241060000000</td>\n",
       "      <td>236360000000</td>\n",
       "      <td>331225600000</td>\n",
       "      <td>301271300000</td>\n",
       "      <td>291720600000</td>\n",
       "      <td>...</td>\n",
       "      <td>416325900000</td>\n",
       "      <td>439092300000</td>\n",
       "      <td>429282400000</td>\n",
       "      <td>454303700000</td>\n",
       "      <td>476695300000</td>\n",
       "      <td>540629400000</td>\n",
       "      <td>577363900000</td>\n",
       "      <td>521387100000</td>\n",
       "      <td>574570400000</td>\n",
       "      <td>725687500000</td>\n",
       "    </tr>\n",
       "    <tr>\n",
       "      <th>254</th>\n",
       "      <td>United States</td>\n",
       "      <td>USA</td>\n",
       "      <td>Real interest rate (%)</td>\n",
       "      <td>FR.INR.RINR</td>\n",
       "      <td>7.148178</td>\n",
       "      <td>6.493426</td>\n",
       "      <td>6.813424</td>\n",
       "      <td>4.565848</td>\n",
       "      <td>3.068643</td>\n",
       "      <td>2.107311</td>\n",
       "      <td>...</td>\n",
       "      <td>1.473254</td>\n",
       "      <td>1.354776</td>\n",
       "      <td>2.237075</td>\n",
       "      <td>2.48453</td>\n",
       "      <td>2.156099</td>\n",
       "      <td>2.441415</td>\n",
       "      <td>3.42709</td>\n",
       "      <td>2.210411</td>\n",
       "      <td>-1.189357</td>\n",
       "      <td>..</td>\n",
       "    </tr>\n",
       "    <tr>\n",
       "      <th>255</th>\n",
       "      <td>NaN</td>\n",
       "      <td>NaN</td>\n",
       "      <td>NaN</td>\n",
       "      <td>NaN</td>\n",
       "      <td>NaN</td>\n",
       "      <td>NaN</td>\n",
       "      <td>NaN</td>\n",
       "      <td>NaN</td>\n",
       "      <td>NaN</td>\n",
       "      <td>NaN</td>\n",
       "      <td>...</td>\n",
       "      <td>NaN</td>\n",
       "      <td>NaN</td>\n",
       "      <td>NaN</td>\n",
       "      <td>NaN</td>\n",
       "      <td>NaN</td>\n",
       "      <td>NaN</td>\n",
       "      <td>NaN</td>\n",
       "      <td>NaN</td>\n",
       "      <td>NaN</td>\n",
       "      <td>NaN</td>\n",
       "    </tr>\n",
       "    <tr>\n",
       "      <th>256</th>\n",
       "      <td>NaN</td>\n",
       "      <td>NaN</td>\n",
       "      <td>NaN</td>\n",
       "      <td>NaN</td>\n",
       "      <td>NaN</td>\n",
       "      <td>NaN</td>\n",
       "      <td>NaN</td>\n",
       "      <td>NaN</td>\n",
       "      <td>NaN</td>\n",
       "      <td>NaN</td>\n",
       "      <td>...</td>\n",
       "      <td>NaN</td>\n",
       "      <td>NaN</td>\n",
       "      <td>NaN</td>\n",
       "      <td>NaN</td>\n",
       "      <td>NaN</td>\n",
       "      <td>NaN</td>\n",
       "      <td>NaN</td>\n",
       "      <td>NaN</td>\n",
       "      <td>NaN</td>\n",
       "      <td>NaN</td>\n",
       "    </tr>\n",
       "    <tr>\n",
       "      <th>257</th>\n",
       "      <td>NaN</td>\n",
       "      <td>NaN</td>\n",
       "      <td>NaN</td>\n",
       "      <td>NaN</td>\n",
       "      <td>NaN</td>\n",
       "      <td>NaN</td>\n",
       "      <td>NaN</td>\n",
       "      <td>NaN</td>\n",
       "      <td>NaN</td>\n",
       "      <td>NaN</td>\n",
       "      <td>...</td>\n",
       "      <td>NaN</td>\n",
       "      <td>NaN</td>\n",
       "      <td>NaN</td>\n",
       "      <td>NaN</td>\n",
       "      <td>NaN</td>\n",
       "      <td>NaN</td>\n",
       "      <td>NaN</td>\n",
       "      <td>NaN</td>\n",
       "      <td>NaN</td>\n",
       "      <td>NaN</td>\n",
       "    </tr>\n",
       "    <tr>\n",
       "      <th>258</th>\n",
       "      <td>Data from database: World Development Indicators</td>\n",
       "      <td>NaN</td>\n",
       "      <td>NaN</td>\n",
       "      <td>NaN</td>\n",
       "      <td>NaN</td>\n",
       "      <td>NaN</td>\n",
       "      <td>NaN</td>\n",
       "      <td>NaN</td>\n",
       "      <td>NaN</td>\n",
       "      <td>NaN</td>\n",
       "      <td>...</td>\n",
       "      <td>NaN</td>\n",
       "      <td>NaN</td>\n",
       "      <td>NaN</td>\n",
       "      <td>NaN</td>\n",
       "      <td>NaN</td>\n",
       "      <td>NaN</td>\n",
       "      <td>NaN</td>\n",
       "      <td>NaN</td>\n",
       "      <td>NaN</td>\n",
       "      <td>NaN</td>\n",
       "    </tr>\n",
       "    <tr>\n",
       "      <th>259</th>\n",
       "      <td>Last Updated: 12/18/2023</td>\n",
       "      <td>NaN</td>\n",
       "      <td>NaN</td>\n",
       "      <td>NaN</td>\n",
       "      <td>NaN</td>\n",
       "      <td>NaN</td>\n",
       "      <td>NaN</td>\n",
       "      <td>NaN</td>\n",
       "      <td>NaN</td>\n",
       "      <td>NaN</td>\n",
       "      <td>...</td>\n",
       "      <td>NaN</td>\n",
       "      <td>NaN</td>\n",
       "      <td>NaN</td>\n",
       "      <td>NaN</td>\n",
       "      <td>NaN</td>\n",
       "      <td>NaN</td>\n",
       "      <td>NaN</td>\n",
       "      <td>NaN</td>\n",
       "      <td>NaN</td>\n",
       "      <td>NaN</td>\n",
       "    </tr>\n",
       "  </tbody>\n",
       "</table>\n",
       "<p>10 rows × 29 columns</p>\n",
       "</div>"
      ],
      "text/plain": [
       "                                         Country Name Country Code  \\\n",
       "250                                     United States          USA   \n",
       "251                                     United States          USA   \n",
       "252                                     United States          USA   \n",
       "253                                     United States          USA   \n",
       "254                                     United States          USA   \n",
       "255                                               NaN          NaN   \n",
       "256                                               NaN          NaN   \n",
       "257                                               NaN          NaN   \n",
       "258  Data from database: World Development Indicators          NaN   \n",
       "259                          Last Updated: 12/18/2023          NaN   \n",
       "\n",
       "                          Series Name        Series Code 1998 [YR1998]  \\\n",
       "250   External debt stocks (% of GNI)  DT.DOD.DECT.GN.ZS            ..   \n",
       "251  Interest payments (% of expense)     GC.XPN.INTP.ZS     14.923262   \n",
       "252  Interest payments (% of revenue)  GC.XPN.INTP.RV.ZS     14.089837   \n",
       "253   Interest payments (current LCU)     GC.XPN.INTP.CN  253200000000   \n",
       "254            Real interest rate (%)        FR.INR.RINR      7.148178   \n",
       "255                               NaN                NaN           NaN   \n",
       "256                               NaN                NaN           NaN   \n",
       "257                               NaN                NaN           NaN   \n",
       "258                               NaN                NaN           NaN   \n",
       "259                               NaN                NaN           NaN   \n",
       "\n",
       "    1999 [YR1999] 2000 [YR2000] 2001 [YR2001] 2002 [YR2002] 2003 [YR2003]  \\\n",
       "250            ..            ..            ..            ..            ..   \n",
       "251     13.824864     12.862149     16.043792     13.725318     12.324625   \n",
       "252     12.652408     11.205826     16.040285     15.852691     15.171976   \n",
       "253  241060000000  236360000000  331225600000  301271300000  291720600000   \n",
       "254      6.493426      6.813424      4.565848      3.068643      2.107311   \n",
       "255           NaN           NaN           NaN           NaN           NaN   \n",
       "256           NaN           NaN           NaN           NaN           NaN   \n",
       "257           NaN           NaN           NaN           NaN           NaN   \n",
       "258           NaN           NaN           NaN           NaN           NaN   \n",
       "259           NaN           NaN           NaN           NaN           NaN   \n",
       "\n",
       "     ... 2013 [YR2013] 2014 [YR2014] 2015 [YR2015] 2016 [YR2016]  \\\n",
       "250  ...            ..            ..            ..            ..   \n",
       "251  ...     10.778532     11.029109     10.487588     10.777508   \n",
       "252  ...     13.156018      13.21846     12.350295     13.026974   \n",
       "253  ...  416325900000  439092300000  429282400000  454303700000   \n",
       "254  ...      1.473254      1.354776      2.237075       2.48453   \n",
       "255  ...           NaN           NaN           NaN           NaN   \n",
       "256  ...           NaN           NaN           NaN           NaN   \n",
       "257  ...           NaN           NaN           NaN           NaN   \n",
       "258  ...           NaN           NaN           NaN           NaN   \n",
       "259  ...           NaN           NaN           NaN           NaN   \n",
       "\n",
       "    2017 [YR2017] 2018 [YR2018] 2019 [YR2019] 2020 [YR2020] 2021 [YR2021]  \\\n",
       "250            ..            ..            ..            ..            ..   \n",
       "251     10.978055     11.805574     11.904293      7.714715      7.887938   \n",
       "252     12.650508     14.970298     15.496675     13.755731     12.999282   \n",
       "253  476695300000  540629400000  577363900000  521387100000  574570400000   \n",
       "254      2.156099      2.441415       3.42709      2.210411     -1.189357   \n",
       "255           NaN           NaN           NaN           NaN           NaN   \n",
       "256           NaN           NaN           NaN           NaN           NaN   \n",
       "257           NaN           NaN           NaN           NaN           NaN   \n",
       "258           NaN           NaN           NaN           NaN           NaN   \n",
       "259           NaN           NaN           NaN           NaN           NaN   \n",
       "\n",
       "    2022 [YR2022]  \n",
       "250            ..  \n",
       "251       11.5075  \n",
       "252     14.404838  \n",
       "253  725687500000  \n",
       "254            ..  \n",
       "255           NaN  \n",
       "256           NaN  \n",
       "257           NaN  \n",
       "258           NaN  \n",
       "259           NaN  \n",
       "\n",
       "[10 rows x 29 columns]"
      ]
     },
     "execution_count": 178,
     "metadata": {},
     "output_type": "execute_result"
    }
   ],
   "source": [
    "df_wdi.tail(10)"
   ]
  },
  {
   "cell_type": "code",
   "execution_count": 179,
   "id": "5e8b67bc-1610-4453-8ad6-725472d00f12",
   "metadata": {},
   "outputs": [
    {
     "data": {
      "text/html": [
       "<div>\n",
       "<style scoped>\n",
       "    .dataframe tbody tr th:only-of-type {\n",
       "        vertical-align: middle;\n",
       "    }\n",
       "\n",
       "    .dataframe tbody tr th {\n",
       "        vertical-align: top;\n",
       "    }\n",
       "\n",
       "    .dataframe thead th {\n",
       "        text-align: right;\n",
       "    }\n",
       "</style>\n",
       "<table border=\"1\" class=\"dataframe\">\n",
       "  <thead>\n",
       "    <tr style=\"text-align: right;\">\n",
       "      <th></th>\n",
       "      <th>Country Name</th>\n",
       "      <th>Country Code</th>\n",
       "      <th>Series Name</th>\n",
       "      <th>Series Code</th>\n",
       "      <th>1998 [YR1998]</th>\n",
       "      <th>1999 [YR1999]</th>\n",
       "      <th>2000 [YR2000]</th>\n",
       "      <th>2001 [YR2001]</th>\n",
       "      <th>2002 [YR2002]</th>\n",
       "      <th>2003 [YR2003]</th>\n",
       "      <th>...</th>\n",
       "      <th>2013 [YR2013]</th>\n",
       "      <th>2014 [YR2014]</th>\n",
       "      <th>2015 [YR2015]</th>\n",
       "      <th>2016 [YR2016]</th>\n",
       "      <th>2017 [YR2017]</th>\n",
       "      <th>2018 [YR2018]</th>\n",
       "      <th>2019 [YR2019]</th>\n",
       "      <th>2020 [YR2020]</th>\n",
       "      <th>2021 [YR2021]</th>\n",
       "      <th>2022 [YR2022]</th>\n",
       "    </tr>\n",
       "  </thead>\n",
       "  <tbody>\n",
       "    <tr>\n",
       "      <th>250</th>\n",
       "      <td>United States</td>\n",
       "      <td>USA</td>\n",
       "      <td>External debt stocks (% of GNI)</td>\n",
       "      <td>DT.DOD.DECT.GN.ZS</td>\n",
       "      <td>..</td>\n",
       "      <td>..</td>\n",
       "      <td>..</td>\n",
       "      <td>..</td>\n",
       "      <td>..</td>\n",
       "      <td>..</td>\n",
       "      <td>...</td>\n",
       "      <td>..</td>\n",
       "      <td>..</td>\n",
       "      <td>..</td>\n",
       "      <td>..</td>\n",
       "      <td>..</td>\n",
       "      <td>..</td>\n",
       "      <td>..</td>\n",
       "      <td>..</td>\n",
       "      <td>..</td>\n",
       "      <td>..</td>\n",
       "    </tr>\n",
       "    <tr>\n",
       "      <th>251</th>\n",
       "      <td>United States</td>\n",
       "      <td>USA</td>\n",
       "      <td>Interest payments (% of expense)</td>\n",
       "      <td>GC.XPN.INTP.ZS</td>\n",
       "      <td>14.923262</td>\n",
       "      <td>13.824864</td>\n",
       "      <td>12.862149</td>\n",
       "      <td>16.043792</td>\n",
       "      <td>13.725318</td>\n",
       "      <td>12.324625</td>\n",
       "      <td>...</td>\n",
       "      <td>10.778532</td>\n",
       "      <td>11.029109</td>\n",
       "      <td>10.487588</td>\n",
       "      <td>10.777508</td>\n",
       "      <td>10.978055</td>\n",
       "      <td>11.805574</td>\n",
       "      <td>11.904293</td>\n",
       "      <td>7.714715</td>\n",
       "      <td>7.887938</td>\n",
       "      <td>11.5075</td>\n",
       "    </tr>\n",
       "    <tr>\n",
       "      <th>252</th>\n",
       "      <td>United States</td>\n",
       "      <td>USA</td>\n",
       "      <td>Interest payments (% of revenue)</td>\n",
       "      <td>GC.XPN.INTP.RV.ZS</td>\n",
       "      <td>14.089837</td>\n",
       "      <td>12.652408</td>\n",
       "      <td>11.205826</td>\n",
       "      <td>16.040285</td>\n",
       "      <td>15.852691</td>\n",
       "      <td>15.171976</td>\n",
       "      <td>...</td>\n",
       "      <td>13.156018</td>\n",
       "      <td>13.21846</td>\n",
       "      <td>12.350295</td>\n",
       "      <td>13.026974</td>\n",
       "      <td>12.650508</td>\n",
       "      <td>14.970298</td>\n",
       "      <td>15.496675</td>\n",
       "      <td>13.755731</td>\n",
       "      <td>12.999282</td>\n",
       "      <td>14.404838</td>\n",
       "    </tr>\n",
       "    <tr>\n",
       "      <th>253</th>\n",
       "      <td>United States</td>\n",
       "      <td>USA</td>\n",
       "      <td>Interest payments (current LCU)</td>\n",
       "      <td>GC.XPN.INTP.CN</td>\n",
       "      <td>253200000000</td>\n",
       "      <td>241060000000</td>\n",
       "      <td>236360000000</td>\n",
       "      <td>331225600000</td>\n",
       "      <td>301271300000</td>\n",
       "      <td>291720600000</td>\n",
       "      <td>...</td>\n",
       "      <td>416325900000</td>\n",
       "      <td>439092300000</td>\n",
       "      <td>429282400000</td>\n",
       "      <td>454303700000</td>\n",
       "      <td>476695300000</td>\n",
       "      <td>540629400000</td>\n",
       "      <td>577363900000</td>\n",
       "      <td>521387100000</td>\n",
       "      <td>574570400000</td>\n",
       "      <td>725687500000</td>\n",
       "    </tr>\n",
       "    <tr>\n",
       "      <th>254</th>\n",
       "      <td>United States</td>\n",
       "      <td>USA</td>\n",
       "      <td>Real interest rate (%)</td>\n",
       "      <td>FR.INR.RINR</td>\n",
       "      <td>7.148178</td>\n",
       "      <td>6.493426</td>\n",
       "      <td>6.813424</td>\n",
       "      <td>4.565848</td>\n",
       "      <td>3.068643</td>\n",
       "      <td>2.107311</td>\n",
       "      <td>...</td>\n",
       "      <td>1.473254</td>\n",
       "      <td>1.354776</td>\n",
       "      <td>2.237075</td>\n",
       "      <td>2.48453</td>\n",
       "      <td>2.156099</td>\n",
       "      <td>2.441415</td>\n",
       "      <td>3.42709</td>\n",
       "      <td>2.210411</td>\n",
       "      <td>-1.189357</td>\n",
       "      <td>..</td>\n",
       "    </tr>\n",
       "  </tbody>\n",
       "</table>\n",
       "<p>5 rows × 29 columns</p>\n",
       "</div>"
      ],
      "text/plain": [
       "      Country Name Country Code                       Series Name  \\\n",
       "250  United States          USA   External debt stocks (% of GNI)   \n",
       "251  United States          USA  Interest payments (% of expense)   \n",
       "252  United States          USA  Interest payments (% of revenue)   \n",
       "253  United States          USA   Interest payments (current LCU)   \n",
       "254  United States          USA            Real interest rate (%)   \n",
       "\n",
       "           Series Code 1998 [YR1998] 1999 [YR1999] 2000 [YR2000]  \\\n",
       "250  DT.DOD.DECT.GN.ZS            ..            ..            ..   \n",
       "251     GC.XPN.INTP.ZS     14.923262     13.824864     12.862149   \n",
       "252  GC.XPN.INTP.RV.ZS     14.089837     12.652408     11.205826   \n",
       "253     GC.XPN.INTP.CN  253200000000  241060000000  236360000000   \n",
       "254        FR.INR.RINR      7.148178      6.493426      6.813424   \n",
       "\n",
       "    2001 [YR2001] 2002 [YR2002] 2003 [YR2003]  ... 2013 [YR2013]  \\\n",
       "250            ..            ..            ..  ...            ..   \n",
       "251     16.043792     13.725318     12.324625  ...     10.778532   \n",
       "252     16.040285     15.852691     15.171976  ...     13.156018   \n",
       "253  331225600000  301271300000  291720600000  ...  416325900000   \n",
       "254      4.565848      3.068643      2.107311  ...      1.473254   \n",
       "\n",
       "    2014 [YR2014] 2015 [YR2015] 2016 [YR2016] 2017 [YR2017] 2018 [YR2018]  \\\n",
       "250            ..            ..            ..            ..            ..   \n",
       "251     11.029109     10.487588     10.777508     10.978055     11.805574   \n",
       "252      13.21846     12.350295     13.026974     12.650508     14.970298   \n",
       "253  439092300000  429282400000  454303700000  476695300000  540629400000   \n",
       "254      1.354776      2.237075       2.48453      2.156099      2.441415   \n",
       "\n",
       "    2019 [YR2019] 2020 [YR2020] 2021 [YR2021] 2022 [YR2022]  \n",
       "250            ..            ..            ..            ..  \n",
       "251     11.904293      7.714715      7.887938       11.5075  \n",
       "252     15.496675     13.755731     12.999282     14.404838  \n",
       "253  577363900000  521387100000  574570400000  725687500000  \n",
       "254       3.42709      2.210411     -1.189357            ..  \n",
       "\n",
       "[5 rows x 29 columns]"
      ]
     },
     "execution_count": 179,
     "metadata": {},
     "output_type": "execute_result"
    }
   ],
   "source": [
    "df_wdi.drop([255,256,257,258,259],axis=0,inplace=True)\n",
    "df_wdi.tail()"
   ]
  },
  {
   "cell_type": "code",
   "execution_count": 180,
   "id": "2b99e5f3-5c6f-4be0-b728-46b672b23f19",
   "metadata": {},
   "outputs": [
    {
     "data": {
      "text/plain": [
       "array(['Australia', 'Canada', 'Germany', 'Netherlands', 'Singapore',\n",
       "       'Switzerland', 'Sweden', 'United Arab Emirates', 'Norway',\n",
       "       'Pakistan', 'India', 'China', 'Japan', 'United Kingdom',\n",
       "       'United States'], dtype=object)"
      ]
     },
     "execution_count": 180,
     "metadata": {},
     "output_type": "execute_result"
    }
   ],
   "source": [
    "df_wdi['Country Name'].unique()"
   ]
  },
  {
   "cell_type": "code",
   "execution_count": 181,
   "id": "7e4db77b-cd07-430b-8023-74c4ec64b5a6",
   "metadata": {},
   "outputs": [
    {
     "data": {
      "text/plain": [
       "['GDP growth (annual %)',\n",
       " 'GDP per capita (current US$)',\n",
       " 'GDP per capita, PPP (current international $)',\n",
       " 'Gini index',\n",
       " 'Inflation, consumer prices (annual %)',\n",
       " 'Population growth (annual %)',\n",
       " 'Age dependency ratio, old (% of working-age population)',\n",
       " 'Age dependency ratio, young (% of working-age population)',\n",
       " 'General government final consumption expenditure (% of GDP)',\n",
       " 'Tax revenue (% of GDP)',\n",
       " 'Total debt service (% of GNI)',\n",
       " 'Central government debt, total (% of GDP)',\n",
       " 'External debt stocks (% of GNI)',\n",
       " 'Interest payments (% of expense)',\n",
       " 'Interest payments (% of revenue)',\n",
       " 'Interest payments (current LCU)',\n",
       " 'Real interest rate (%)']"
      ]
     },
     "execution_count": 181,
     "metadata": {},
     "output_type": "execute_result"
    }
   ],
   "source": [
    "indicators=df_wdi['Series Name'].unique().tolist()\n",
    "indicators"
   ]
  },
  {
   "cell_type": "code",
   "execution_count": 182,
   "id": "a9e7fdce-a96c-4148-adfd-13ab6b84cb2b",
   "metadata": {},
   "outputs": [
    {
     "name": "stdout",
     "output_type": "stream",
     "text": [
      "(17, 29)\n"
     ]
    },
    {
     "data": {
      "text/html": [
       "<div>\n",
       "<style scoped>\n",
       "    .dataframe tbody tr th:only-of-type {\n",
       "        vertical-align: middle;\n",
       "    }\n",
       "\n",
       "    .dataframe tbody tr th {\n",
       "        vertical-align: top;\n",
       "    }\n",
       "\n",
       "    .dataframe thead th {\n",
       "        text-align: right;\n",
       "    }\n",
       "</style>\n",
       "<table border=\"1\" class=\"dataframe\">\n",
       "  <thead>\n",
       "    <tr style=\"text-align: right;\">\n",
       "      <th></th>\n",
       "      <th>Country Name</th>\n",
       "      <th>Country Code</th>\n",
       "      <th>Series Name</th>\n",
       "      <th>Series Code</th>\n",
       "      <th>1998 [YR1998]</th>\n",
       "      <th>1999 [YR1999]</th>\n",
       "      <th>2000 [YR2000]</th>\n",
       "      <th>2001 [YR2001]</th>\n",
       "      <th>2002 [YR2002]</th>\n",
       "      <th>2003 [YR2003]</th>\n",
       "      <th>...</th>\n",
       "      <th>2013 [YR2013]</th>\n",
       "      <th>2014 [YR2014]</th>\n",
       "      <th>2015 [YR2015]</th>\n",
       "      <th>2016 [YR2016]</th>\n",
       "      <th>2017 [YR2017]</th>\n",
       "      <th>2018 [YR2018]</th>\n",
       "      <th>2019 [YR2019]</th>\n",
       "      <th>2020 [YR2020]</th>\n",
       "      <th>2021 [YR2021]</th>\n",
       "      <th>2022 [YR2022]</th>\n",
       "    </tr>\n",
       "  </thead>\n",
       "  <tbody>\n",
       "    <tr>\n",
       "      <th>85</th>\n",
       "      <td>Switzerland</td>\n",
       "      <td>CHE</td>\n",
       "      <td>GDP growth (annual %)</td>\n",
       "      <td>NY.GDP.MKTP.KD.ZG</td>\n",
       "      <td>3.029969</td>\n",
       "      <td>1.662701</td>\n",
       "      <td>3.95872</td>\n",
       "      <td>1.575662</td>\n",
       "      <td>-0.073217</td>\n",
       "      <td>-0.032398</td>\n",
       "      <td>...</td>\n",
       "      <td>1.792144</td>\n",
       "      <td>2.349881</td>\n",
       "      <td>1.644628</td>\n",
       "      <td>2.06869</td>\n",
       "      <td>1.3628</td>\n",
       "      <td>2.860446</td>\n",
       "      <td>1.141982</td>\n",
       "      <td>-2.141737</td>\n",
       "      <td>5.391888</td>\n",
       "      <td>2.568328</td>\n",
       "    </tr>\n",
       "    <tr>\n",
       "      <th>86</th>\n",
       "      <td>Switzerland</td>\n",
       "      <td>CHE</td>\n",
       "      <td>GDP per capita (current US$)</td>\n",
       "      <td>NY.GDP.PCAP.CD</td>\n",
       "      <td>42680.586732</td>\n",
       "      <td>41695.691291</td>\n",
       "      <td>38865.02194</td>\n",
       "      <td>39638.791106</td>\n",
       "      <td>42458.738468</td>\n",
       "      <td>49335.745629</td>\n",
       "      <td>...</td>\n",
       "      <td>87304.330581</td>\n",
       "      <td>88724.99094</td>\n",
       "      <td>83806.4476</td>\n",
       "      <td>82153.074545</td>\n",
       "      <td>82254.376927</td>\n",
       "      <td>85217.369151</td>\n",
       "      <td>84121.93103</td>\n",
       "      <td>85897.784334</td>\n",
       "      <td>93446.434452</td>\n",
       "      <td>93259.905718</td>\n",
       "    </tr>\n",
       "    <tr>\n",
       "      <th>87</th>\n",
       "      <td>Switzerland</td>\n",
       "      <td>CHE</td>\n",
       "      <td>GDP per capita, PPP (current international $)</td>\n",
       "      <td>NY.GDP.PCAP.PP.CD</td>\n",
       "      <td>33858.672113</td>\n",
       "      <td>34742.631863</td>\n",
       "      <td>36697.628041</td>\n",
       "      <td>37819.014357</td>\n",
       "      <td>38704.95846</td>\n",
       "      <td>38737.127244</td>\n",
       "      <td>...</td>\n",
       "      <td>61656.466171</td>\n",
       "      <td>63417.043716</td>\n",
       "      <td>65265.045734</td>\n",
       "      <td>67350.751875</td>\n",
       "      <td>68193.505494</td>\n",
       "      <td>70688.818749</td>\n",
       "      <td>72668.747107</td>\n",
       "      <td>71010.433495</td>\n",
       "      <td>77181.375348</td>\n",
       "      <td>84649.939899</td>\n",
       "    </tr>\n",
       "    <tr>\n",
       "      <th>88</th>\n",
       "      <td>Switzerland</td>\n",
       "      <td>CHE</td>\n",
       "      <td>Gini index</td>\n",
       "      <td>SI.POV.GINI</td>\n",
       "      <td>..</td>\n",
       "      <td>..</td>\n",
       "      <td>33.4</td>\n",
       "      <td>..</td>\n",
       "      <td>31.7</td>\n",
       "      <td>..</td>\n",
       "      <td>...</td>\n",
       "      <td>32.5</td>\n",
       "      <td>32.5</td>\n",
       "      <td>32.3</td>\n",
       "      <td>33</td>\n",
       "      <td>32.7</td>\n",
       "      <td>33.1</td>\n",
       "      <td>..</td>\n",
       "      <td>..</td>\n",
       "      <td>..</td>\n",
       "      <td>..</td>\n",
       "    </tr>\n",
       "    <tr>\n",
       "      <th>89</th>\n",
       "      <td>Switzerland</td>\n",
       "      <td>CHE</td>\n",
       "      <td>Inflation, consumer prices (annual %)</td>\n",
       "      <td>FP.CPI.TOTL.ZG</td>\n",
       "      <td>0.017938</td>\n",
       "      <td>0.806444</td>\n",
       "      <td>1.558529</td>\n",
       "      <td>0.98902</td>\n",
       "      <td>0.642712</td>\n",
       "      <td>0.638273</td>\n",
       "      <td>...</td>\n",
       "      <td>-0.217323</td>\n",
       "      <td>-0.013203</td>\n",
       "      <td>-1.143909</td>\n",
       "      <td>-0.434619</td>\n",
       "      <td>0.533788</td>\n",
       "      <td>0.936335</td>\n",
       "      <td>0.362886</td>\n",
       "      <td>-0.725875</td>\n",
       "      <td>0.581814</td>\n",
       "      <td>2.835028</td>\n",
       "    </tr>\n",
       "  </tbody>\n",
       "</table>\n",
       "<p>5 rows × 29 columns</p>\n",
       "</div>"
      ],
      "text/plain": [
       "   Country Name Country Code                                    Series Name  \\\n",
       "85  Switzerland          CHE                          GDP growth (annual %)   \n",
       "86  Switzerland          CHE                   GDP per capita (current US$)   \n",
       "87  Switzerland          CHE  GDP per capita, PPP (current international $)   \n",
       "88  Switzerland          CHE                                     Gini index   \n",
       "89  Switzerland          CHE          Inflation, consumer prices (annual %)   \n",
       "\n",
       "          Series Code 1998 [YR1998] 1999 [YR1999] 2000 [YR2000] 2001 [YR2001]  \\\n",
       "85  NY.GDP.MKTP.KD.ZG      3.029969      1.662701       3.95872      1.575662   \n",
       "86     NY.GDP.PCAP.CD  42680.586732  41695.691291   38865.02194  39638.791106   \n",
       "87  NY.GDP.PCAP.PP.CD  33858.672113  34742.631863  36697.628041  37819.014357   \n",
       "88        SI.POV.GINI            ..            ..          33.4            ..   \n",
       "89     FP.CPI.TOTL.ZG      0.017938      0.806444      1.558529       0.98902   \n",
       "\n",
       "   2002 [YR2002] 2003 [YR2003]  ... 2013 [YR2013] 2014 [YR2014] 2015 [YR2015]  \\\n",
       "85     -0.073217     -0.032398  ...      1.792144      2.349881      1.644628   \n",
       "86  42458.738468  49335.745629  ...  87304.330581   88724.99094    83806.4476   \n",
       "87   38704.95846  38737.127244  ...  61656.466171  63417.043716  65265.045734   \n",
       "88          31.7            ..  ...          32.5          32.5          32.3   \n",
       "89      0.642712      0.638273  ...     -0.217323     -0.013203     -1.143909   \n",
       "\n",
       "   2016 [YR2016] 2017 [YR2017] 2018 [YR2018] 2019 [YR2019] 2020 [YR2020]  \\\n",
       "85       2.06869        1.3628      2.860446      1.141982     -2.141737   \n",
       "86  82153.074545  82254.376927  85217.369151   84121.93103  85897.784334   \n",
       "87  67350.751875  68193.505494  70688.818749  72668.747107  71010.433495   \n",
       "88            33          32.7          33.1            ..            ..   \n",
       "89     -0.434619      0.533788      0.936335      0.362886     -0.725875   \n",
       "\n",
       "   2021 [YR2021] 2022 [YR2022]  \n",
       "85      5.391888      2.568328  \n",
       "86  93446.434452  93259.905718  \n",
       "87  77181.375348  84649.939899  \n",
       "88            ..            ..  \n",
       "89      0.581814      2.835028  \n",
       "\n",
       "[5 rows x 29 columns]"
      ]
     },
     "execution_count": 182,
     "metadata": {},
     "output_type": "execute_result"
    }
   ],
   "source": [
    "df_swi=df_wdi[df_wdi['Country Name']=='Switzerland']\n",
    "print(df_swi.shape)\n",
    "df_swi.head()"
   ]
  },
  {
   "cell_type": "code",
   "execution_count": 183,
   "id": "075a50d4-ba6f-4a85-af31-a910ceb48e9c",
   "metadata": {},
   "outputs": [
    {
     "data": {
      "text/html": [
       "<div>\n",
       "<style scoped>\n",
       "    .dataframe tbody tr th:only-of-type {\n",
       "        vertical-align: middle;\n",
       "    }\n",
       "\n",
       "    .dataframe tbody tr th {\n",
       "        vertical-align: top;\n",
       "    }\n",
       "\n",
       "    .dataframe thead th {\n",
       "        text-align: right;\n",
       "    }\n",
       "</style>\n",
       "<table border=\"1\" class=\"dataframe\">\n",
       "  <thead>\n",
       "    <tr style=\"text-align: right;\">\n",
       "      <th></th>\n",
       "      <th>Country Name</th>\n",
       "      <th>Country Code</th>\n",
       "      <th>Series Name</th>\n",
       "      <th>Series Code</th>\n",
       "      <th>1998 [YR1998]</th>\n",
       "      <th>1999 [YR1999]</th>\n",
       "      <th>2000 [YR2000]</th>\n",
       "      <th>2001 [YR2001]</th>\n",
       "      <th>2002 [YR2002]</th>\n",
       "      <th>2003 [YR2003]</th>\n",
       "      <th>...</th>\n",
       "      <th>2013 [YR2013]</th>\n",
       "      <th>2014 [YR2014]</th>\n",
       "      <th>2015 [YR2015]</th>\n",
       "      <th>2016 [YR2016]</th>\n",
       "      <th>2017 [YR2017]</th>\n",
       "      <th>2018 [YR2018]</th>\n",
       "      <th>2019 [YR2019]</th>\n",
       "      <th>2020 [YR2020]</th>\n",
       "      <th>2021 [YR2021]</th>\n",
       "      <th>2022 [YR2022]</th>\n",
       "    </tr>\n",
       "  </thead>\n",
       "  <tbody>\n",
       "    <tr>\n",
       "      <th>97</th>\n",
       "      <td>Switzerland</td>\n",
       "      <td>CHE</td>\n",
       "      <td>External debt stocks (% of GNI)</td>\n",
       "      <td>DT.DOD.DECT.GN.ZS</td>\n",
       "      <td>..</td>\n",
       "      <td>..</td>\n",
       "      <td>..</td>\n",
       "      <td>..</td>\n",
       "      <td>..</td>\n",
       "      <td>..</td>\n",
       "      <td>...</td>\n",
       "      <td>..</td>\n",
       "      <td>..</td>\n",
       "      <td>..</td>\n",
       "      <td>..</td>\n",
       "      <td>..</td>\n",
       "      <td>..</td>\n",
       "      <td>..</td>\n",
       "      <td>..</td>\n",
       "      <td>..</td>\n",
       "      <td>..</td>\n",
       "    </tr>\n",
       "    <tr>\n",
       "      <th>98</th>\n",
       "      <td>Switzerland</td>\n",
       "      <td>CHE</td>\n",
       "      <td>Interest payments (% of expense)</td>\n",
       "      <td>GC.XPN.INTP.ZS</td>\n",
       "      <td>4.279203</td>\n",
       "      <td>4.320238</td>\n",
       "      <td>4.185659</td>\n",
       "      <td>4.174662</td>\n",
       "      <td>3.718412</td>\n",
       "      <td>3.458661</td>\n",
       "      <td>...</td>\n",
       "      <td>1.951637</td>\n",
       "      <td>1.803678</td>\n",
       "      <td>1.688761</td>\n",
       "      <td>1.458035</td>\n",
       "      <td>1.229416</td>\n",
       "      <td>1.003485</td>\n",
       "      <td>0.90233</td>\n",
       "      <td>0.677314</td>\n",
       "      <td>0.577598</td>\n",
       "      <td>..</td>\n",
       "    </tr>\n",
       "    <tr>\n",
       "      <th>99</th>\n",
       "      <td>Switzerland</td>\n",
       "      <td>CHE</td>\n",
       "      <td>Interest payments (% of revenue)</td>\n",
       "      <td>GC.XPN.INTP.RV.ZS</td>\n",
       "      <td>4.515961</td>\n",
       "      <td>4.782055</td>\n",
       "      <td>4.19249</td>\n",
       "      <td>4.155447</td>\n",
       "      <td>4.090076</td>\n",
       "      <td>3.620642</td>\n",
       "      <td>...</td>\n",
       "      <td>1.881137</td>\n",
       "      <td>1.754739</td>\n",
       "      <td>1.619426</td>\n",
       "      <td>1.430261</td>\n",
       "      <td>1.157879</td>\n",
       "      <td>0.942717</td>\n",
       "      <td>0.843354</td>\n",
       "      <td>0.752285</td>\n",
       "      <td>0.590158</td>\n",
       "      <td>..</td>\n",
       "    </tr>\n",
       "    <tr>\n",
       "      <th>100</th>\n",
       "      <td>Switzerland</td>\n",
       "      <td>CHE</td>\n",
       "      <td>Interest payments (current LCU)</td>\n",
       "      <td>GC.XPN.INTP.CN</td>\n",
       "      <td>3487110793.49</td>\n",
       "      <td>3713727769.1</td>\n",
       "      <td>3654618192.77</td>\n",
       "      <td>3537367995.71</td>\n",
       "      <td>3492259908.55</td>\n",
       "      <td>3093247318.42</td>\n",
       "      <td>...</td>\n",
       "      <td>2144872725.84</td>\n",
       "      <td>2007249893.85</td>\n",
       "      <td>1925383864.45</td>\n",
       "      <td>1703956531.48</td>\n",
       "      <td>1448928801.71</td>\n",
       "      <td>1190327302.75</td>\n",
       "      <td>1090158745.86</td>\n",
       "      <td>945545440.11</td>\n",
       "      <td>816343700.91</td>\n",
       "      <td>..</td>\n",
       "    </tr>\n",
       "    <tr>\n",
       "      <th>101</th>\n",
       "      <td>Switzerland</td>\n",
       "      <td>CHE</td>\n",
       "      <td>Real interest rate (%)</td>\n",
       "      <td>FR.INR.RINR</td>\n",
       "      <td>..</td>\n",
       "      <td>..</td>\n",
       "      <td>..</td>\n",
       "      <td>..</td>\n",
       "      <td>..</td>\n",
       "      <td>..</td>\n",
       "      <td>...</td>\n",
       "      <td>2.778422</td>\n",
       "      <td>3.365102</td>\n",
       "      <td>3.996448</td>\n",
       "      <td>3.248909</td>\n",
       "      <td>3.006367</td>\n",
       "      <td>1.849005</td>\n",
       "      <td>2.739665</td>\n",
       "      <td>3.35751</td>\n",
       "      <td>1.376511</td>\n",
       "      <td>0.14592</td>\n",
       "    </tr>\n",
       "  </tbody>\n",
       "</table>\n",
       "<p>5 rows × 29 columns</p>\n",
       "</div>"
      ],
      "text/plain": [
       "    Country Name Country Code                       Series Name  \\\n",
       "97   Switzerland          CHE   External debt stocks (% of GNI)   \n",
       "98   Switzerland          CHE  Interest payments (% of expense)   \n",
       "99   Switzerland          CHE  Interest payments (% of revenue)   \n",
       "100  Switzerland          CHE   Interest payments (current LCU)   \n",
       "101  Switzerland          CHE            Real interest rate (%)   \n",
       "\n",
       "           Series Code  1998 [YR1998] 1999 [YR1999]  2000 [YR2000]  \\\n",
       "97   DT.DOD.DECT.GN.ZS             ..            ..             ..   \n",
       "98      GC.XPN.INTP.ZS       4.279203      4.320238       4.185659   \n",
       "99   GC.XPN.INTP.RV.ZS       4.515961      4.782055        4.19249   \n",
       "100     GC.XPN.INTP.CN  3487110793.49  3713727769.1  3654618192.77   \n",
       "101        FR.INR.RINR             ..            ..             ..   \n",
       "\n",
       "     2001 [YR2001]  2002 [YR2002]  2003 [YR2003]  ...  2013 [YR2013]  \\\n",
       "97              ..             ..             ..  ...             ..   \n",
       "98        4.174662       3.718412       3.458661  ...       1.951637   \n",
       "99        4.155447       4.090076       3.620642  ...       1.881137   \n",
       "100  3537367995.71  3492259908.55  3093247318.42  ...  2144872725.84   \n",
       "101             ..             ..             ..  ...       2.778422   \n",
       "\n",
       "     2014 [YR2014]  2015 [YR2015]  2016 [YR2016]  2017 [YR2017]  \\\n",
       "97              ..             ..             ..             ..   \n",
       "98        1.803678       1.688761       1.458035       1.229416   \n",
       "99        1.754739       1.619426       1.430261       1.157879   \n",
       "100  2007249893.85  1925383864.45  1703956531.48  1448928801.71   \n",
       "101       3.365102       3.996448       3.248909       3.006367   \n",
       "\n",
       "     2018 [YR2018]  2019 [YR2019] 2020 [YR2020] 2021 [YR2021] 2022 [YR2022]  \n",
       "97              ..             ..            ..            ..            ..  \n",
       "98        1.003485        0.90233      0.677314      0.577598            ..  \n",
       "99        0.942717       0.843354      0.752285      0.590158            ..  \n",
       "100  1190327302.75  1090158745.86  945545440.11  816343700.91            ..  \n",
       "101       1.849005       2.739665       3.35751      1.376511       0.14592  \n",
       "\n",
       "[5 rows x 29 columns]"
      ]
     },
     "execution_count": 183,
     "metadata": {},
     "output_type": "execute_result"
    }
   ],
   "source": [
    "df_swi.tail()"
   ]
  },
  {
   "cell_type": "code",
   "execution_count": 184,
   "id": "75e585df-5760-4a07-b9be-4a2fd0760f48",
   "metadata": {},
   "outputs": [
    {
     "data": {
      "text/html": [
       "<div>\n",
       "<style scoped>\n",
       "    .dataframe tbody tr th:only-of-type {\n",
       "        vertical-align: middle;\n",
       "    }\n",
       "\n",
       "    .dataframe tbody tr th {\n",
       "        vertical-align: top;\n",
       "    }\n",
       "\n",
       "    .dataframe thead th {\n",
       "        text-align: right;\n",
       "    }\n",
       "</style>\n",
       "<table border=\"1\" class=\"dataframe\">\n",
       "  <thead>\n",
       "    <tr style=\"text-align: right;\">\n",
       "      <th></th>\n",
       "      <th>Series Name</th>\n",
       "      <th>1998 [YR1998]</th>\n",
       "      <th>1999 [YR1999]</th>\n",
       "      <th>2000 [YR2000]</th>\n",
       "      <th>2001 [YR2001]</th>\n",
       "      <th>2002 [YR2002]</th>\n",
       "      <th>2003 [YR2003]</th>\n",
       "      <th>2004 [YR2004]</th>\n",
       "      <th>2005 [YR2005]</th>\n",
       "      <th>2006 [YR2006]</th>\n",
       "      <th>...</th>\n",
       "      <th>2013 [YR2013]</th>\n",
       "      <th>2014 [YR2014]</th>\n",
       "      <th>2015 [YR2015]</th>\n",
       "      <th>2016 [YR2016]</th>\n",
       "      <th>2017 [YR2017]</th>\n",
       "      <th>2018 [YR2018]</th>\n",
       "      <th>2019 [YR2019]</th>\n",
       "      <th>2020 [YR2020]</th>\n",
       "      <th>2021 [YR2021]</th>\n",
       "      <th>2022 [YR2022]</th>\n",
       "    </tr>\n",
       "  </thead>\n",
       "  <tbody>\n",
       "    <tr>\n",
       "      <th>85</th>\n",
       "      <td>GDP growth (annual %)</td>\n",
       "      <td>3.029969</td>\n",
       "      <td>1.662701</td>\n",
       "      <td>3.95872</td>\n",
       "      <td>1.575662</td>\n",
       "      <td>-0.073217</td>\n",
       "      <td>-0.032398</td>\n",
       "      <td>2.701709</td>\n",
       "      <td>2.749699</td>\n",
       "      <td>4.073628</td>\n",
       "      <td>...</td>\n",
       "      <td>1.792144</td>\n",
       "      <td>2.349881</td>\n",
       "      <td>1.644628</td>\n",
       "      <td>2.06869</td>\n",
       "      <td>1.3628</td>\n",
       "      <td>2.860446</td>\n",
       "      <td>1.141982</td>\n",
       "      <td>-2.141737</td>\n",
       "      <td>5.391888</td>\n",
       "      <td>2.568328</td>\n",
       "    </tr>\n",
       "    <tr>\n",
       "      <th>86</th>\n",
       "      <td>GDP per capita (current US$)</td>\n",
       "      <td>42680.586732</td>\n",
       "      <td>41695.691291</td>\n",
       "      <td>38865.02194</td>\n",
       "      <td>39638.791106</td>\n",
       "      <td>42458.738468</td>\n",
       "      <td>49335.745629</td>\n",
       "      <td>54659.457149</td>\n",
       "      <td>56242.893365</td>\n",
       "      <td>59011.032459</td>\n",
       "      <td>...</td>\n",
       "      <td>87304.330581</td>\n",
       "      <td>88724.99094</td>\n",
       "      <td>83806.4476</td>\n",
       "      <td>82153.074545</td>\n",
       "      <td>82254.376927</td>\n",
       "      <td>85217.369151</td>\n",
       "      <td>84121.93103</td>\n",
       "      <td>85897.784334</td>\n",
       "      <td>93446.434452</td>\n",
       "      <td>93259.905718</td>\n",
       "    </tr>\n",
       "    <tr>\n",
       "      <th>87</th>\n",
       "      <td>GDP per capita, PPP (current international $)</td>\n",
       "      <td>33858.672113</td>\n",
       "      <td>34742.631863</td>\n",
       "      <td>36697.628041</td>\n",
       "      <td>37819.014357</td>\n",
       "      <td>38704.95846</td>\n",
       "      <td>38737.127244</td>\n",
       "      <td>40175.644575</td>\n",
       "      <td>41524.848873</td>\n",
       "      <td>46272.857953</td>\n",
       "      <td>...</td>\n",
       "      <td>61656.466171</td>\n",
       "      <td>63417.043716</td>\n",
       "      <td>65265.045734</td>\n",
       "      <td>67350.751875</td>\n",
       "      <td>68193.505494</td>\n",
       "      <td>70688.818749</td>\n",
       "      <td>72668.747107</td>\n",
       "      <td>71010.433495</td>\n",
       "      <td>77181.375348</td>\n",
       "      <td>84649.939899</td>\n",
       "    </tr>\n",
       "    <tr>\n",
       "      <th>88</th>\n",
       "      <td>Gini index</td>\n",
       "      <td>..</td>\n",
       "      <td>..</td>\n",
       "      <td>33.4</td>\n",
       "      <td>..</td>\n",
       "      <td>31.7</td>\n",
       "      <td>..</td>\n",
       "      <td>..</td>\n",
       "      <td>..</td>\n",
       "      <td>33.9</td>\n",
       "      <td>...</td>\n",
       "      <td>32.5</td>\n",
       "      <td>32.5</td>\n",
       "      <td>32.3</td>\n",
       "      <td>33</td>\n",
       "      <td>32.7</td>\n",
       "      <td>33.1</td>\n",
       "      <td>..</td>\n",
       "      <td>..</td>\n",
       "      <td>..</td>\n",
       "      <td>..</td>\n",
       "    </tr>\n",
       "    <tr>\n",
       "      <th>89</th>\n",
       "      <td>Inflation, consumer prices (annual %)</td>\n",
       "      <td>0.017938</td>\n",
       "      <td>0.806444</td>\n",
       "      <td>1.558529</td>\n",
       "      <td>0.98902</td>\n",
       "      <td>0.642712</td>\n",
       "      <td>0.638273</td>\n",
       "      <td>0.802909</td>\n",
       "      <td>1.171954</td>\n",
       "      <td>1.059509</td>\n",
       "      <td>...</td>\n",
       "      <td>-0.217323</td>\n",
       "      <td>-0.013203</td>\n",
       "      <td>-1.143909</td>\n",
       "      <td>-0.434619</td>\n",
       "      <td>0.533788</td>\n",
       "      <td>0.936335</td>\n",
       "      <td>0.362886</td>\n",
       "      <td>-0.725875</td>\n",
       "      <td>0.581814</td>\n",
       "      <td>2.835028</td>\n",
       "    </tr>\n",
       "  </tbody>\n",
       "</table>\n",
       "<p>5 rows × 26 columns</p>\n",
       "</div>"
      ],
      "text/plain": [
       "                                      Series Name 1998 [YR1998] 1999 [YR1999]  \\\n",
       "85                          GDP growth (annual %)      3.029969      1.662701   \n",
       "86                   GDP per capita (current US$)  42680.586732  41695.691291   \n",
       "87  GDP per capita, PPP (current international $)  33858.672113  34742.631863   \n",
       "88                                     Gini index            ..            ..   \n",
       "89          Inflation, consumer prices (annual %)      0.017938      0.806444   \n",
       "\n",
       "   2000 [YR2000] 2001 [YR2001] 2002 [YR2002] 2003 [YR2003] 2004 [YR2004]  \\\n",
       "85       3.95872      1.575662     -0.073217     -0.032398      2.701709   \n",
       "86   38865.02194  39638.791106  42458.738468  49335.745629  54659.457149   \n",
       "87  36697.628041  37819.014357   38704.95846  38737.127244  40175.644575   \n",
       "88          33.4            ..          31.7            ..            ..   \n",
       "89      1.558529       0.98902      0.642712      0.638273      0.802909   \n",
       "\n",
       "   2005 [YR2005] 2006 [YR2006]  ... 2013 [YR2013] 2014 [YR2014] 2015 [YR2015]  \\\n",
       "85      2.749699      4.073628  ...      1.792144      2.349881      1.644628   \n",
       "86  56242.893365  59011.032459  ...  87304.330581   88724.99094    83806.4476   \n",
       "87  41524.848873  46272.857953  ...  61656.466171  63417.043716  65265.045734   \n",
       "88            ..          33.9  ...          32.5          32.5          32.3   \n",
       "89      1.171954      1.059509  ...     -0.217323     -0.013203     -1.143909   \n",
       "\n",
       "   2016 [YR2016] 2017 [YR2017] 2018 [YR2018] 2019 [YR2019] 2020 [YR2020]  \\\n",
       "85       2.06869        1.3628      2.860446      1.141982     -2.141737   \n",
       "86  82153.074545  82254.376927  85217.369151   84121.93103  85897.784334   \n",
       "87  67350.751875  68193.505494  70688.818749  72668.747107  71010.433495   \n",
       "88            33          32.7          33.1            ..            ..   \n",
       "89     -0.434619      0.533788      0.936335      0.362886     -0.725875   \n",
       "\n",
       "   2021 [YR2021] 2022 [YR2022]  \n",
       "85      5.391888      2.568328  \n",
       "86  93446.434452  93259.905718  \n",
       "87  77181.375348  84649.939899  \n",
       "88            ..            ..  \n",
       "89      0.581814      2.835028  \n",
       "\n",
       "[5 rows x 26 columns]"
      ]
     },
     "execution_count": 184,
     "metadata": {},
     "output_type": "execute_result"
    }
   ],
   "source": [
    "year_cols=[]\n",
    "start_year=1998\n",
    "end_year=2022\n",
    "for year in range(start_year,end_year+1):\n",
    "    yr_str=str(year) +' [YR'+str(year)+']'\n",
    "    year_cols.append(yr_str)\n",
    "cols_to_keep=['Series Name']+year_cols\n",
    "df_swi=df_swi[cols_to_keep]\n",
    "df_swi.head()"
   ]
  },
  {
   "cell_type": "code",
   "execution_count": 185,
   "id": "b504b584-e1f1-4dc5-9a50-569f1531350b",
   "metadata": {},
   "outputs": [
    {
     "data": {
      "text/html": [
       "<div>\n",
       "<style scoped>\n",
       "    .dataframe tbody tr th:only-of-type {\n",
       "        vertical-align: middle;\n",
       "    }\n",
       "\n",
       "    .dataframe tbody tr th {\n",
       "        vertical-align: top;\n",
       "    }\n",
       "\n",
       "    .dataframe thead th {\n",
       "        text-align: right;\n",
       "    }\n",
       "</style>\n",
       "<table border=\"1\" class=\"dataframe\">\n",
       "  <thead>\n",
       "    <tr style=\"text-align: right;\">\n",
       "      <th></th>\n",
       "      <th>Year</th>\n",
       "      <th>GDP growth (annual %)</th>\n",
       "      <th>GDP per capita (current US$)</th>\n",
       "      <th>GDP per capita, PPP (current international $)</th>\n",
       "      <th>Gini index</th>\n",
       "      <th>Inflation, consumer prices (annual %)</th>\n",
       "      <th>Population growth (annual %)</th>\n",
       "      <th>Age dependency ratio, old (% of working-age population)</th>\n",
       "      <th>Age dependency ratio, young (% of working-age population)</th>\n",
       "      <th>General government final consumption expenditure (% of GDP)</th>\n",
       "      <th>Tax revenue (% of GDP)</th>\n",
       "      <th>Total debt service (% of GNI)</th>\n",
       "      <th>Central government debt, total (% of GDP)</th>\n",
       "      <th>External debt stocks (% of GNI)</th>\n",
       "      <th>Interest payments (% of expense)</th>\n",
       "      <th>Interest payments (% of revenue)</th>\n",
       "      <th>Interest payments (current LCU)</th>\n",
       "      <th>Real interest rate (%)</th>\n",
       "    </tr>\n",
       "  </thead>\n",
       "  <tbody>\n",
       "    <tr>\n",
       "      <th>0</th>\n",
       "      <td>1998 [YR1998]</td>\n",
       "      <td>3.029969</td>\n",
       "      <td>42680.586732</td>\n",
       "      <td>33858.672113</td>\n",
       "      <td>..</td>\n",
       "      <td>0.017938</td>\n",
       "      <td>0.297136</td>\n",
       "      <td>22.375333</td>\n",
       "      <td>26.065496</td>\n",
       "      <td>11.334291</td>\n",
       "      <td>9.261957</td>\n",
       "      <td>..</td>\n",
       "      <td>27.134188</td>\n",
       "      <td>..</td>\n",
       "      <td>4.279203</td>\n",
       "      <td>4.515961</td>\n",
       "      <td>3487110793.49</td>\n",
       "      <td>..</td>\n",
       "    </tr>\n",
       "    <tr>\n",
       "      <th>1</th>\n",
       "      <td>1999 [YR1999]</td>\n",
       "      <td>1.662701</td>\n",
       "      <td>41695.691291</td>\n",
       "      <td>34742.631863</td>\n",
       "      <td>..</td>\n",
       "      <td>0.806444</td>\n",
       "      <td>0.47692</td>\n",
       "      <td>22.565694</td>\n",
       "      <td>25.961002</td>\n",
       "      <td>11.352001</td>\n",
       "      <td>8.918887</td>\n",
       "      <td>..</td>\n",
       "      <td>25.005655</td>\n",
       "      <td>..</td>\n",
       "      <td>4.320238</td>\n",
       "      <td>4.782055</td>\n",
       "      <td>3713727769.1</td>\n",
       "      <td>..</td>\n",
       "    </tr>\n",
       "    <tr>\n",
       "      <th>2</th>\n",
       "      <td>2000 [YR2000]</td>\n",
       "      <td>3.95872</td>\n",
       "      <td>38865.02194</td>\n",
       "      <td>36697.628041</td>\n",
       "      <td>33.4</td>\n",
       "      <td>1.558529</td>\n",
       "      <td>0.561955</td>\n",
       "      <td>22.740947</td>\n",
       "      <td>25.819203</td>\n",
       "      <td>11.159891</td>\n",
       "      <td>10.032345</td>\n",
       "      <td>..</td>\n",
       "      <td>25.777906</td>\n",
       "      <td>..</td>\n",
       "      <td>4.185659</td>\n",
       "      <td>4.19249</td>\n",
       "      <td>3654618192.77</td>\n",
       "      <td>..</td>\n",
       "    </tr>\n",
       "    <tr>\n",
       "      <th>3</th>\n",
       "      <td>2001 [YR2001]</td>\n",
       "      <td>1.575662</td>\n",
       "      <td>39638.791106</td>\n",
       "      <td>37819.014357</td>\n",
       "      <td>..</td>\n",
       "      <td>0.98902</td>\n",
       "      <td>0.632771</td>\n",
       "      <td>22.868331</td>\n",
       "      <td>25.359532</td>\n",
       "      <td>11.163767</td>\n",
       "      <td>8.970633</td>\n",
       "      <td>..</td>\n",
       "      <td>24.702774</td>\n",
       "      <td>..</td>\n",
       "      <td>4.174662</td>\n",
       "      <td>4.155447</td>\n",
       "      <td>3537367995.71</td>\n",
       "      <td>..</td>\n",
       "    </tr>\n",
       "    <tr>\n",
       "      <th>4</th>\n",
       "      <td>2002 [YR2002]</td>\n",
       "      <td>-0.073217</td>\n",
       "      <td>42458.738468</td>\n",
       "      <td>38704.95846</td>\n",
       "      <td>31.7</td>\n",
       "      <td>0.642712</td>\n",
       "      <td>0.756469</td>\n",
       "      <td>22.91203</td>\n",
       "      <td>24.838655</td>\n",
       "      <td>11.542898</td>\n",
       "      <td>8.955704</td>\n",
       "      <td>..</td>\n",
       "      <td>29.742984</td>\n",
       "      <td>..</td>\n",
       "      <td>3.718412</td>\n",
       "      <td>4.090076</td>\n",
       "      <td>3492259908.55</td>\n",
       "      <td>..</td>\n",
       "    </tr>\n",
       "  </tbody>\n",
       "</table>\n",
       "</div>"
      ],
      "text/plain": [
       "            Year GDP growth (annual %) GDP per capita (current US$)  \\\n",
       "0  1998 [YR1998]              3.029969                 42680.586732   \n",
       "1  1999 [YR1999]              1.662701                 41695.691291   \n",
       "2  2000 [YR2000]               3.95872                  38865.02194   \n",
       "3  2001 [YR2001]              1.575662                 39638.791106   \n",
       "4  2002 [YR2002]             -0.073217                 42458.738468   \n",
       "\n",
       "  GDP per capita, PPP (current international $) Gini index  \\\n",
       "0                                  33858.672113         ..   \n",
       "1                                  34742.631863         ..   \n",
       "2                                  36697.628041       33.4   \n",
       "3                                  37819.014357         ..   \n",
       "4                                   38704.95846       31.7   \n",
       "\n",
       "  Inflation, consumer prices (annual %) Population growth (annual %)  \\\n",
       "0                              0.017938                     0.297136   \n",
       "1                              0.806444                      0.47692   \n",
       "2                              1.558529                     0.561955   \n",
       "3                               0.98902                     0.632771   \n",
       "4                              0.642712                     0.756469   \n",
       "\n",
       "  Age dependency ratio, old (% of working-age population)  \\\n",
       "0                                          22.375333        \n",
       "1                                          22.565694        \n",
       "2                                          22.740947        \n",
       "3                                          22.868331        \n",
       "4                                           22.91203        \n",
       "\n",
       "  Age dependency ratio, young (% of working-age population)  \\\n",
       "0                                          26.065496          \n",
       "1                                          25.961002          \n",
       "2                                          25.819203          \n",
       "3                                          25.359532          \n",
       "4                                          24.838655          \n",
       "\n",
       "  General government final consumption expenditure (% of GDP)  \\\n",
       "0                                          11.334291            \n",
       "1                                          11.352001            \n",
       "2                                          11.159891            \n",
       "3                                          11.163767            \n",
       "4                                          11.542898            \n",
       "\n",
       "  Tax revenue (% of GDP) Total debt service (% of GNI)  \\\n",
       "0               9.261957                            ..   \n",
       "1               8.918887                            ..   \n",
       "2              10.032345                            ..   \n",
       "3               8.970633                            ..   \n",
       "4               8.955704                            ..   \n",
       "\n",
       "  Central government debt, total (% of GDP) External debt stocks (% of GNI)  \\\n",
       "0                                 27.134188                              ..   \n",
       "1                                 25.005655                              ..   \n",
       "2                                 25.777906                              ..   \n",
       "3                                 24.702774                              ..   \n",
       "4                                 29.742984                              ..   \n",
       "\n",
       "  Interest payments (% of expense) Interest payments (% of revenue)  \\\n",
       "0                         4.279203                         4.515961   \n",
       "1                         4.320238                         4.782055   \n",
       "2                         4.185659                          4.19249   \n",
       "3                         4.174662                         4.155447   \n",
       "4                         3.718412                         4.090076   \n",
       "\n",
       "  Interest payments (current LCU) Real interest rate (%)  \n",
       "0                   3487110793.49                     ..  \n",
       "1                    3713727769.1                     ..  \n",
       "2                   3654618192.77                     ..  \n",
       "3                   3537367995.71                     ..  \n",
       "4                   3492259908.55                     ..  "
      ]
     },
     "execution_count": 185,
     "metadata": {},
     "output_type": "execute_result"
    }
   ],
   "source": [
    "df_swi.rename({'Series Name':''},axis=1,inplace=True)\n",
    "df_swi.set_index('',inplace=True)\n",
    "df_swi=df_swi.T.reset_index()\n",
    "df_swi.rename({'index':'Year'},axis=1,inplace=True)\n",
    "df_swi.head()"
   ]
  },
  {
   "cell_type": "code",
   "execution_count": 186,
   "id": "b369938d-f8fd-43e0-8b22-3ec3884b1f2b",
   "metadata": {},
   "outputs": [
    {
     "data": {
      "text/html": [
       "<div>\n",
       "<style scoped>\n",
       "    .dataframe tbody tr th:only-of-type {\n",
       "        vertical-align: middle;\n",
       "    }\n",
       "\n",
       "    .dataframe tbody tr th {\n",
       "        vertical-align: top;\n",
       "    }\n",
       "\n",
       "    .dataframe thead th {\n",
       "        text-align: right;\n",
       "    }\n",
       "</style>\n",
       "<table border=\"1\" class=\"dataframe\">\n",
       "  <thead>\n",
       "    <tr style=\"text-align: right;\">\n",
       "      <th></th>\n",
       "      <th>Year</th>\n",
       "      <th>GDP growth (annual %)</th>\n",
       "      <th>GDP per capita (current US$)</th>\n",
       "      <th>GDP per capita, PPP (current international $)</th>\n",
       "      <th>Gini index</th>\n",
       "      <th>Inflation, consumer prices (annual %)</th>\n",
       "      <th>Population growth (annual %)</th>\n",
       "      <th>Age dependency ratio, old (% of working-age population)</th>\n",
       "      <th>Age dependency ratio, young (% of working-age population)</th>\n",
       "      <th>General government final consumption expenditure (% of GDP)</th>\n",
       "      <th>Tax revenue (% of GDP)</th>\n",
       "      <th>Total debt service (% of GNI)</th>\n",
       "      <th>Central government debt, total (% of GDP)</th>\n",
       "      <th>External debt stocks (% of GNI)</th>\n",
       "      <th>Interest payments (% of expense)</th>\n",
       "      <th>Interest payments (% of revenue)</th>\n",
       "      <th>Interest payments (current LCU)</th>\n",
       "      <th>Real interest rate (%)</th>\n",
       "    </tr>\n",
       "  </thead>\n",
       "  <tbody>\n",
       "    <tr>\n",
       "      <th>0</th>\n",
       "      <td>1998</td>\n",
       "      <td>3.029969</td>\n",
       "      <td>42680.586732</td>\n",
       "      <td>33858.672113</td>\n",
       "      <td>..</td>\n",
       "      <td>0.017938</td>\n",
       "      <td>0.297136</td>\n",
       "      <td>22.375333</td>\n",
       "      <td>26.065496</td>\n",
       "      <td>11.334291</td>\n",
       "      <td>9.261957</td>\n",
       "      <td>..</td>\n",
       "      <td>27.134188</td>\n",
       "      <td>..</td>\n",
       "      <td>4.279203</td>\n",
       "      <td>4.515961</td>\n",
       "      <td>3487110793.49</td>\n",
       "      <td>..</td>\n",
       "    </tr>\n",
       "    <tr>\n",
       "      <th>1</th>\n",
       "      <td>1999</td>\n",
       "      <td>1.662701</td>\n",
       "      <td>41695.691291</td>\n",
       "      <td>34742.631863</td>\n",
       "      <td>..</td>\n",
       "      <td>0.806444</td>\n",
       "      <td>0.47692</td>\n",
       "      <td>22.565694</td>\n",
       "      <td>25.961002</td>\n",
       "      <td>11.352001</td>\n",
       "      <td>8.918887</td>\n",
       "      <td>..</td>\n",
       "      <td>25.005655</td>\n",
       "      <td>..</td>\n",
       "      <td>4.320238</td>\n",
       "      <td>4.782055</td>\n",
       "      <td>3713727769.1</td>\n",
       "      <td>..</td>\n",
       "    </tr>\n",
       "    <tr>\n",
       "      <th>2</th>\n",
       "      <td>2000</td>\n",
       "      <td>3.95872</td>\n",
       "      <td>38865.02194</td>\n",
       "      <td>36697.628041</td>\n",
       "      <td>33.4</td>\n",
       "      <td>1.558529</td>\n",
       "      <td>0.561955</td>\n",
       "      <td>22.740947</td>\n",
       "      <td>25.819203</td>\n",
       "      <td>11.159891</td>\n",
       "      <td>10.032345</td>\n",
       "      <td>..</td>\n",
       "      <td>25.777906</td>\n",
       "      <td>..</td>\n",
       "      <td>4.185659</td>\n",
       "      <td>4.19249</td>\n",
       "      <td>3654618192.77</td>\n",
       "      <td>..</td>\n",
       "    </tr>\n",
       "    <tr>\n",
       "      <th>3</th>\n",
       "      <td>2001</td>\n",
       "      <td>1.575662</td>\n",
       "      <td>39638.791106</td>\n",
       "      <td>37819.014357</td>\n",
       "      <td>..</td>\n",
       "      <td>0.98902</td>\n",
       "      <td>0.632771</td>\n",
       "      <td>22.868331</td>\n",
       "      <td>25.359532</td>\n",
       "      <td>11.163767</td>\n",
       "      <td>8.970633</td>\n",
       "      <td>..</td>\n",
       "      <td>24.702774</td>\n",
       "      <td>..</td>\n",
       "      <td>4.174662</td>\n",
       "      <td>4.155447</td>\n",
       "      <td>3537367995.71</td>\n",
       "      <td>..</td>\n",
       "    </tr>\n",
       "    <tr>\n",
       "      <th>4</th>\n",
       "      <td>2002</td>\n",
       "      <td>-0.073217</td>\n",
       "      <td>42458.738468</td>\n",
       "      <td>38704.95846</td>\n",
       "      <td>31.7</td>\n",
       "      <td>0.642712</td>\n",
       "      <td>0.756469</td>\n",
       "      <td>22.91203</td>\n",
       "      <td>24.838655</td>\n",
       "      <td>11.542898</td>\n",
       "      <td>8.955704</td>\n",
       "      <td>..</td>\n",
       "      <td>29.742984</td>\n",
       "      <td>..</td>\n",
       "      <td>3.718412</td>\n",
       "      <td>4.090076</td>\n",
       "      <td>3492259908.55</td>\n",
       "      <td>..</td>\n",
       "    </tr>\n",
       "    <tr>\n",
       "      <th>5</th>\n",
       "      <td>2003</td>\n",
       "      <td>-0.032398</td>\n",
       "      <td>49335.745629</td>\n",
       "      <td>38737.127244</td>\n",
       "      <td>..</td>\n",
       "      <td>0.638273</td>\n",
       "      <td>0.74192</td>\n",
       "      <td>22.953019</td>\n",
       "      <td>24.494457</td>\n",
       "      <td>11.734894</td>\n",
       "      <td>8.977577</td>\n",
       "      <td>..</td>\n",
       "      <td>28.802889</td>\n",
       "      <td>..</td>\n",
       "      <td>3.458661</td>\n",
       "      <td>3.620642</td>\n",
       "      <td>3093247318.42</td>\n",
       "      <td>..</td>\n",
       "    </tr>\n",
       "    <tr>\n",
       "      <th>6</th>\n",
       "      <td>2004</td>\n",
       "      <td>2.701709</td>\n",
       "      <td>54659.457149</td>\n",
       "      <td>40175.644575</td>\n",
       "      <td>..</td>\n",
       "      <td>0.802909</td>\n",
       "      <td>0.687426</td>\n",
       "      <td>23.070031</td>\n",
       "      <td>24.121398</td>\n",
       "      <td>11.51491</td>\n",
       "      <td>9.020394</td>\n",
       "      <td>..</td>\n",
       "      <td>29.36537</td>\n",
       "      <td>..</td>\n",
       "      <td>3.465159</td>\n",
       "      <td>3.651959</td>\n",
       "      <td>3162391174.18</td>\n",
       "      <td>..</td>\n",
       "    </tr>\n",
       "  </tbody>\n",
       "</table>\n",
       "</div>"
      ],
      "text/plain": [
       "   Year GDP growth (annual %) GDP per capita (current US$)  \\\n",
       "0  1998              3.029969                 42680.586732   \n",
       "1  1999              1.662701                 41695.691291   \n",
       "2  2000               3.95872                  38865.02194   \n",
       "3  2001              1.575662                 39638.791106   \n",
       "4  2002             -0.073217                 42458.738468   \n",
       "5  2003             -0.032398                 49335.745629   \n",
       "6  2004              2.701709                 54659.457149   \n",
       "\n",
       "  GDP per capita, PPP (current international $) Gini index  \\\n",
       "0                                  33858.672113         ..   \n",
       "1                                  34742.631863         ..   \n",
       "2                                  36697.628041       33.4   \n",
       "3                                  37819.014357         ..   \n",
       "4                                   38704.95846       31.7   \n",
       "5                                  38737.127244         ..   \n",
       "6                                  40175.644575         ..   \n",
       "\n",
       "  Inflation, consumer prices (annual %) Population growth (annual %)  \\\n",
       "0                              0.017938                     0.297136   \n",
       "1                              0.806444                      0.47692   \n",
       "2                              1.558529                     0.561955   \n",
       "3                               0.98902                     0.632771   \n",
       "4                              0.642712                     0.756469   \n",
       "5                              0.638273                      0.74192   \n",
       "6                              0.802909                     0.687426   \n",
       "\n",
       "  Age dependency ratio, old (% of working-age population)  \\\n",
       "0                                          22.375333        \n",
       "1                                          22.565694        \n",
       "2                                          22.740947        \n",
       "3                                          22.868331        \n",
       "4                                           22.91203        \n",
       "5                                          22.953019        \n",
       "6                                          23.070031        \n",
       "\n",
       "  Age dependency ratio, young (% of working-age population)  \\\n",
       "0                                          26.065496          \n",
       "1                                          25.961002          \n",
       "2                                          25.819203          \n",
       "3                                          25.359532          \n",
       "4                                          24.838655          \n",
       "5                                          24.494457          \n",
       "6                                          24.121398          \n",
       "\n",
       "  General government final consumption expenditure (% of GDP)  \\\n",
       "0                                          11.334291            \n",
       "1                                          11.352001            \n",
       "2                                          11.159891            \n",
       "3                                          11.163767            \n",
       "4                                          11.542898            \n",
       "5                                          11.734894            \n",
       "6                                           11.51491            \n",
       "\n",
       "  Tax revenue (% of GDP) Total debt service (% of GNI)  \\\n",
       "0               9.261957                            ..   \n",
       "1               8.918887                            ..   \n",
       "2              10.032345                            ..   \n",
       "3               8.970633                            ..   \n",
       "4               8.955704                            ..   \n",
       "5               8.977577                            ..   \n",
       "6               9.020394                            ..   \n",
       "\n",
       "  Central government debt, total (% of GDP) External debt stocks (% of GNI)  \\\n",
       "0                                 27.134188                              ..   \n",
       "1                                 25.005655                              ..   \n",
       "2                                 25.777906                              ..   \n",
       "3                                 24.702774                              ..   \n",
       "4                                 29.742984                              ..   \n",
       "5                                 28.802889                              ..   \n",
       "6                                  29.36537                              ..   \n",
       "\n",
       "  Interest payments (% of expense) Interest payments (% of revenue)  \\\n",
       "0                         4.279203                         4.515961   \n",
       "1                         4.320238                         4.782055   \n",
       "2                         4.185659                          4.19249   \n",
       "3                         4.174662                         4.155447   \n",
       "4                         3.718412                         4.090076   \n",
       "5                         3.458661                         3.620642   \n",
       "6                         3.465159                         3.651959   \n",
       "\n",
       "  Interest payments (current LCU) Real interest rate (%)  \n",
       "0                   3487110793.49                     ..  \n",
       "1                    3713727769.1                     ..  \n",
       "2                   3654618192.77                     ..  \n",
       "3                   3537367995.71                     ..  \n",
       "4                   3492259908.55                     ..  \n",
       "5                   3093247318.42                     ..  \n",
       "6                   3162391174.18                     ..  "
      ]
     },
     "execution_count": 186,
     "metadata": {},
     "output_type": "execute_result"
    }
   ],
   "source": [
    "df_swi['Year']=df_swi['Year'].apply(lambda x: int(x.split(' ')[0]))\n",
    "df_swi.head(7)"
   ]
  },
  {
   "cell_type": "code",
   "execution_count": 187,
   "id": "96474c75-6c21-422a-999e-a67cb2ee147b",
   "metadata": {},
   "outputs": [
    {
     "data": {
      "text/plain": [
       "\n",
       "Year                                                           0\n",
       "GDP growth (annual %)                                          0\n",
       "GDP per capita (current US$)                                   0\n",
       "GDP per capita, PPP (current international $)                  0\n",
       "Gini index                                                     0\n",
       "Inflation, consumer prices (annual %)                          0\n",
       "Population growth (annual %)                                   0\n",
       "Age dependency ratio, old (% of working-age population)        0\n",
       "Age dependency ratio, young (% of working-age population)      0\n",
       "General government final consumption expenditure (% of GDP)    0\n",
       "Tax revenue (% of GDP)                                         0\n",
       "Total debt service (% of GNI)                                  0\n",
       "Central government debt, total (% of GDP)                      0\n",
       "External debt stocks (% of GNI)                                0\n",
       "Interest payments (% of expense)                               0\n",
       "Interest payments (% of revenue)                               0\n",
       "Interest payments (current LCU)                                0\n",
       "Real interest rate (%)                                         0\n",
       "dtype: int64"
      ]
     },
     "execution_count": 187,
     "metadata": {},
     "output_type": "execute_result"
    }
   ],
   "source": [
    "df_swi.isna().sum()"
   ]
  },
  {
   "cell_type": "code",
   "execution_count": 188,
   "id": "d069c8b1-4276-43cf-9ce4-cd41fccdac6b",
   "metadata": {},
   "outputs": [
    {
     "data": {
      "text/html": [
       "<div>\n",
       "<style scoped>\n",
       "    .dataframe tbody tr th:only-of-type {\n",
       "        vertical-align: middle;\n",
       "    }\n",
       "\n",
       "    .dataframe tbody tr th {\n",
       "        vertical-align: top;\n",
       "    }\n",
       "\n",
       "    .dataframe thead th {\n",
       "        text-align: right;\n",
       "    }\n",
       "</style>\n",
       "<table border=\"1\" class=\"dataframe\">\n",
       "  <thead>\n",
       "    <tr style=\"text-align: right;\">\n",
       "      <th></th>\n",
       "      <th>Year</th>\n",
       "      <th>GDP growth (annual %)</th>\n",
       "      <th>GDP per capita (current US$)</th>\n",
       "      <th>GDP per capita, PPP (current international $)</th>\n",
       "      <th>Gini index</th>\n",
       "      <th>Inflation, consumer prices (annual %)</th>\n",
       "      <th>Population growth (annual %)</th>\n",
       "      <th>Age dependency ratio, old (% of working-age population)</th>\n",
       "      <th>Age dependency ratio, young (% of working-age population)</th>\n",
       "      <th>General government final consumption expenditure (% of GDP)</th>\n",
       "      <th>Tax revenue (% of GDP)</th>\n",
       "      <th>Total debt service (% of GNI)</th>\n",
       "      <th>Central government debt, total (% of GDP)</th>\n",
       "      <th>External debt stocks (% of GNI)</th>\n",
       "      <th>Interest payments (% of expense)</th>\n",
       "      <th>Interest payments (% of revenue)</th>\n",
       "      <th>Interest payments (current LCU)</th>\n",
       "      <th>Real interest rate (%)</th>\n",
       "    </tr>\n",
       "  </thead>\n",
       "  <tbody>\n",
       "    <tr>\n",
       "      <th>0</th>\n",
       "      <td>1998</td>\n",
       "      <td>3.029969</td>\n",
       "      <td>42680.586732</td>\n",
       "      <td>33858.672113</td>\n",
       "      <td>None</td>\n",
       "      <td>0.017938</td>\n",
       "      <td>0.297136</td>\n",
       "      <td>22.375333</td>\n",
       "      <td>26.065496</td>\n",
       "      <td>11.334291</td>\n",
       "      <td>9.261957</td>\n",
       "      <td>None</td>\n",
       "      <td>27.134188</td>\n",
       "      <td>None</td>\n",
       "      <td>4.279203</td>\n",
       "      <td>4.515961</td>\n",
       "      <td>3487110793.49</td>\n",
       "      <td>None</td>\n",
       "    </tr>\n",
       "    <tr>\n",
       "      <th>1</th>\n",
       "      <td>1999</td>\n",
       "      <td>1.662701</td>\n",
       "      <td>41695.691291</td>\n",
       "      <td>34742.631863</td>\n",
       "      <td>None</td>\n",
       "      <td>0.806444</td>\n",
       "      <td>0.47692</td>\n",
       "      <td>22.565694</td>\n",
       "      <td>25.961002</td>\n",
       "      <td>11.352001</td>\n",
       "      <td>8.918887</td>\n",
       "      <td>None</td>\n",
       "      <td>25.005655</td>\n",
       "      <td>None</td>\n",
       "      <td>4.320238</td>\n",
       "      <td>4.782055</td>\n",
       "      <td>3713727769.1</td>\n",
       "      <td>None</td>\n",
       "    </tr>\n",
       "    <tr>\n",
       "      <th>2</th>\n",
       "      <td>2000</td>\n",
       "      <td>3.95872</td>\n",
       "      <td>38865.02194</td>\n",
       "      <td>36697.628041</td>\n",
       "      <td>33.4</td>\n",
       "      <td>1.558529</td>\n",
       "      <td>0.561955</td>\n",
       "      <td>22.740947</td>\n",
       "      <td>25.819203</td>\n",
       "      <td>11.159891</td>\n",
       "      <td>10.032345</td>\n",
       "      <td>None</td>\n",
       "      <td>25.777906</td>\n",
       "      <td>None</td>\n",
       "      <td>4.185659</td>\n",
       "      <td>4.19249</td>\n",
       "      <td>3654618192.77</td>\n",
       "      <td>None</td>\n",
       "    </tr>\n",
       "    <tr>\n",
       "      <th>3</th>\n",
       "      <td>2001</td>\n",
       "      <td>1.575662</td>\n",
       "      <td>39638.791106</td>\n",
       "      <td>37819.014357</td>\n",
       "      <td>None</td>\n",
       "      <td>0.98902</td>\n",
       "      <td>0.632771</td>\n",
       "      <td>22.868331</td>\n",
       "      <td>25.359532</td>\n",
       "      <td>11.163767</td>\n",
       "      <td>8.970633</td>\n",
       "      <td>None</td>\n",
       "      <td>24.702774</td>\n",
       "      <td>None</td>\n",
       "      <td>4.174662</td>\n",
       "      <td>4.155447</td>\n",
       "      <td>3537367995.71</td>\n",
       "      <td>None</td>\n",
       "    </tr>\n",
       "    <tr>\n",
       "      <th>4</th>\n",
       "      <td>2002</td>\n",
       "      <td>-0.073217</td>\n",
       "      <td>42458.738468</td>\n",
       "      <td>38704.95846</td>\n",
       "      <td>31.7</td>\n",
       "      <td>0.642712</td>\n",
       "      <td>0.756469</td>\n",
       "      <td>22.91203</td>\n",
       "      <td>24.838655</td>\n",
       "      <td>11.542898</td>\n",
       "      <td>8.955704</td>\n",
       "      <td>None</td>\n",
       "      <td>29.742984</td>\n",
       "      <td>None</td>\n",
       "      <td>3.718412</td>\n",
       "      <td>4.090076</td>\n",
       "      <td>3492259908.55</td>\n",
       "      <td>None</td>\n",
       "    </tr>\n",
       "  </tbody>\n",
       "</table>\n",
       "</div>"
      ],
      "text/plain": [
       "   Year GDP growth (annual %) GDP per capita (current US$)  \\\n",
       "0  1998              3.029969                 42680.586732   \n",
       "1  1999              1.662701                 41695.691291   \n",
       "2  2000               3.95872                  38865.02194   \n",
       "3  2001              1.575662                 39638.791106   \n",
       "4  2002             -0.073217                 42458.738468   \n",
       "\n",
       "  GDP per capita, PPP (current international $) Gini index  \\\n",
       "0                                  33858.672113       None   \n",
       "1                                  34742.631863       None   \n",
       "2                                  36697.628041       33.4   \n",
       "3                                  37819.014357       None   \n",
       "4                                   38704.95846       31.7   \n",
       "\n",
       "  Inflation, consumer prices (annual %) Population growth (annual %)  \\\n",
       "0                              0.017938                     0.297136   \n",
       "1                              0.806444                      0.47692   \n",
       "2                              1.558529                     0.561955   \n",
       "3                               0.98902                     0.632771   \n",
       "4                              0.642712                     0.756469   \n",
       "\n",
       "  Age dependency ratio, old (% of working-age population)  \\\n",
       "0                                          22.375333        \n",
       "1                                          22.565694        \n",
       "2                                          22.740947        \n",
       "3                                          22.868331        \n",
       "4                                           22.91203        \n",
       "\n",
       "  Age dependency ratio, young (% of working-age population)  \\\n",
       "0                                          26.065496          \n",
       "1                                          25.961002          \n",
       "2                                          25.819203          \n",
       "3                                          25.359532          \n",
       "4                                          24.838655          \n",
       "\n",
       "  General government final consumption expenditure (% of GDP)  \\\n",
       "0                                          11.334291            \n",
       "1                                          11.352001            \n",
       "2                                          11.159891            \n",
       "3                                          11.163767            \n",
       "4                                          11.542898            \n",
       "\n",
       "  Tax revenue (% of GDP) Total debt service (% of GNI)  \\\n",
       "0               9.261957                          None   \n",
       "1               8.918887                          None   \n",
       "2              10.032345                          None   \n",
       "3               8.970633                          None   \n",
       "4               8.955704                          None   \n",
       "\n",
       "  Central government debt, total (% of GDP) External debt stocks (% of GNI)  \\\n",
       "0                                 27.134188                            None   \n",
       "1                                 25.005655                            None   \n",
       "2                                 25.777906                            None   \n",
       "3                                 24.702774                            None   \n",
       "4                                 29.742984                            None   \n",
       "\n",
       "  Interest payments (% of expense) Interest payments (% of revenue)  \\\n",
       "0                         4.279203                         4.515961   \n",
       "1                         4.320238                         4.782055   \n",
       "2                         4.185659                          4.19249   \n",
       "3                         4.174662                         4.155447   \n",
       "4                         3.718412                         4.090076   \n",
       "\n",
       "  Interest payments (current LCU) Real interest rate (%)  \n",
       "0                   3487110793.49                   None  \n",
       "1                    3713727769.1                   None  \n",
       "2                   3654618192.77                   None  \n",
       "3                   3537367995.71                   None  \n",
       "4                   3492259908.55                   None  "
      ]
     },
     "execution_count": 188,
     "metadata": {},
     "output_type": "execute_result"
    }
   ],
   "source": [
    "df_swi=df_swi.replace('..',None)\n",
    "df_swi.head()"
   ]
  },
  {
   "cell_type": "code",
   "execution_count": 189,
   "id": "04660688-aa5f-4739-b9fa-d9cb01688841",
   "metadata": {},
   "outputs": [
    {
     "data": {
      "text/plain": [
       "\n",
       "Year                                                            0\n",
       "GDP growth (annual %)                                           0\n",
       "GDP per capita (current US$)                                    0\n",
       "GDP per capita, PPP (current international $)                   0\n",
       "Gini index                                                     10\n",
       "Inflation, consumer prices (annual %)                           0\n",
       "Population growth (annual %)                                    0\n",
       "Age dependency ratio, old (% of working-age population)         0\n",
       "Age dependency ratio, young (% of working-age population)       0\n",
       "General government final consumption expenditure (% of GDP)     0\n",
       "Tax revenue (% of GDP)                                          1\n",
       "Total debt service (% of GNI)                                  25\n",
       "Central government debt, total (% of GDP)                       1\n",
       "External debt stocks (% of GNI)                                25\n",
       "Interest payments (% of expense)                                1\n",
       "Interest payments (% of revenue)                                1\n",
       "Interest payments (current LCU)                                 1\n",
       "Real interest rate (%)                                         10\n",
       "dtype: int64"
      ]
     },
     "execution_count": 189,
     "metadata": {},
     "output_type": "execute_result"
    }
   ],
   "source": [
    "df_swi.isna().sum()"
   ]
  },
  {
   "cell_type": "code",
   "execution_count": 190,
   "id": "8df637ec-193f-4833-b05f-0c5e27e4e557",
   "metadata": {},
   "outputs": [
    {
     "data": {
      "text/html": [
       "<div>\n",
       "<style scoped>\n",
       "    .dataframe tbody tr th:only-of-type {\n",
       "        vertical-align: middle;\n",
       "    }\n",
       "\n",
       "    .dataframe tbody tr th {\n",
       "        vertical-align: top;\n",
       "    }\n",
       "\n",
       "    .dataframe thead th {\n",
       "        text-align: right;\n",
       "    }\n",
       "</style>\n",
       "<table border=\"1\" class=\"dataframe\">\n",
       "  <thead>\n",
       "    <tr style=\"text-align: right;\">\n",
       "      <th></th>\n",
       "      <th>Year</th>\n",
       "      <th>Central government debt, total (% of GDP)</th>\n",
       "    </tr>\n",
       "  </thead>\n",
       "  <tbody>\n",
       "    <tr>\n",
       "      <th>0</th>\n",
       "      <td>1998</td>\n",
       "      <td>27.134188</td>\n",
       "    </tr>\n",
       "    <tr>\n",
       "      <th>1</th>\n",
       "      <td>1999</td>\n",
       "      <td>25.005655</td>\n",
       "    </tr>\n",
       "    <tr>\n",
       "      <th>2</th>\n",
       "      <td>2000</td>\n",
       "      <td>25.777906</td>\n",
       "    </tr>\n",
       "    <tr>\n",
       "      <th>3</th>\n",
       "      <td>2001</td>\n",
       "      <td>24.702774</td>\n",
       "    </tr>\n",
       "    <tr>\n",
       "      <th>4</th>\n",
       "      <td>2002</td>\n",
       "      <td>29.742984</td>\n",
       "    </tr>\n",
       "    <tr>\n",
       "      <th>5</th>\n",
       "      <td>2003</td>\n",
       "      <td>28.802889</td>\n",
       "    </tr>\n",
       "    <tr>\n",
       "      <th>6</th>\n",
       "      <td>2004</td>\n",
       "      <td>29.36537</td>\n",
       "    </tr>\n",
       "    <tr>\n",
       "      <th>7</th>\n",
       "      <td>2005</td>\n",
       "      <td>29.397178</td>\n",
       "    </tr>\n",
       "    <tr>\n",
       "      <th>8</th>\n",
       "      <td>2006</td>\n",
       "      <td>25.768354</td>\n",
       "    </tr>\n",
       "    <tr>\n",
       "      <th>9</th>\n",
       "      <td>2007</td>\n",
       "      <td>23.655829</td>\n",
       "    </tr>\n",
       "    <tr>\n",
       "      <th>10</th>\n",
       "      <td>2008</td>\n",
       "      <td>23.082654</td>\n",
       "    </tr>\n",
       "    <tr>\n",
       "      <th>11</th>\n",
       "      <td>2009</td>\n",
       "      <td>21.701637</td>\n",
       "    </tr>\n",
       "    <tr>\n",
       "      <th>12</th>\n",
       "      <td>2010</td>\n",
       "      <td>20.993566</td>\n",
       "    </tr>\n",
       "    <tr>\n",
       "      <th>13</th>\n",
       "      <td>2011</td>\n",
       "      <td>21.142007</td>\n",
       "    </tr>\n",
       "    <tr>\n",
       "      <th>14</th>\n",
       "      <td>2012</td>\n",
       "      <td>21.344496</td>\n",
       "    </tr>\n",
       "    <tr>\n",
       "      <th>15</th>\n",
       "      <td>2013</td>\n",
       "      <td>20.218157</td>\n",
       "    </tr>\n",
       "    <tr>\n",
       "      <th>16</th>\n",
       "      <td>2014</td>\n",
       "      <td>20.611243</td>\n",
       "    </tr>\n",
       "    <tr>\n",
       "      <th>17</th>\n",
       "      <td>2015</td>\n",
       "      <td>20.439295</td>\n",
       "    </tr>\n",
       "    <tr>\n",
       "      <th>18</th>\n",
       "      <td>2016</td>\n",
       "      <td>19.380993</td>\n",
       "    </tr>\n",
       "    <tr>\n",
       "      <th>19</th>\n",
       "      <td>2017</td>\n",
       "      <td>20.284412</td>\n",
       "    </tr>\n",
       "    <tr>\n",
       "      <th>20</th>\n",
       "      <td>2018</td>\n",
       "      <td>18.678119</td>\n",
       "    </tr>\n",
       "    <tr>\n",
       "      <th>21</th>\n",
       "      <td>2019</td>\n",
       "      <td>18.95426</td>\n",
       "    </tr>\n",
       "    <tr>\n",
       "      <th>22</th>\n",
       "      <td>2020</td>\n",
       "      <td>20.852108</td>\n",
       "    </tr>\n",
       "    <tr>\n",
       "      <th>23</th>\n",
       "      <td>2021</td>\n",
       "      <td>19.985825</td>\n",
       "    </tr>\n",
       "    <tr>\n",
       "      <th>24</th>\n",
       "      <td>2022</td>\n",
       "      <td>None</td>\n",
       "    </tr>\n",
       "  </tbody>\n",
       "</table>\n",
       "</div>"
      ],
      "text/plain": [
       "    Year Central government debt, total (% of GDP)\n",
       "0   1998                                 27.134188\n",
       "1   1999                                 25.005655\n",
       "2   2000                                 25.777906\n",
       "3   2001                                 24.702774\n",
       "4   2002                                 29.742984\n",
       "5   2003                                 28.802889\n",
       "6   2004                                  29.36537\n",
       "7   2005                                 29.397178\n",
       "8   2006                                 25.768354\n",
       "9   2007                                 23.655829\n",
       "10  2008                                 23.082654\n",
       "11  2009                                 21.701637\n",
       "12  2010                                 20.993566\n",
       "13  2011                                 21.142007\n",
       "14  2012                                 21.344496\n",
       "15  2013                                 20.218157\n",
       "16  2014                                 20.611243\n",
       "17  2015                                 20.439295\n",
       "18  2016                                 19.380993\n",
       "19  2017                                 20.284412\n",
       "20  2018                                 18.678119\n",
       "21  2019                                  18.95426\n",
       "22  2020                                 20.852108\n",
       "23  2021                                 19.985825\n",
       "24  2022                                      None"
      ]
     },
     "execution_count": 190,
     "metadata": {},
     "output_type": "execute_result"
    }
   ],
   "source": [
    "df_swi[['Year','Central government debt, total (% of GDP)']]"
   ]
  },
  {
   "cell_type": "markdown",
   "id": "0f8acdc8-6bf2-40fc-983e-a4a01e621a90",
   "metadata": {},
   "source": [
    "Analyzing Switzerland from 2008-2018 as we have complete data for this entire period."
   ]
  },
  {
   "cell_type": "code",
   "execution_count": 191,
   "id": "45866de9-bdfa-4e04-b0aa-716a182dd3ff",
   "metadata": {},
   "outputs": [
    {
     "name": "stdout",
     "output_type": "stream",
     "text": [
      "(11, 18)\n"
     ]
    },
    {
     "data": {
      "text/html": [
       "<div>\n",
       "<style scoped>\n",
       "    .dataframe tbody tr th:only-of-type {\n",
       "        vertical-align: middle;\n",
       "    }\n",
       "\n",
       "    .dataframe tbody tr th {\n",
       "        vertical-align: top;\n",
       "    }\n",
       "\n",
       "    .dataframe thead th {\n",
       "        text-align: right;\n",
       "    }\n",
       "</style>\n",
       "<table border=\"1\" class=\"dataframe\">\n",
       "  <thead>\n",
       "    <tr style=\"text-align: right;\">\n",
       "      <th></th>\n",
       "      <th>Year</th>\n",
       "      <th>GDP growth (annual %)</th>\n",
       "      <th>GDP per capita (current US$)</th>\n",
       "      <th>GDP per capita, PPP (current international $)</th>\n",
       "      <th>Gini index</th>\n",
       "      <th>Inflation, consumer prices (annual %)</th>\n",
       "      <th>Population growth (annual %)</th>\n",
       "      <th>Age dependency ratio, old (% of working-age population)</th>\n",
       "      <th>Age dependency ratio, young (% of working-age population)</th>\n",
       "      <th>General government final consumption expenditure (% of GDP)</th>\n",
       "      <th>Tax revenue (% of GDP)</th>\n",
       "      <th>Total debt service (% of GNI)</th>\n",
       "      <th>Central government debt, total (% of GDP)</th>\n",
       "      <th>External debt stocks (% of GNI)</th>\n",
       "      <th>Interest payments (% of expense)</th>\n",
       "      <th>Interest payments (% of revenue)</th>\n",
       "      <th>Interest payments (current LCU)</th>\n",
       "      <th>Real interest rate (%)</th>\n",
       "    </tr>\n",
       "  </thead>\n",
       "  <tbody>\n",
       "    <tr>\n",
       "      <th>10</th>\n",
       "      <td>2008</td>\n",
       "      <td>2.807984</td>\n",
       "      <td>74175.19279</td>\n",
       "      <td>53808.784113</td>\n",
       "      <td>33.8</td>\n",
       "      <td>2.426041</td>\n",
       "      <td>1.270618</td>\n",
       "      <td>24.020899</td>\n",
       "      <td>22.624278</td>\n",
       "      <td>10.570699</td>\n",
       "      <td>9.587142</td>\n",
       "      <td>None</td>\n",
       "      <td>23.082654</td>\n",
       "      <td>None</td>\n",
       "      <td>3.557391</td>\n",
       "      <td>3.260011</td>\n",
       "      <td>3462083988.82</td>\n",
       "      <td>1.865523</td>\n",
       "    </tr>\n",
       "    <tr>\n",
       "      <th>11</th>\n",
       "      <td>2009</td>\n",
       "      <td>-2.297375</td>\n",
       "      <td>71568.312389</td>\n",
       "      <td>52973.463236</td>\n",
       "      <td>32.9</td>\n",
       "      <td>-0.480482</td>\n",
       "      <td>1.249485</td>\n",
       "      <td>24.339233</td>\n",
       "      <td>22.399993</td>\n",
       "      <td>11.384625</td>\n",
       "      <td>9.348528</td>\n",
       "      <td>None</td>\n",
       "      <td>21.701637</td>\n",
       "      <td>None</td>\n",
       "      <td>2.982891</td>\n",
       "      <td>2.920047</td>\n",
       "      <td>3043314153.91</td>\n",
       "      <td>2.282844</td>\n",
       "    </tr>\n",
       "    <tr>\n",
       "      <th>12</th>\n",
       "      <td>2010</td>\n",
       "      <td>3.243397</td>\n",
       "      <td>76531.372941</td>\n",
       "      <td>54438.978701</td>\n",
       "      <td>32.6</td>\n",
       "      <td>0.688239</td>\n",
       "      <td>1.041558</td>\n",
       "      <td>24.674454</td>\n",
       "      <td>22.285468</td>\n",
       "      <td>11.183612</td>\n",
       "      <td>9.364008</td>\n",
       "      <td>None</td>\n",
       "      <td>20.993566</td>\n",
       "      <td>None</td>\n",
       "      <td>2.758566</td>\n",
       "      <td>2.694517</td>\n",
       "      <td>2880559072.3</td>\n",
       "      <td>2.41305</td>\n",
       "    </tr>\n",
       "    <tr>\n",
       "      <th>13</th>\n",
       "      <td>2011</td>\n",
       "      <td>1.813108</td>\n",
       "      <td>90476.758965</td>\n",
       "      <td>57493.581056</td>\n",
       "      <td>31.7</td>\n",
       "      <td>0.231349</td>\n",
       "      <td>1.111879</td>\n",
       "      <td>25.048732</td>\n",
       "      <td>22.205301</td>\n",
       "      <td>11.275572</td>\n",
       "      <td>9.321952</td>\n",
       "      <td>None</td>\n",
       "      <td>21.142007</td>\n",
       "      <td>None</td>\n",
       "      <td>2.51126</td>\n",
       "      <td>2.409454</td>\n",
       "      <td>2656213802.65</td>\n",
       "      <td>2.739347</td>\n",
       "    </tr>\n",
       "    <tr>\n",
       "      <th>14</th>\n",
       "      <td>2012</td>\n",
       "      <td>1.179254</td>\n",
       "      <td>85836.207677</td>\n",
       "      <td>59440.915861</td>\n",
       "      <td>31.6</td>\n",
       "      <td>-0.692552</td>\n",
       "      <td>1.061819</td>\n",
       "      <td>25.481321</td>\n",
       "      <td>22.110929</td>\n",
       "      <td>11.314927</td>\n",
       "      <td>9.169075</td>\n",
       "      <td>None</td>\n",
       "      <td>21.344496</td>\n",
       "      <td>None</td>\n",
       "      <td>2.261395</td>\n",
       "      <td>2.170227</td>\n",
       "      <td>2404826996.29</td>\n",
       "      <td>2.622942</td>\n",
       "    </tr>\n",
       "  </tbody>\n",
       "</table>\n",
       "</div>"
      ],
      "text/plain": [
       "    Year GDP growth (annual %) GDP per capita (current US$)  \\\n",
       "10  2008              2.807984                  74175.19279   \n",
       "11  2009             -2.297375                 71568.312389   \n",
       "12  2010              3.243397                 76531.372941   \n",
       "13  2011              1.813108                 90476.758965   \n",
       "14  2012              1.179254                 85836.207677   \n",
       "\n",
       "   GDP per capita, PPP (current international $) Gini index  \\\n",
       "10                                  53808.784113       33.8   \n",
       "11                                  52973.463236       32.9   \n",
       "12                                  54438.978701       32.6   \n",
       "13                                  57493.581056       31.7   \n",
       "14                                  59440.915861       31.6   \n",
       "\n",
       "   Inflation, consumer prices (annual %) Population growth (annual %)  \\\n",
       "10                              2.426041                     1.270618   \n",
       "11                             -0.480482                     1.249485   \n",
       "12                              0.688239                     1.041558   \n",
       "13                              0.231349                     1.111879   \n",
       "14                             -0.692552                     1.061819   \n",
       "\n",
       "   Age dependency ratio, old (% of working-age population)  \\\n",
       "10                                          24.020899        \n",
       "11                                          24.339233        \n",
       "12                                          24.674454        \n",
       "13                                          25.048732        \n",
       "14                                          25.481321        \n",
       "\n",
       "   Age dependency ratio, young (% of working-age population)  \\\n",
       "10                                          22.624278          \n",
       "11                                          22.399993          \n",
       "12                                          22.285468          \n",
       "13                                          22.205301          \n",
       "14                                          22.110929          \n",
       "\n",
       "   General government final consumption expenditure (% of GDP)  \\\n",
       "10                                          10.570699            \n",
       "11                                          11.384625            \n",
       "12                                          11.183612            \n",
       "13                                          11.275572            \n",
       "14                                          11.314927            \n",
       "\n",
       "   Tax revenue (% of GDP) Total debt service (% of GNI)  \\\n",
       "10               9.587142                          None   \n",
       "11               9.348528                          None   \n",
       "12               9.364008                          None   \n",
       "13               9.321952                          None   \n",
       "14               9.169075                          None   \n",
       "\n",
       "   Central government debt, total (% of GDP) External debt stocks (% of GNI)  \\\n",
       "10                                 23.082654                            None   \n",
       "11                                 21.701637                            None   \n",
       "12                                 20.993566                            None   \n",
       "13                                 21.142007                            None   \n",
       "14                                 21.344496                            None   \n",
       "\n",
       "   Interest payments (% of expense) Interest payments (% of revenue)  \\\n",
       "10                         3.557391                         3.260011   \n",
       "11                         2.982891                         2.920047   \n",
       "12                         2.758566                         2.694517   \n",
       "13                          2.51126                         2.409454   \n",
       "14                         2.261395                         2.170227   \n",
       "\n",
       "   Interest payments (current LCU) Real interest rate (%)  \n",
       "10                   3462083988.82               1.865523  \n",
       "11                   3043314153.91               2.282844  \n",
       "12                    2880559072.3                2.41305  \n",
       "13                   2656213802.65               2.739347  \n",
       "14                   2404826996.29               2.622942  "
      ]
     },
     "execution_count": 191,
     "metadata": {},
     "output_type": "execute_result"
    }
   ],
   "source": [
    "start_year=2008\n",
    "end_year=2018\n",
    "df_swi=df_swi[(df_swi['Year']>=start_year)&(df_swi['Year']<=end_year)]\n",
    "print(df_swi.shape)\n",
    "df_swi.head()"
   ]
  },
  {
   "cell_type": "code",
   "execution_count": 192,
   "id": "65ccd5ee-a2e0-4e51-9db4-01bd13c3a0c3",
   "metadata": {},
   "outputs": [
    {
     "data": {
      "text/plain": [
       "\n",
       "Year                                                            int64\n",
       "GDP growth (annual %)                                          object\n",
       "GDP per capita (current US$)                                   object\n",
       "GDP per capita, PPP (current international $)                  object\n",
       "Gini index                                                     object\n",
       "Inflation, consumer prices (annual %)                          object\n",
       "Population growth (annual %)                                   object\n",
       "Age dependency ratio, old (% of working-age population)        object\n",
       "Age dependency ratio, young (% of working-age population)      object\n",
       "General government final consumption expenditure (% of GDP)    object\n",
       "Tax revenue (% of GDP)                                         object\n",
       "Total debt service (% of GNI)                                  object\n",
       "Central government debt, total (% of GDP)                      object\n",
       "External debt stocks (% of GNI)                                object\n",
       "Interest payments (% of expense)                               object\n",
       "Interest payments (% of revenue)                               object\n",
       "Interest payments (current LCU)                                object\n",
       "Real interest rate (%)                                         object\n",
       "dtype: object"
      ]
     },
     "execution_count": 192,
     "metadata": {},
     "output_type": "execute_result"
    }
   ],
   "source": [
    "df_swi.dtypes"
   ]
  },
  {
   "cell_type": "code",
   "execution_count": 193,
   "id": "d714c4e4-af32-43a3-85d6-9fa05727cff6",
   "metadata": {},
   "outputs": [
    {
     "data": {
      "text/plain": [
       "\n",
       "Year                                                             int64\n",
       "GDP growth (annual %)                                          float64\n",
       "GDP per capita (current US$)                                   float64\n",
       "GDP per capita, PPP (current international $)                  float64\n",
       "Gini index                                                     float64\n",
       "Inflation, consumer prices (annual %)                          float64\n",
       "Population growth (annual %)                                   float64\n",
       "Age dependency ratio, old (% of working-age population)        float64\n",
       "Age dependency ratio, young (% of working-age population)      float64\n",
       "General government final consumption expenditure (% of GDP)    float64\n",
       "Tax revenue (% of GDP)                                         float64\n",
       "Total debt service (% of GNI)                                  float64\n",
       "Central government debt, total (% of GDP)                      float64\n",
       "External debt stocks (% of GNI)                                float64\n",
       "Interest payments (% of expense)                               float64\n",
       "Interest payments (% of revenue)                               float64\n",
       "Interest payments (current LCU)                                float64\n",
       "Real interest rate (%)                                         float64\n",
       "dtype: object"
      ]
     },
     "execution_count": 193,
     "metadata": {},
     "output_type": "execute_result"
    }
   ],
   "source": [
    "# convert just columns \"a\" and \"b\"\n",
    "df_swi[indicators] = df_swi[indicators].apply(pd.to_numeric)\n",
    "df_swi.dtypes"
   ]
  },
  {
   "cell_type": "code",
   "execution_count": 194,
   "id": "3adb6394-71dd-4b15-aeda-3943af3512fe",
   "metadata": {
    "scrolled": true
   },
   "outputs": [
    {
     "data": {
      "text/html": [
       "<div>\n",
       "<style scoped>\n",
       "    .dataframe tbody tr th:only-of-type {\n",
       "        vertical-align: middle;\n",
       "    }\n",
       "\n",
       "    .dataframe tbody tr th {\n",
       "        vertical-align: top;\n",
       "    }\n",
       "\n",
       "    .dataframe thead th {\n",
       "        text-align: right;\n",
       "    }\n",
       "</style>\n",
       "<table border=\"1\" class=\"dataframe\">\n",
       "  <thead>\n",
       "    <tr style=\"text-align: right;\">\n",
       "      <th></th>\n",
       "      <th>Year</th>\n",
       "      <th>GDP growth (annual %)</th>\n",
       "      <th>GDP per capita (current US$)</th>\n",
       "      <th>GDP per capita, PPP (current international $)</th>\n",
       "      <th>Gini index</th>\n",
       "      <th>Inflation, consumer prices (annual %)</th>\n",
       "      <th>Population growth (annual %)</th>\n",
       "      <th>Age dependency ratio, old (% of working-age population)</th>\n",
       "      <th>Age dependency ratio, young (% of working-age population)</th>\n",
       "      <th>General government final consumption expenditure (% of GDP)</th>\n",
       "      <th>...</th>\n",
       "      <th>Central government debt, total (% of GDP)</th>\n",
       "      <th>External debt stocks (% of GNI)</th>\n",
       "      <th>Interest payments (% of expense)</th>\n",
       "      <th>Interest payments (% of revenue)</th>\n",
       "      <th>Interest payments (current LCU)</th>\n",
       "      <th>Real interest rate (%)</th>\n",
       "      <th>GDP per capita Growth_Rate (current US$)</th>\n",
       "      <th>GDP per capita, PPP Growth_Rate (current international $)</th>\n",
       "      <th>Age dependency ratio, young (% change)</th>\n",
       "      <th>Age dependency ratio, old (% change)</th>\n",
       "    </tr>\n",
       "  </thead>\n",
       "  <tbody>\n",
       "    <tr>\n",
       "      <th>10</th>\n",
       "      <td>2008</td>\n",
       "      <td>2.807984</td>\n",
       "      <td>74175.192790</td>\n",
       "      <td>53808.784113</td>\n",
       "      <td>33.8</td>\n",
       "      <td>2.426041</td>\n",
       "      <td>1.270618</td>\n",
       "      <td>24.020899</td>\n",
       "      <td>22.624278</td>\n",
       "      <td>10.570699</td>\n",
       "      <td>...</td>\n",
       "      <td>23.082654</td>\n",
       "      <td>NaN</td>\n",
       "      <td>3.557391</td>\n",
       "      <td>3.260011</td>\n",
       "      <td>3.462084e+09</td>\n",
       "      <td>1.865523</td>\n",
       "      <td>NaN</td>\n",
       "      <td>NaN</td>\n",
       "      <td>NaN</td>\n",
       "      <td>NaN</td>\n",
       "    </tr>\n",
       "    <tr>\n",
       "      <th>11</th>\n",
       "      <td>2009</td>\n",
       "      <td>-2.297375</td>\n",
       "      <td>71568.312389</td>\n",
       "      <td>52973.463236</td>\n",
       "      <td>32.9</td>\n",
       "      <td>-0.480482</td>\n",
       "      <td>1.249485</td>\n",
       "      <td>24.339233</td>\n",
       "      <td>22.399993</td>\n",
       "      <td>11.384625</td>\n",
       "      <td>...</td>\n",
       "      <td>21.701637</td>\n",
       "      <td>NaN</td>\n",
       "      <td>2.982891</td>\n",
       "      <td>2.920047</td>\n",
       "      <td>3.043314e+09</td>\n",
       "      <td>2.282844</td>\n",
       "      <td>-3.514491</td>\n",
       "      <td>-1.552388</td>\n",
       "      <td>-0.991347</td>\n",
       "      <td>1.325238</td>\n",
       "    </tr>\n",
       "    <tr>\n",
       "      <th>12</th>\n",
       "      <td>2010</td>\n",
       "      <td>3.243397</td>\n",
       "      <td>76531.372941</td>\n",
       "      <td>54438.978701</td>\n",
       "      <td>32.6</td>\n",
       "      <td>0.688239</td>\n",
       "      <td>1.041558</td>\n",
       "      <td>24.674454</td>\n",
       "      <td>22.285468</td>\n",
       "      <td>11.183612</td>\n",
       "      <td>...</td>\n",
       "      <td>20.993566</td>\n",
       "      <td>NaN</td>\n",
       "      <td>2.758566</td>\n",
       "      <td>2.694517</td>\n",
       "      <td>2.880559e+09</td>\n",
       "      <td>2.413050</td>\n",
       "      <td>6.934718</td>\n",
       "      <td>2.766509</td>\n",
       "      <td>-0.511270</td>\n",
       "      <td>1.377288</td>\n",
       "    </tr>\n",
       "    <tr>\n",
       "      <th>13</th>\n",
       "      <td>2011</td>\n",
       "      <td>1.813108</td>\n",
       "      <td>90476.758965</td>\n",
       "      <td>57493.581056</td>\n",
       "      <td>31.7</td>\n",
       "      <td>0.231349</td>\n",
       "      <td>1.111879</td>\n",
       "      <td>25.048732</td>\n",
       "      <td>22.205301</td>\n",
       "      <td>11.275572</td>\n",
       "      <td>...</td>\n",
       "      <td>21.142007</td>\n",
       "      <td>NaN</td>\n",
       "      <td>2.511260</td>\n",
       "      <td>2.409454</td>\n",
       "      <td>2.656214e+09</td>\n",
       "      <td>2.739347</td>\n",
       "      <td>18.221790</td>\n",
       "      <td>5.611057</td>\n",
       "      <td>-0.359729</td>\n",
       "      <td>1.516863</td>\n",
       "    </tr>\n",
       "    <tr>\n",
       "      <th>14</th>\n",
       "      <td>2012</td>\n",
       "      <td>1.179254</td>\n",
       "      <td>85836.207677</td>\n",
       "      <td>59440.915861</td>\n",
       "      <td>31.6</td>\n",
       "      <td>-0.692552</td>\n",
       "      <td>1.061819</td>\n",
       "      <td>25.481321</td>\n",
       "      <td>22.110929</td>\n",
       "      <td>11.314927</td>\n",
       "      <td>...</td>\n",
       "      <td>21.344496</td>\n",
       "      <td>NaN</td>\n",
       "      <td>2.261395</td>\n",
       "      <td>2.170227</td>\n",
       "      <td>2.404827e+09</td>\n",
       "      <td>2.622942</td>\n",
       "      <td>-5.128998</td>\n",
       "      <td>3.387047</td>\n",
       "      <td>-0.424999</td>\n",
       "      <td>1.726991</td>\n",
       "    </tr>\n",
       "  </tbody>\n",
       "</table>\n",
       "<p>5 rows × 22 columns</p>\n",
       "</div>"
      ],
      "text/plain": [
       "    Year  GDP growth (annual %)  GDP per capita (current US$)  \\\n",
       "10  2008               2.807984                  74175.192790   \n",
       "11  2009              -2.297375                  71568.312389   \n",
       "12  2010               3.243397                  76531.372941   \n",
       "13  2011               1.813108                  90476.758965   \n",
       "14  2012               1.179254                  85836.207677   \n",
       "\n",
       "    GDP per capita, PPP (current international $)  Gini index  \\\n",
       "10                                   53808.784113        33.8   \n",
       "11                                   52973.463236        32.9   \n",
       "12                                   54438.978701        32.6   \n",
       "13                                   57493.581056        31.7   \n",
       "14                                   59440.915861        31.6   \n",
       "\n",
       "    Inflation, consumer prices (annual %)  Population growth (annual %)  \\\n",
       "10                               2.426041                      1.270618   \n",
       "11                              -0.480482                      1.249485   \n",
       "12                               0.688239                      1.041558   \n",
       "13                               0.231349                      1.111879   \n",
       "14                              -0.692552                      1.061819   \n",
       "\n",
       "    Age dependency ratio, old (% of working-age population)  \\\n",
       "10                                          24.020899         \n",
       "11                                          24.339233         \n",
       "12                                          24.674454         \n",
       "13                                          25.048732         \n",
       "14                                          25.481321         \n",
       "\n",
       "    Age dependency ratio, young (% of working-age population)  \\\n",
       "10                                          22.624278           \n",
       "11                                          22.399993           \n",
       "12                                          22.285468           \n",
       "13                                          22.205301           \n",
       "14                                          22.110929           \n",
       "\n",
       "    General government final consumption expenditure (% of GDP)  ...  \\\n",
       "10                                          10.570699            ...   \n",
       "11                                          11.384625            ...   \n",
       "12                                          11.183612            ...   \n",
       "13                                          11.275572            ...   \n",
       "14                                          11.314927            ...   \n",
       "\n",
       "    Central government debt, total (% of GDP)  \\\n",
       "10                                  23.082654   \n",
       "11                                  21.701637   \n",
       "12                                  20.993566   \n",
       "13                                  21.142007   \n",
       "14                                  21.344496   \n",
       "\n",
       "    External debt stocks (% of GNI)  Interest payments (% of expense)  \\\n",
       "10                              NaN                          3.557391   \n",
       "11                              NaN                          2.982891   \n",
       "12                              NaN                          2.758566   \n",
       "13                              NaN                          2.511260   \n",
       "14                              NaN                          2.261395   \n",
       "\n",
       "    Interest payments (% of revenue)  Interest payments (current LCU)  \\\n",
       "10                          3.260011                     3.462084e+09   \n",
       "11                          2.920047                     3.043314e+09   \n",
       "12                          2.694517                     2.880559e+09   \n",
       "13                          2.409454                     2.656214e+09   \n",
       "14                          2.170227                     2.404827e+09   \n",
       "\n",
       "    Real interest rate (%)  GDP per capita Growth_Rate (current US$)  \\\n",
       "10                1.865523                                       NaN   \n",
       "11                2.282844                                 -3.514491   \n",
       "12                2.413050                                  6.934718   \n",
       "13                2.739347                                 18.221790   \n",
       "14                2.622942                                 -5.128998   \n",
       "\n",
       "    GDP per capita, PPP Growth_Rate (current international $)  \\\n",
       "10                                                NaN           \n",
       "11                                          -1.552388           \n",
       "12                                           2.766509           \n",
       "13                                           5.611057           \n",
       "14                                           3.387047           \n",
       "\n",
       "    Age dependency ratio, young (% change)  \\\n",
       "10                                     NaN   \n",
       "11                               -0.991347   \n",
       "12                               -0.511270   \n",
       "13                               -0.359729   \n",
       "14                               -0.424999   \n",
       "\n",
       "    Age dependency ratio, old (% change)  \n",
       "10                                   NaN  \n",
       "11                              1.325238  \n",
       "12                              1.377288  \n",
       "13                              1.516863  \n",
       "14                              1.726991  \n",
       "\n",
       "[5 rows x 22 columns]"
      ]
     },
     "execution_count": 194,
     "metadata": {},
     "output_type": "execute_result"
    }
   ],
   "source": [
    "df_swi['GDP per capita Growth_Rate (current US$)'] = df_swi['GDP per capita (current US$)'].pct_change(periods=1) * 100\n",
    "df_swi['GDP per capita, PPP Growth_Rate (current international $)'] = df_swi['GDP per capita, PPP (current international $)'].pct_change(periods=1) * 100\n",
    "df_swi['Age dependency ratio, young (% change)']=df_swi['Age dependency ratio, young (% of working-age population)'].pct_change(periods=1)*100\n",
    "df_swi['Age dependency ratio, old (% change)']=df_swi['Age dependency ratio, old (% of working-age population)'].pct_change(periods=1)*100\n",
    "df_swi.head()"
   ]
  },
  {
   "cell_type": "code",
   "execution_count": 205,
   "id": "be6d05e7-4088-45f9-b11c-ae4d00d1c900",
   "metadata": {},
   "outputs": [
    {
     "data": {
      "text/html": [
       "<div>\n",
       "<style scoped>\n",
       "    .dataframe tbody tr th:only-of-type {\n",
       "        vertical-align: middle;\n",
       "    }\n",
       "\n",
       "    .dataframe tbody tr th {\n",
       "        vertical-align: top;\n",
       "    }\n",
       "\n",
       "    .dataframe thead th {\n",
       "        text-align: right;\n",
       "    }\n",
       "</style>\n",
       "<table border=\"1\" class=\"dataframe\">\n",
       "  <thead>\n",
       "    <tr style=\"text-align: right;\">\n",
       "      <th></th>\n",
       "      <th>Year</th>\n",
       "      <th>GDP growth (annual %)</th>\n",
       "      <th>GDP per capita (current US$)</th>\n",
       "      <th>GDP per capita, PPP (current international $)</th>\n",
       "      <th>Gini index</th>\n",
       "      <th>Inflation, consumer prices (annual %)</th>\n",
       "      <th>Population growth (annual %)</th>\n",
       "      <th>Age dependency ratio, old (% of working-age population)</th>\n",
       "      <th>Age dependency ratio, young (% of working-age population)</th>\n",
       "      <th>General government final consumption expenditure (% of GDP)</th>\n",
       "      <th>...</th>\n",
       "      <th>Interest payments (% of revenue)</th>\n",
       "      <th>Interest payments (current LCU)</th>\n",
       "      <th>Real interest rate (%)</th>\n",
       "      <th>GDP per capita Growth_Rate (current US$)</th>\n",
       "      <th>GDP per capita, PPP Growth_Rate (current international $)</th>\n",
       "      <th>Age dependency ratio, young (% change)</th>\n",
       "      <th>Age dependency ratio, old (% change)</th>\n",
       "      <th>Age dependency ratio, middle (% of working-age population)</th>\n",
       "      <th>Current Account Balance</th>\n",
       "      <th>Current Account Balance (% of GDP)</th>\n",
       "    </tr>\n",
       "  </thead>\n",
       "  <tbody>\n",
       "    <tr>\n",
       "      <th>10</th>\n",
       "      <td>2008</td>\n",
       "      <td>2.807984</td>\n",
       "      <td>74175.192790</td>\n",
       "      <td>53808.784113</td>\n",
       "      <td>33.8</td>\n",
       "      <td>2.426041</td>\n",
       "      <td>1.270618</td>\n",
       "      <td>24.020899</td>\n",
       "      <td>22.624278</td>\n",
       "      <td>10.570699</td>\n",
       "      <td>...</td>\n",
       "      <td>3.260011</td>\n",
       "      <td>3.462084e+09</td>\n",
       "      <td>1.865523</td>\n",
       "      <td>NaN</td>\n",
       "      <td>NaN</td>\n",
       "      <td>NaN</td>\n",
       "      <td>NaN</td>\n",
       "      <td>53.354824</td>\n",
       "      <td>-0.983557</td>\n",
       "      <td>-0.983557</td>\n",
       "    </tr>\n",
       "    <tr>\n",
       "      <th>11</th>\n",
       "      <td>2009</td>\n",
       "      <td>-2.297375</td>\n",
       "      <td>71568.312389</td>\n",
       "      <td>52973.463236</td>\n",
       "      <td>32.9</td>\n",
       "      <td>-0.480482</td>\n",
       "      <td>1.249485</td>\n",
       "      <td>24.339233</td>\n",
       "      <td>22.399993</td>\n",
       "      <td>11.384625</td>\n",
       "      <td>...</td>\n",
       "      <td>2.920047</td>\n",
       "      <td>3.043314e+09</td>\n",
       "      <td>2.282844</td>\n",
       "      <td>-3.514491</td>\n",
       "      <td>-1.552388</td>\n",
       "      <td>-0.991347</td>\n",
       "      <td>1.325238</td>\n",
       "      <td>53.260774</td>\n",
       "      <td>-2.036097</td>\n",
       "      <td>-2.036097</td>\n",
       "    </tr>\n",
       "    <tr>\n",
       "      <th>12</th>\n",
       "      <td>2010</td>\n",
       "      <td>3.243397</td>\n",
       "      <td>76531.372941</td>\n",
       "      <td>54438.978701</td>\n",
       "      <td>32.6</td>\n",
       "      <td>0.688239</td>\n",
       "      <td>1.041558</td>\n",
       "      <td>24.674454</td>\n",
       "      <td>22.285468</td>\n",
       "      <td>11.183612</td>\n",
       "      <td>...</td>\n",
       "      <td>2.694517</td>\n",
       "      <td>2.880559e+09</td>\n",
       "      <td>2.413050</td>\n",
       "      <td>6.934718</td>\n",
       "      <td>2.766509</td>\n",
       "      <td>-0.511270</td>\n",
       "      <td>1.377288</td>\n",
       "      <td>53.040077</td>\n",
       "      <td>-1.819604</td>\n",
       "      <td>-1.819604</td>\n",
       "    </tr>\n",
       "    <tr>\n",
       "      <th>13</th>\n",
       "      <td>2011</td>\n",
       "      <td>1.813108</td>\n",
       "      <td>90476.758965</td>\n",
       "      <td>57493.581056</td>\n",
       "      <td>31.7</td>\n",
       "      <td>0.231349</td>\n",
       "      <td>1.111879</td>\n",
       "      <td>25.048732</td>\n",
       "      <td>22.205301</td>\n",
       "      <td>11.275572</td>\n",
       "      <td>...</td>\n",
       "      <td>2.409454</td>\n",
       "      <td>2.656214e+09</td>\n",
       "      <td>2.739347</td>\n",
       "      <td>18.221790</td>\n",
       "      <td>5.611057</td>\n",
       "      <td>-0.359729</td>\n",
       "      <td>1.516863</td>\n",
       "      <td>52.745967</td>\n",
       "      <td>-1.953619</td>\n",
       "      <td>-1.953619</td>\n",
       "    </tr>\n",
       "    <tr>\n",
       "      <th>14</th>\n",
       "      <td>2012</td>\n",
       "      <td>1.179254</td>\n",
       "      <td>85836.207677</td>\n",
       "      <td>59440.915861</td>\n",
       "      <td>31.6</td>\n",
       "      <td>-0.692552</td>\n",
       "      <td>1.061819</td>\n",
       "      <td>25.481321</td>\n",
       "      <td>22.110929</td>\n",
       "      <td>11.314927</td>\n",
       "      <td>...</td>\n",
       "      <td>2.170227</td>\n",
       "      <td>2.404827e+09</td>\n",
       "      <td>2.622942</td>\n",
       "      <td>-5.128998</td>\n",
       "      <td>3.387047</td>\n",
       "      <td>-0.424999</td>\n",
       "      <td>1.726991</td>\n",
       "      <td>52.407750</td>\n",
       "      <td>-2.145853</td>\n",
       "      <td>-2.145853</td>\n",
       "    </tr>\n",
       "  </tbody>\n",
       "</table>\n",
       "<p>5 rows × 25 columns</p>\n",
       "</div>"
      ],
      "text/plain": [
       "    Year  GDP growth (annual %)  GDP per capita (current US$)  \\\n",
       "10  2008               2.807984                  74175.192790   \n",
       "11  2009              -2.297375                  71568.312389   \n",
       "12  2010               3.243397                  76531.372941   \n",
       "13  2011               1.813108                  90476.758965   \n",
       "14  2012               1.179254                  85836.207677   \n",
       "\n",
       "    GDP per capita, PPP (current international $)  Gini index  \\\n",
       "10                                   53808.784113        33.8   \n",
       "11                                   52973.463236        32.9   \n",
       "12                                   54438.978701        32.6   \n",
       "13                                   57493.581056        31.7   \n",
       "14                                   59440.915861        31.6   \n",
       "\n",
       "    Inflation, consumer prices (annual %)  Population growth (annual %)  \\\n",
       "10                               2.426041                      1.270618   \n",
       "11                              -0.480482                      1.249485   \n",
       "12                               0.688239                      1.041558   \n",
       "13                               0.231349                      1.111879   \n",
       "14                              -0.692552                      1.061819   \n",
       "\n",
       "    Age dependency ratio, old (% of working-age population)  \\\n",
       "10                                          24.020899         \n",
       "11                                          24.339233         \n",
       "12                                          24.674454         \n",
       "13                                          25.048732         \n",
       "14                                          25.481321         \n",
       "\n",
       "    Age dependency ratio, young (% of working-age population)  \\\n",
       "10                                          22.624278           \n",
       "11                                          22.399993           \n",
       "12                                          22.285468           \n",
       "13                                          22.205301           \n",
       "14                                          22.110929           \n",
       "\n",
       "    General government final consumption expenditure (% of GDP)  ...  \\\n",
       "10                                          10.570699            ...   \n",
       "11                                          11.384625            ...   \n",
       "12                                          11.183612            ...   \n",
       "13                                          11.275572            ...   \n",
       "14                                          11.314927            ...   \n",
       "\n",
       "    Interest payments (% of revenue)  Interest payments (current LCU)  \\\n",
       "10                          3.260011                     3.462084e+09   \n",
       "11                          2.920047                     3.043314e+09   \n",
       "12                          2.694517                     2.880559e+09   \n",
       "13                          2.409454                     2.656214e+09   \n",
       "14                          2.170227                     2.404827e+09   \n",
       "\n",
       "    Real interest rate (%)  GDP per capita Growth_Rate (current US$)  \\\n",
       "10                1.865523                                       NaN   \n",
       "11                2.282844                                 -3.514491   \n",
       "12                2.413050                                  6.934718   \n",
       "13                2.739347                                 18.221790   \n",
       "14                2.622942                                 -5.128998   \n",
       "\n",
       "    GDP per capita, PPP Growth_Rate (current international $)  \\\n",
       "10                                                NaN           \n",
       "11                                          -1.552388           \n",
       "12                                           2.766509           \n",
       "13                                           5.611057           \n",
       "14                                           3.387047           \n",
       "\n",
       "    Age dependency ratio, young (% change)  \\\n",
       "10                                     NaN   \n",
       "11                               -0.991347   \n",
       "12                               -0.511270   \n",
       "13                               -0.359729   \n",
       "14                               -0.424999   \n",
       "\n",
       "    Age dependency ratio, old (% change)  \\\n",
       "10                                   NaN   \n",
       "11                              1.325238   \n",
       "12                              1.377288   \n",
       "13                              1.516863   \n",
       "14                              1.726991   \n",
       "\n",
       "    Age dependency ratio, middle (% of working-age population)  \\\n",
       "10                                          53.354824            \n",
       "11                                          53.260774            \n",
       "12                                          53.040077            \n",
       "13                                          52.745967            \n",
       "14                                          52.407750            \n",
       "\n",
       "    Current Account Balance  Current Account Balance (% of GDP)  \n",
       "10                -0.983557                           -0.983557  \n",
       "11                -2.036097                           -2.036097  \n",
       "12                -1.819604                           -1.819604  \n",
       "13                -1.953619                           -1.953619  \n",
       "14                -2.145853                           -2.145853  \n",
       "\n",
       "[5 rows x 25 columns]"
      ]
     },
     "execution_count": 205,
     "metadata": {},
     "output_type": "execute_result"
    }
   ],
   "source": [
    "df_swi['Age dependency ratio, middle (% of working-age population)']= 100 - (df_swi['Age dependency ratio, old (% of working-age population)']+\n",
    "                                                                             df_swi['Age dependency ratio, young (% of working-age population)'])\n",
    "df_swi[\"Current Account Balance (% of GDP)\"]=df_swi['Tax revenue (% of GDP)']-df_swi['General government final consumption expenditure (% of GDP)']\n",
    "df_swi.head()\n",
    "                                                                             "
   ]
  },
  {
   "cell_type": "code",
   "execution_count": 212,
   "id": "e5f6ae15-7656-4723-874e-97a5ef9898a6",
   "metadata": {},
   "outputs": [
    {
     "data": {
      "text/html": [
       "<div>\n",
       "<style scoped>\n",
       "    .dataframe tbody tr th:only-of-type {\n",
       "        vertical-align: middle;\n",
       "    }\n",
       "\n",
       "    .dataframe tbody tr th {\n",
       "        vertical-align: top;\n",
       "    }\n",
       "\n",
       "    .dataframe thead th {\n",
       "        text-align: right;\n",
       "    }\n",
       "</style>\n",
       "<table border=\"1\" class=\"dataframe\">\n",
       "  <thead>\n",
       "    <tr style=\"text-align: right;\">\n",
       "      <th></th>\n",
       "      <th>Year</th>\n",
       "      <th>GDP growth (annual %)</th>\n",
       "      <th>GDP per capita (current US$)</th>\n",
       "      <th>GDP per capita, PPP (current international $)</th>\n",
       "      <th>Gini index</th>\n",
       "      <th>Inflation, consumer prices (annual %)</th>\n",
       "      <th>Population growth (annual %)</th>\n",
       "      <th>Age dependency ratio, old (% of working-age population)</th>\n",
       "      <th>Age dependency ratio, young (% of working-age population)</th>\n",
       "      <th>General government final consumption expenditure (% of GDP)</th>\n",
       "      <th>...</th>\n",
       "      <th>Interest payments (% of revenue)</th>\n",
       "      <th>Interest payments (current LCU)</th>\n",
       "      <th>Real interest rate (%)</th>\n",
       "      <th>GDP per capita Growth_Rate (current US$)</th>\n",
       "      <th>GDP per capita, PPP Growth_Rate (current international $)</th>\n",
       "      <th>Age dependency ratio, young (% change)</th>\n",
       "      <th>Age dependency ratio, old (% change)</th>\n",
       "      <th>Age dependency ratio, middle (% of working-age population)</th>\n",
       "      <th>Current Account Balance</th>\n",
       "      <th>Current Account Balance (% of GDP)</th>\n",
       "    </tr>\n",
       "  </thead>\n",
       "  <tbody>\n",
       "    <tr>\n",
       "      <th>count</th>\n",
       "      <td>11.000000</td>\n",
       "      <td>11.000000</td>\n",
       "      <td>11.000000</td>\n",
       "      <td>11.000000</td>\n",
       "      <td>11.000000</td>\n",
       "      <td>11.000000</td>\n",
       "      <td>11.000000</td>\n",
       "      <td>11.000000</td>\n",
       "      <td>11.000000</td>\n",
       "      <td>11.000000</td>\n",
       "      <td>...</td>\n",
       "      <td>11.000000</td>\n",
       "      <td>1.100000e+01</td>\n",
       "      <td>11.000000</td>\n",
       "      <td>10.000000</td>\n",
       "      <td>10.000000</td>\n",
       "      <td>10.000000</td>\n",
       "      <td>10.000000</td>\n",
       "      <td>11.000000</td>\n",
       "      <td>11.000000</td>\n",
       "      <td>11.000000</td>\n",
       "    </tr>\n",
       "    <tr>\n",
       "      <th>mean</th>\n",
       "      <td>2013.000000</td>\n",
       "      <td>1.711360</td>\n",
       "      <td>82549.857682</td>\n",
       "      <td>61338.850428</td>\n",
       "      <td>32.609091</td>\n",
       "      <td>0.166697</td>\n",
       "      <td>1.091409</td>\n",
       "      <td>25.798349</td>\n",
       "      <td>22.261887</td>\n",
       "      <td>11.313681</td>\n",
       "      <td>...</td>\n",
       "      <td>2.021856</td>\n",
       "      <td>2.260702e+09</td>\n",
       "      <td>2.742542</td>\n",
       "      <td>1.605976</td>\n",
       "      <td>2.781525</td>\n",
       "      <td>-0.053585</td>\n",
       "      <td>1.381857</td>\n",
       "      <td>51.939763</td>\n",
       "      <td>-1.872981</td>\n",
       "      <td>-1.872981</td>\n",
       "    </tr>\n",
       "    <tr>\n",
       "      <th>std</th>\n",
       "      <td>3.316625</td>\n",
       "      <td>1.479913</td>\n",
       "      <td>6084.932478</td>\n",
       "      <td>6189.216614</td>\n",
       "      <td>0.622020</td>\n",
       "      <td>0.975919</td>\n",
       "      <td>0.152963</td>\n",
       "      <td>1.184589</td>\n",
       "      <td>0.185108</td>\n",
       "      <td>0.272899</td>\n",
       "      <td>...</td>\n",
       "      <td>0.740174</td>\n",
       "      <td>7.015669e+08</td>\n",
       "      <td>0.647220</td>\n",
       "      <td>7.040981</td>\n",
       "      <td>1.866575</td>\n",
       "      <td>0.552433</td>\n",
       "      <td>0.177915</td>\n",
       "      <td>1.150185</td>\n",
       "      <td>0.398991</td>\n",
       "      <td>0.398991</td>\n",
       "    </tr>\n",
       "    <tr>\n",
       "      <th>min</th>\n",
       "      <td>2008.000000</td>\n",
       "      <td>-2.297375</td>\n",
       "      <td>71568.312389</td>\n",
       "      <td>52973.463236</td>\n",
       "      <td>31.600000</td>\n",
       "      <td>-1.143909</td>\n",
       "      <td>0.736634</td>\n",
       "      <td>24.020899</td>\n",
       "      <td>22.070655</td>\n",
       "      <td>10.570699</td>\n",
       "      <td>...</td>\n",
       "      <td>0.942717</td>\n",
       "      <td>1.190327e+09</td>\n",
       "      <td>1.849005</td>\n",
       "      <td>-5.543583</td>\n",
       "      <td>-1.552388</td>\n",
       "      <td>-0.991347</td>\n",
       "      <td>1.100136</td>\n",
       "      <td>49.945692</td>\n",
       "      <td>-2.394297</td>\n",
       "      <td>-2.394297</td>\n",
       "    </tr>\n",
       "    <tr>\n",
       "      <th>25%</th>\n",
       "      <td>2010.500000</td>\n",
       "      <td>1.503714</td>\n",
       "      <td>79342.223743</td>\n",
       "      <td>55966.279878</td>\n",
       "      <td>32.400000</td>\n",
       "      <td>-0.457550</td>\n",
       "      <td>1.051689</td>\n",
       "      <td>24.861593</td>\n",
       "      <td>22.104402</td>\n",
       "      <td>11.270246</td>\n",
       "      <td>...</td>\n",
       "      <td>1.524844</td>\n",
       "      <td>1.814670e+09</td>\n",
       "      <td>2.347947</td>\n",
       "      <td>-3.129080</td>\n",
       "      <td>2.788747</td>\n",
       "      <td>-0.408681</td>\n",
       "      <td>1.261024</td>\n",
       "      <td>51.163799</td>\n",
       "      <td>-2.128106</td>\n",
       "      <td>-2.128106</td>\n",
       "    </tr>\n",
       "    <tr>\n",
       "      <th>50%</th>\n",
       "      <td>2013.000000</td>\n",
       "      <td>1.813108</td>\n",
       "      <td>83806.447600</td>\n",
       "      <td>61656.466171</td>\n",
       "      <td>32.600000</td>\n",
       "      <td>-0.013203</td>\n",
       "      <td>1.111879</td>\n",
       "      <td>25.869419</td>\n",
       "      <td>22.205301</td>\n",
       "      <td>11.384625</td>\n",
       "      <td>...</td>\n",
       "      <td>1.881137</td>\n",
       "      <td>2.144873e+09</td>\n",
       "      <td>2.739347</td>\n",
       "      <td>0.875280</td>\n",
       "      <td>3.054897</td>\n",
       "      <td>-0.076362</td>\n",
       "      <td>1.378364</td>\n",
       "      <td>52.059926</td>\n",
       "      <td>-1.981388</td>\n",
       "      <td>-1.981388</td>\n",
       "    </tr>\n",
       "    <tr>\n",
       "      <th>75%</th>\n",
       "      <td>2015.500000</td>\n",
       "      <td>2.578932</td>\n",
       "      <td>86570.269129</td>\n",
       "      <td>66307.898804</td>\n",
       "      <td>32.950000</td>\n",
       "      <td>0.611013</td>\n",
       "      <td>1.184992</td>\n",
       "      <td>26.697429</td>\n",
       "      <td>22.364597</td>\n",
       "      <td>11.495514</td>\n",
       "      <td>...</td>\n",
       "      <td>2.551985</td>\n",
       "      <td>2.768386e+09</td>\n",
       "      <td>3.127638</td>\n",
       "      <td>3.129267</td>\n",
       "      <td>3.591136</td>\n",
       "      <td>0.301078</td>\n",
       "      <td>1.488621</td>\n",
       "      <td>52.893022</td>\n",
       "      <td>-1.696750</td>\n",
       "      <td>-1.696750</td>\n",
       "    </tr>\n",
       "    <tr>\n",
       "      <th>max</th>\n",
       "      <td>2018.000000</td>\n",
       "      <td>3.243397</td>\n",
       "      <td>90476.758965</td>\n",
       "      <td>70688.818749</td>\n",
       "      <td>33.800000</td>\n",
       "      <td>2.426041</td>\n",
       "      <td>1.270618</td>\n",
       "      <td>27.554063</td>\n",
       "      <td>22.624278</td>\n",
       "      <td>11.537567</td>\n",
       "      <td>...</td>\n",
       "      <td>3.260011</td>\n",
       "      <td>3.462084e+09</td>\n",
       "      <td>3.996448</td>\n",
       "      <td>18.221790</td>\n",
       "      <td>5.611057</td>\n",
       "      <td>0.766007</td>\n",
       "      <td>1.726991</td>\n",
       "      <td>53.354824</td>\n",
       "      <td>-0.983557</td>\n",
       "      <td>-0.983557</td>\n",
       "    </tr>\n",
       "  </tbody>\n",
       "</table>\n",
       "<p>8 rows × 25 columns</p>\n",
       "</div>"
      ],
      "text/plain": [
       "              Year  GDP growth (annual %)  GDP per capita (current US$)  \\\n",
       "count    11.000000              11.000000                     11.000000   \n",
       "mean   2013.000000               1.711360                  82549.857682   \n",
       "std       3.316625               1.479913                   6084.932478   \n",
       "min    2008.000000              -2.297375                  71568.312389   \n",
       "25%    2010.500000               1.503714                  79342.223743   \n",
       "50%    2013.000000               1.813108                  83806.447600   \n",
       "75%    2015.500000               2.578932                  86570.269129   \n",
       "max    2018.000000               3.243397                  90476.758965   \n",
       "\n",
       "       GDP per capita, PPP (current international $)  Gini index  \\\n",
       "count                                      11.000000   11.000000   \n",
       "mean                                    61338.850428   32.609091   \n",
       "std                                      6189.216614    0.622020   \n",
       "min                                     52973.463236   31.600000   \n",
       "25%                                     55966.279878   32.400000   \n",
       "50%                                     61656.466171   32.600000   \n",
       "75%                                     66307.898804   32.950000   \n",
       "max                                     70688.818749   33.800000   \n",
       "\n",
       "       Inflation, consumer prices (annual %)  Population growth (annual %)  \\\n",
       "count                              11.000000                     11.000000   \n",
       "mean                                0.166697                      1.091409   \n",
       "std                                 0.975919                      0.152963   \n",
       "min                                -1.143909                      0.736634   \n",
       "25%                                -0.457550                      1.051689   \n",
       "50%                                -0.013203                      1.111879   \n",
       "75%                                 0.611013                      1.184992   \n",
       "max                                 2.426041                      1.270618   \n",
       "\n",
       "       Age dependency ratio, old (% of working-age population)  \\\n",
       "count                                          11.000000         \n",
       "mean                                           25.798349         \n",
       "std                                             1.184589         \n",
       "min                                            24.020899         \n",
       "25%                                            24.861593         \n",
       "50%                                            25.869419         \n",
       "75%                                            26.697429         \n",
       "max                                            27.554063         \n",
       "\n",
       "       Age dependency ratio, young (% of working-age population)  \\\n",
       "count                                          11.000000           \n",
       "mean                                           22.261887           \n",
       "std                                             0.185108           \n",
       "min                                            22.070655           \n",
       "25%                                            22.104402           \n",
       "50%                                            22.205301           \n",
       "75%                                            22.364597           \n",
       "max                                            22.624278           \n",
       "\n",
       "       General government final consumption expenditure (% of GDP)  ...  \\\n",
       "count                                          11.000000            ...   \n",
       "mean                                           11.313681            ...   \n",
       "std                                             0.272899            ...   \n",
       "min                                            10.570699            ...   \n",
       "25%                                            11.270246            ...   \n",
       "50%                                            11.384625            ...   \n",
       "75%                                            11.495514            ...   \n",
       "max                                            11.537567            ...   \n",
       "\n",
       "       Interest payments (% of revenue)  Interest payments (current LCU)  \\\n",
       "count                         11.000000                     1.100000e+01   \n",
       "mean                           2.021856                     2.260702e+09   \n",
       "std                            0.740174                     7.015669e+08   \n",
       "min                            0.942717                     1.190327e+09   \n",
       "25%                            1.524844                     1.814670e+09   \n",
       "50%                            1.881137                     2.144873e+09   \n",
       "75%                            2.551985                     2.768386e+09   \n",
       "max                            3.260011                     3.462084e+09   \n",
       "\n",
       "       Real interest rate (%)  GDP per capita Growth_Rate (current US$)  \\\n",
       "count               11.000000                                 10.000000   \n",
       "mean                 2.742542                                  1.605976   \n",
       "std                  0.647220                                  7.040981   \n",
       "min                  1.849005                                 -5.543583   \n",
       "25%                  2.347947                                 -3.129080   \n",
       "50%                  2.739347                                  0.875280   \n",
       "75%                  3.127638                                  3.129267   \n",
       "max                  3.996448                                 18.221790   \n",
       "\n",
       "       GDP per capita, PPP Growth_Rate (current international $)  \\\n",
       "count                                          10.000000           \n",
       "mean                                            2.781525           \n",
       "std                                             1.866575           \n",
       "min                                            -1.552388           \n",
       "25%                                             2.788747           \n",
       "50%                                             3.054897           \n",
       "75%                                             3.591136           \n",
       "max                                             5.611057           \n",
       "\n",
       "       Age dependency ratio, young (% change)  \\\n",
       "count                               10.000000   \n",
       "mean                                -0.053585   \n",
       "std                                  0.552433   \n",
       "min                                 -0.991347   \n",
       "25%                                 -0.408681   \n",
       "50%                                 -0.076362   \n",
       "75%                                  0.301078   \n",
       "max                                  0.766007   \n",
       "\n",
       "       Age dependency ratio, old (% change)  \\\n",
       "count                             10.000000   \n",
       "mean                               1.381857   \n",
       "std                                0.177915   \n",
       "min                                1.100136   \n",
       "25%                                1.261024   \n",
       "50%                                1.378364   \n",
       "75%                                1.488621   \n",
       "max                                1.726991   \n",
       "\n",
       "       Age dependency ratio, middle (% of working-age population)  \\\n",
       "count                                          11.000000            \n",
       "mean                                           51.939763            \n",
       "std                                             1.150185            \n",
       "min                                            49.945692            \n",
       "25%                                            51.163799            \n",
       "50%                                            52.059926            \n",
       "75%                                            52.893022            \n",
       "max                                            53.354824            \n",
       "\n",
       "       Current Account Balance  Current Account Balance (% of GDP)  \n",
       "count                11.000000                           11.000000  \n",
       "mean                 -1.872981                           -1.872981  \n",
       "std                   0.398991                            0.398991  \n",
       "min                  -2.394297                           -2.394297  \n",
       "25%                  -2.128106                           -2.128106  \n",
       "50%                  -1.981388                           -1.981388  \n",
       "75%                  -1.696750                           -1.696750  \n",
       "max                  -0.983557                           -0.983557  \n",
       "\n",
       "[8 rows x 25 columns]"
      ]
     },
     "execution_count": 212,
     "metadata": {},
     "output_type": "execute_result"
    }
   ],
   "source": [
    "df_swi.describe()"
   ]
  },
  {
   "cell_type": "code",
   "execution_count": 197,
   "id": "5813cab5-6f42-49ad-875f-1d13c09f09ad",
   "metadata": {},
   "outputs": [
    {
     "data": {
      "application/vnd.plotly.v1+json": {
       "config": {
        "plotlyServerURL": "https://plot.ly"
       },
       "data": [
        {
         "hoverinfo": "all",
         "mode": "lines+markers",
         "name": "GDP per capita (current US$)",
         "type": "scatter",
         "x": [
          2008,
          2009,
          2010,
          2011,
          2012,
          2013,
          2014,
          2015,
          2016,
          2017,
          2018
         ],
         "y": [
          74175.19278985547,
          71568.31238856722,
          76531.37294076907,
          90476.7589651577,
          85836.2076767359,
          87304.33058135571,
          88724.99094026383,
          83806.44760038373,
          82153.07454478886,
          82254.37692697672,
          85217.36915122741
         ]
        },
        {
         "hoverinfo": "all",
         "mode": "lines+markers",
         "name": "GDP per capita, PPP (current international $)",
         "type": "scatter",
         "x": [
          2008,
          2009,
          2010,
          2011,
          2012,
          2013,
          2014,
          2015,
          2016,
          2017,
          2018
         ],
         "y": [
          53808.78411270659,
          52973.46323620945,
          54438.97870094377,
          57493.58105592107,
          59440.91586076658,
          61656.46617085157,
          63417.04371575651,
          65265.04573355997,
          67350.7518747757,
          68193.50549440944,
          70688.81874911941
         ]
        }
       ],
       "layout": {
        "autosize": false,
        "height": 600,
        "template": {
         "data": {
          "bar": [
           {
            "error_x": {
             "color": "#2a3f5f"
            },
            "error_y": {
             "color": "#2a3f5f"
            },
            "marker": {
             "line": {
              "color": "#E5ECF6",
              "width": 0.5
             },
             "pattern": {
              "fillmode": "overlay",
              "size": 10,
              "solidity": 0.2
             }
            },
            "type": "bar"
           }
          ],
          "barpolar": [
           {
            "marker": {
             "line": {
              "color": "#E5ECF6",
              "width": 0.5
             },
             "pattern": {
              "fillmode": "overlay",
              "size": 10,
              "solidity": 0.2
             }
            },
            "type": "barpolar"
           }
          ],
          "carpet": [
           {
            "aaxis": {
             "endlinecolor": "#2a3f5f",
             "gridcolor": "white",
             "linecolor": "white",
             "minorgridcolor": "white",
             "startlinecolor": "#2a3f5f"
            },
            "baxis": {
             "endlinecolor": "#2a3f5f",
             "gridcolor": "white",
             "linecolor": "white",
             "minorgridcolor": "white",
             "startlinecolor": "#2a3f5f"
            },
            "type": "carpet"
           }
          ],
          "choropleth": [
           {
            "colorbar": {
             "outlinewidth": 0,
             "ticks": ""
            },
            "type": "choropleth"
           }
          ],
          "contour": [
           {
            "colorbar": {
             "outlinewidth": 0,
             "ticks": ""
            },
            "colorscale": [
             [
              0,
              "#0d0887"
             ],
             [
              0.1111111111111111,
              "#46039f"
             ],
             [
              0.2222222222222222,
              "#7201a8"
             ],
             [
              0.3333333333333333,
              "#9c179e"
             ],
             [
              0.4444444444444444,
              "#bd3786"
             ],
             [
              0.5555555555555556,
              "#d8576b"
             ],
             [
              0.6666666666666666,
              "#ed7953"
             ],
             [
              0.7777777777777778,
              "#fb9f3a"
             ],
             [
              0.8888888888888888,
              "#fdca26"
             ],
             [
              1,
              "#f0f921"
             ]
            ],
            "type": "contour"
           }
          ],
          "contourcarpet": [
           {
            "colorbar": {
             "outlinewidth": 0,
             "ticks": ""
            },
            "type": "contourcarpet"
           }
          ],
          "heatmap": [
           {
            "colorbar": {
             "outlinewidth": 0,
             "ticks": ""
            },
            "colorscale": [
             [
              0,
              "#0d0887"
             ],
             [
              0.1111111111111111,
              "#46039f"
             ],
             [
              0.2222222222222222,
              "#7201a8"
             ],
             [
              0.3333333333333333,
              "#9c179e"
             ],
             [
              0.4444444444444444,
              "#bd3786"
             ],
             [
              0.5555555555555556,
              "#d8576b"
             ],
             [
              0.6666666666666666,
              "#ed7953"
             ],
             [
              0.7777777777777778,
              "#fb9f3a"
             ],
             [
              0.8888888888888888,
              "#fdca26"
             ],
             [
              1,
              "#f0f921"
             ]
            ],
            "type": "heatmap"
           }
          ],
          "heatmapgl": [
           {
            "colorbar": {
             "outlinewidth": 0,
             "ticks": ""
            },
            "colorscale": [
             [
              0,
              "#0d0887"
             ],
             [
              0.1111111111111111,
              "#46039f"
             ],
             [
              0.2222222222222222,
              "#7201a8"
             ],
             [
              0.3333333333333333,
              "#9c179e"
             ],
             [
              0.4444444444444444,
              "#bd3786"
             ],
             [
              0.5555555555555556,
              "#d8576b"
             ],
             [
              0.6666666666666666,
              "#ed7953"
             ],
             [
              0.7777777777777778,
              "#fb9f3a"
             ],
             [
              0.8888888888888888,
              "#fdca26"
             ],
             [
              1,
              "#f0f921"
             ]
            ],
            "type": "heatmapgl"
           }
          ],
          "histogram": [
           {
            "marker": {
             "pattern": {
              "fillmode": "overlay",
              "size": 10,
              "solidity": 0.2
             }
            },
            "type": "histogram"
           }
          ],
          "histogram2d": [
           {
            "colorbar": {
             "outlinewidth": 0,
             "ticks": ""
            },
            "colorscale": [
             [
              0,
              "#0d0887"
             ],
             [
              0.1111111111111111,
              "#46039f"
             ],
             [
              0.2222222222222222,
              "#7201a8"
             ],
             [
              0.3333333333333333,
              "#9c179e"
             ],
             [
              0.4444444444444444,
              "#bd3786"
             ],
             [
              0.5555555555555556,
              "#d8576b"
             ],
             [
              0.6666666666666666,
              "#ed7953"
             ],
             [
              0.7777777777777778,
              "#fb9f3a"
             ],
             [
              0.8888888888888888,
              "#fdca26"
             ],
             [
              1,
              "#f0f921"
             ]
            ],
            "type": "histogram2d"
           }
          ],
          "histogram2dcontour": [
           {
            "colorbar": {
             "outlinewidth": 0,
             "ticks": ""
            },
            "colorscale": [
             [
              0,
              "#0d0887"
             ],
             [
              0.1111111111111111,
              "#46039f"
             ],
             [
              0.2222222222222222,
              "#7201a8"
             ],
             [
              0.3333333333333333,
              "#9c179e"
             ],
             [
              0.4444444444444444,
              "#bd3786"
             ],
             [
              0.5555555555555556,
              "#d8576b"
             ],
             [
              0.6666666666666666,
              "#ed7953"
             ],
             [
              0.7777777777777778,
              "#fb9f3a"
             ],
             [
              0.8888888888888888,
              "#fdca26"
             ],
             [
              1,
              "#f0f921"
             ]
            ],
            "type": "histogram2dcontour"
           }
          ],
          "mesh3d": [
           {
            "colorbar": {
             "outlinewidth": 0,
             "ticks": ""
            },
            "type": "mesh3d"
           }
          ],
          "parcoords": [
           {
            "line": {
             "colorbar": {
              "outlinewidth": 0,
              "ticks": ""
             }
            },
            "type": "parcoords"
           }
          ],
          "pie": [
           {
            "automargin": true,
            "type": "pie"
           }
          ],
          "scatter": [
           {
            "fillpattern": {
             "fillmode": "overlay",
             "size": 10,
             "solidity": 0.2
            },
            "type": "scatter"
           }
          ],
          "scatter3d": [
           {
            "line": {
             "colorbar": {
              "outlinewidth": 0,
              "ticks": ""
             }
            },
            "marker": {
             "colorbar": {
              "outlinewidth": 0,
              "ticks": ""
             }
            },
            "type": "scatter3d"
           }
          ],
          "scattercarpet": [
           {
            "marker": {
             "colorbar": {
              "outlinewidth": 0,
              "ticks": ""
             }
            },
            "type": "scattercarpet"
           }
          ],
          "scattergeo": [
           {
            "marker": {
             "colorbar": {
              "outlinewidth": 0,
              "ticks": ""
             }
            },
            "type": "scattergeo"
           }
          ],
          "scattergl": [
           {
            "marker": {
             "colorbar": {
              "outlinewidth": 0,
              "ticks": ""
             }
            },
            "type": "scattergl"
           }
          ],
          "scattermapbox": [
           {
            "marker": {
             "colorbar": {
              "outlinewidth": 0,
              "ticks": ""
             }
            },
            "type": "scattermapbox"
           }
          ],
          "scatterpolar": [
           {
            "marker": {
             "colorbar": {
              "outlinewidth": 0,
              "ticks": ""
             }
            },
            "type": "scatterpolar"
           }
          ],
          "scatterpolargl": [
           {
            "marker": {
             "colorbar": {
              "outlinewidth": 0,
              "ticks": ""
             }
            },
            "type": "scatterpolargl"
           }
          ],
          "scatterternary": [
           {
            "marker": {
             "colorbar": {
              "outlinewidth": 0,
              "ticks": ""
             }
            },
            "type": "scatterternary"
           }
          ],
          "surface": [
           {
            "colorbar": {
             "outlinewidth": 0,
             "ticks": ""
            },
            "colorscale": [
             [
              0,
              "#0d0887"
             ],
             [
              0.1111111111111111,
              "#46039f"
             ],
             [
              0.2222222222222222,
              "#7201a8"
             ],
             [
              0.3333333333333333,
              "#9c179e"
             ],
             [
              0.4444444444444444,
              "#bd3786"
             ],
             [
              0.5555555555555556,
              "#d8576b"
             ],
             [
              0.6666666666666666,
              "#ed7953"
             ],
             [
              0.7777777777777778,
              "#fb9f3a"
             ],
             [
              0.8888888888888888,
              "#fdca26"
             ],
             [
              1,
              "#f0f921"
             ]
            ],
            "type": "surface"
           }
          ],
          "table": [
           {
            "cells": {
             "fill": {
              "color": "#EBF0F8"
             },
             "line": {
              "color": "white"
             }
            },
            "header": {
             "fill": {
              "color": "#C8D4E3"
             },
             "line": {
              "color": "white"
             }
            },
            "type": "table"
           }
          ]
         },
         "layout": {
          "annotationdefaults": {
           "arrowcolor": "#2a3f5f",
           "arrowhead": 0,
           "arrowwidth": 1
          },
          "autotypenumbers": "strict",
          "coloraxis": {
           "colorbar": {
            "outlinewidth": 0,
            "ticks": ""
           }
          },
          "colorscale": {
           "diverging": [
            [
             0,
             "#8e0152"
            ],
            [
             0.1,
             "#c51b7d"
            ],
            [
             0.2,
             "#de77ae"
            ],
            [
             0.3,
             "#f1b6da"
            ],
            [
             0.4,
             "#fde0ef"
            ],
            [
             0.5,
             "#f7f7f7"
            ],
            [
             0.6,
             "#e6f5d0"
            ],
            [
             0.7,
             "#b8e186"
            ],
            [
             0.8,
             "#7fbc41"
            ],
            [
             0.9,
             "#4d9221"
            ],
            [
             1,
             "#276419"
            ]
           ],
           "sequential": [
            [
             0,
             "#0d0887"
            ],
            [
             0.1111111111111111,
             "#46039f"
            ],
            [
             0.2222222222222222,
             "#7201a8"
            ],
            [
             0.3333333333333333,
             "#9c179e"
            ],
            [
             0.4444444444444444,
             "#bd3786"
            ],
            [
             0.5555555555555556,
             "#d8576b"
            ],
            [
             0.6666666666666666,
             "#ed7953"
            ],
            [
             0.7777777777777778,
             "#fb9f3a"
            ],
            [
             0.8888888888888888,
             "#fdca26"
            ],
            [
             1,
             "#f0f921"
            ]
           ],
           "sequentialminus": [
            [
             0,
             "#0d0887"
            ],
            [
             0.1111111111111111,
             "#46039f"
            ],
            [
             0.2222222222222222,
             "#7201a8"
            ],
            [
             0.3333333333333333,
             "#9c179e"
            ],
            [
             0.4444444444444444,
             "#bd3786"
            ],
            [
             0.5555555555555556,
             "#d8576b"
            ],
            [
             0.6666666666666666,
             "#ed7953"
            ],
            [
             0.7777777777777778,
             "#fb9f3a"
            ],
            [
             0.8888888888888888,
             "#fdca26"
            ],
            [
             1,
             "#f0f921"
            ]
           ]
          },
          "colorway": [
           "#636efa",
           "#EF553B",
           "#00cc96",
           "#ab63fa",
           "#FFA15A",
           "#19d3f3",
           "#FF6692",
           "#B6E880",
           "#FF97FF",
           "#FECB52"
          ],
          "font": {
           "color": "#2a3f5f"
          },
          "geo": {
           "bgcolor": "white",
           "lakecolor": "white",
           "landcolor": "#E5ECF6",
           "showlakes": true,
           "showland": true,
           "subunitcolor": "white"
          },
          "hoverlabel": {
           "align": "left"
          },
          "hovermode": "closest",
          "mapbox": {
           "style": "light"
          },
          "paper_bgcolor": "white",
          "plot_bgcolor": "#E5ECF6",
          "polar": {
           "angularaxis": {
            "gridcolor": "white",
            "linecolor": "white",
            "ticks": ""
           },
           "bgcolor": "#E5ECF6",
           "radialaxis": {
            "gridcolor": "white",
            "linecolor": "white",
            "ticks": ""
           }
          },
          "scene": {
           "xaxis": {
            "backgroundcolor": "#E5ECF6",
            "gridcolor": "white",
            "gridwidth": 2,
            "linecolor": "white",
            "showbackground": true,
            "ticks": "",
            "zerolinecolor": "white"
           },
           "yaxis": {
            "backgroundcolor": "#E5ECF6",
            "gridcolor": "white",
            "gridwidth": 2,
            "linecolor": "white",
            "showbackground": true,
            "ticks": "",
            "zerolinecolor": "white"
           },
           "zaxis": {
            "backgroundcolor": "#E5ECF6",
            "gridcolor": "white",
            "gridwidth": 2,
            "linecolor": "white",
            "showbackground": true,
            "ticks": "",
            "zerolinecolor": "white"
           }
          },
          "shapedefaults": {
           "line": {
            "color": "#2a3f5f"
           }
          },
          "ternary": {
           "aaxis": {
            "gridcolor": "white",
            "linecolor": "white",
            "ticks": ""
           },
           "baxis": {
            "gridcolor": "white",
            "linecolor": "white",
            "ticks": ""
           },
           "bgcolor": "#E5ECF6",
           "caxis": {
            "gridcolor": "white",
            "linecolor": "white",
            "ticks": ""
           }
          },
          "title": {
           "x": 0.05
          },
          "xaxis": {
           "automargin": true,
           "gridcolor": "white",
           "linecolor": "white",
           "ticks": "",
           "title": {
            "standoff": 15
           },
           "zerolinecolor": "white",
           "zerolinewidth": 2
          },
          "yaxis": {
           "automargin": true,
           "gridcolor": "white",
           "linecolor": "white",
           "ticks": "",
           "title": {
            "standoff": 15
           },
           "zerolinecolor": "white",
           "zerolinewidth": 2
          }
         }
        },
        "title": {
         "text": "Development Indicators"
        },
        "width": 1200,
        "xaxis": {
         "autorange": true,
         "range": [
          2007.3840579710145,
          2018.6159420289855
         ],
         "title": {
          "text": "Year"
         },
         "type": "linear"
        },
        "yaxis": {
         "autorange": true,
         "range": [
          50468.182347433554,
          92982.0398539336
         ],
         "title": {
          "text": "In Dollars ($)"
         },
         "type": "linear"
        }
       }
      },
      "image/png": "[encoded data removed]",
      "text/html": [
       "<div>                            <div id=\"a68f9373-0356-4111-acdf-4ac5facb403e\" class=\"plotly-graph-div\" style=\"height:600px; width:1200px;\"></div>            <script type=\"text/javascript\">                require([\"plotly\"], function(Plotly) {                    window.PLOTLYENV=window.PLOTLYENV || {};                                    if (document.getElementById(\"a68f9373-0356-4111-acdf-4ac5facb403e\")) {                    Plotly.newPlot(                        \"a68f9373-0356-4111-acdf-4ac5facb403e\",                        [{\"name\":\"GDP per capita (current US$)\",\"x\":[2008,2009,2010,2011,2012,2013,2014,2015,2016,2017,2018],\"y\":[74175.19278985547,71568.31238856722,76531.37294076907,90476.7589651577,85836.2076767359,87304.33058135571,88724.99094026383,83806.44760038373,82153.07454478886,82254.37692697672,85217.36915122741],\"type\":\"scatter\",\"hoverinfo\":\"all\",\"mode\":\"lines+markers\"},{\"name\":\"GDP per capita, PPP (current international $)\",\"x\":[2008,2009,2010,2011,2012,2013,2014,2015,2016,2017,2018],\"y\":[53808.78411270659,52973.46323620945,54438.97870094377,57493.58105592107,59440.91586076658,61656.46617085157,63417.04371575651,65265.04573355997,67350.7518747757,68193.50549440944,70688.81874911941],\"type\":\"scatter\",\"hoverinfo\":\"all\",\"mode\":\"lines+markers\"}],                        {\"template\":{\"data\":{\"histogram2dcontour\":[{\"type\":\"histogram2dcontour\",\"colorbar\":{\"outlinewidth\":0,\"ticks\":\"\"},\"colorscale\":[[0.0,\"#0d0887\"],[0.1111111111111111,\"#46039f\"],[0.2222222222222222,\"#7201a8\"],[0.3333333333333333,\"#9c179e\"],[0.4444444444444444,\"#bd3786\"],[0.5555555555555556,\"#d8576b\"],[0.6666666666666666,\"#ed7953\"],[0.7777777777777778,\"#fb9f3a\"],[0.8888888888888888,\"#fdca26\"],[1.0,\"#f0f921\"]]}],\"choropleth\":[{\"type\":\"choropleth\",\"colorbar\":{\"outlinewidth\":0,\"ticks\":\"\"}}],\"histogram2d\":[{\"type\":\"histogram2d\",\"colorbar\":{\"outlinewidth\":0,\"ticks\":\"\"},\"colorscale\":[[0.0,\"#0d0887\"],[0.1111111111111111,\"#46039f\"],[0.2222222222222222,\"#7201a8\"],[0.3333333333333333,\"#9c179e\"],[0.4444444444444444,\"#bd3786\"],[0.5555555555555556,\"#d8576b\"],[0.6666666666666666,\"#ed7953\"],[0.7777777777777778,\"#fb9f3a\"],[0.8888888888888888,\"#fdca26\"],[1.0,\"#f0f921\"]]}],\"heatmap\":[{\"type\":\"heatmap\",\"colorbar\":{\"outlinewidth\":0,\"ticks\":\"\"},\"colorscale\":[[0.0,\"#0d0887\"],[0.1111111111111111,\"#46039f\"],[0.2222222222222222,\"#7201a8\"],[0.3333333333333333,\"#9c179e\"],[0.4444444444444444,\"#bd3786\"],[0.5555555555555556,\"#d8576b\"],[0.6666666666666666,\"#ed7953\"],[0.7777777777777778,\"#fb9f3a\"],[0.8888888888888888,\"#fdca26\"],[1.0,\"#f0f921\"]]}],\"heatmapgl\":[{\"type\":\"heatmapgl\",\"colorbar\":{\"outlinewidth\":0,\"ticks\":\"\"},\"colorscale\":[[0.0,\"#0d0887\"],[0.1111111111111111,\"#46039f\"],[0.2222222222222222,\"#7201a8\"],[0.3333333333333333,\"#9c179e\"],[0.4444444444444444,\"#bd3786\"],[0.5555555555555556,\"#d8576b\"],[0.6666666666666666,\"#ed7953\"],[0.7777777777777778,\"#fb9f3a\"],[0.8888888888888888,\"#fdca26\"],[1.0,\"#f0f921\"]]}],\"contourcarpet\":[{\"type\":\"contourcarpet\",\"colorbar\":{\"outlinewidth\":0,\"ticks\":\"\"}}],\"contour\":[{\"type\":\"contour\",\"colorbar\":{\"outlinewidth\":0,\"ticks\":\"\"},\"colorscale\":[[0.0,\"#0d0887\"],[0.1111111111111111,\"#46039f\"],[0.2222222222222222,\"#7201a8\"],[0.3333333333333333,\"#9c179e\"],[0.4444444444444444,\"#bd3786\"],[0.5555555555555556,\"#d8576b\"],[0.6666666666666666,\"#ed7953\"],[0.7777777777777778,\"#fb9f3a\"],[0.8888888888888888,\"#fdca26\"],[1.0,\"#f0f921\"]]}],\"surface\":[{\"type\":\"surface\",\"colorbar\":{\"outlinewidth\":0,\"ticks\":\"\"},\"colorscale\":[[0.0,\"#0d0887\"],[0.1111111111111111,\"#46039f\"],[0.2222222222222222,\"#7201a8\"],[0.3333333333333333,\"#9c179e\"],[0.4444444444444444,\"#bd3786\"],[0.5555555555555556,\"#d8576b\"],[0.6666666666666666,\"#ed7953\"],[0.7777777777777778,\"#fb9f3a\"],[0.8888888888888888,\"#fdca26\"],[1.0,\"#f0f921\"]]}],\"mesh3d\":[{\"type\":\"mesh3d\",\"colorbar\":{\"outlinewidth\":0,\"ticks\":\"\"}}],\"scatter\":[{\"fillpattern\":{\"fillmode\":\"overlay\",\"size\":10,\"solidity\":0.2},\"type\":\"scatter\"}],\"parcoords\":[{\"type\":\"parcoords\",\"line\":{\"colorbar\":{\"outlinewidth\":0,\"ticks\":\"\"}}}],\"scatterpolargl\":[{\"type\":\"scatterpolargl\",\"marker\":{\"colorbar\":{\"outlinewidth\":0,\"ticks\":\"\"}}}],\"bar\":[{\"error_x\":{\"color\":\"#2a3f5f\"},\"error_y\":{\"color\":\"#2a3f5f\"},\"marker\":{\"line\":{\"color\":\"#E5ECF6\",\"width\":0.5},\"pattern\":{\"fillmode\":\"overlay\",\"size\":10,\"solidity\":0.2}},\"type\":\"bar\"}],\"scattergeo\":[{\"type\":\"scattergeo\",\"marker\":{\"colorbar\":{\"outlinewidth\":0,\"ticks\":\"\"}}}],\"scatterpolar\":[{\"type\":\"scatterpolar\",\"marker\":{\"colorbar\":{\"outlinewidth\":0,\"ticks\":\"\"}}}],\"histogram\":[{\"marker\":{\"pattern\":{\"fillmode\":\"overlay\",\"size\":10,\"solidity\":0.2}},\"type\":\"histogram\"}],\"scattergl\":[{\"type\":\"scattergl\",\"marker\":{\"colorbar\":{\"outlinewidth\":0,\"ticks\":\"\"}}}],\"scatter3d\":[{\"type\":\"scatter3d\",\"line\":{\"colorbar\":{\"outlinewidth\":0,\"ticks\":\"\"}},\"marker\":{\"colorbar\":{\"outlinewidth\":0,\"ticks\":\"\"}}}],\"scattermapbox\":[{\"type\":\"scattermapbox\",\"marker\":{\"colorbar\":{\"outlinewidth\":0,\"ticks\":\"\"}}}],\"scatterternary\":[{\"type\":\"scatterternary\",\"marker\":{\"colorbar\":{\"outlinewidth\":0,\"ticks\":\"\"}}}],\"scattercarpet\":[{\"type\":\"scattercarpet\",\"marker\":{\"colorbar\":{\"outlinewidth\":0,\"ticks\":\"\"}}}],\"carpet\":[{\"aaxis\":{\"endlinecolor\":\"#2a3f5f\",\"gridcolor\":\"white\",\"linecolor\":\"white\",\"minorgridcolor\":\"white\",\"startlinecolor\":\"#2a3f5f\"},\"baxis\":{\"endlinecolor\":\"#2a3f5f\",\"gridcolor\":\"white\",\"linecolor\":\"white\",\"minorgridcolor\":\"white\",\"startlinecolor\":\"#2a3f5f\"},\"type\":\"carpet\"}],\"table\":[{\"cells\":{\"fill\":{\"color\":\"#EBF0F8\"},\"line\":{\"color\":\"white\"}},\"header\":{\"fill\":{\"color\":\"#C8D4E3\"},\"line\":{\"color\":\"white\"}},\"type\":\"table\"}],\"barpolar\":[{\"marker\":{\"line\":{\"color\":\"#E5ECF6\",\"width\":0.5},\"pattern\":{\"fillmode\":\"overlay\",\"size\":10,\"solidity\":0.2}},\"type\":\"barpolar\"}],\"pie\":[{\"automargin\":true,\"type\":\"pie\"}]},\"layout\":{\"autotypenumbers\":\"strict\",\"colorway\":[\"#636efa\",\"#EF553B\",\"#00cc96\",\"#ab63fa\",\"#FFA15A\",\"#19d3f3\",\"#FF6692\",\"#B6E880\",\"#FF97FF\",\"#FECB52\"],\"font\":{\"color\":\"#2a3f5f\"},\"hovermode\":\"closest\",\"hoverlabel\":{\"align\":\"left\"},\"paper_bgcolor\":\"white\",\"plot_bgcolor\":\"#E5ECF6\",\"polar\":{\"bgcolor\":\"#E5ECF6\",\"angularaxis\":{\"gridcolor\":\"white\",\"linecolor\":\"white\",\"ticks\":\"\"},\"radialaxis\":{\"gridcolor\":\"white\",\"linecolor\":\"white\",\"ticks\":\"\"}},\"ternary\":{\"bgcolor\":\"#E5ECF6\",\"aaxis\":{\"gridcolor\":\"white\",\"linecolor\":\"white\",\"ticks\":\"\"},\"baxis\":{\"gridcolor\":\"white\",\"linecolor\":\"white\",\"ticks\":\"\"},\"caxis\":{\"gridcolor\":\"white\",\"linecolor\":\"white\",\"ticks\":\"\"}},\"coloraxis\":{\"colorbar\":{\"outlinewidth\":0,\"ticks\":\"\"}},\"colorscale\":{\"sequential\":[[0.0,\"#0d0887\"],[0.1111111111111111,\"#46039f\"],[0.2222222222222222,\"#7201a8\"],[0.3333333333333333,\"#9c179e\"],[0.4444444444444444,\"#bd3786\"],[0.5555555555555556,\"#d8576b\"],[0.6666666666666666,\"#ed7953\"],[0.7777777777777778,\"#fb9f3a\"],[0.8888888888888888,\"#fdca26\"],[1.0,\"#f0f921\"]],\"sequentialminus\":[[0.0,\"#0d0887\"],[0.1111111111111111,\"#46039f\"],[0.2222222222222222,\"#7201a8\"],[0.3333333333333333,\"#9c179e\"],[0.4444444444444444,\"#bd3786\"],[0.5555555555555556,\"#d8576b\"],[0.6666666666666666,\"#ed7953\"],[0.7777777777777778,\"#fb9f3a\"],[0.8888888888888888,\"#fdca26\"],[1.0,\"#f0f921\"]],\"diverging\":[[0,\"#8e0152\"],[0.1,\"#c51b7d\"],[0.2,\"#de77ae\"],[0.3,\"#f1b6da\"],[0.4,\"#fde0ef\"],[0.5,\"#f7f7f7\"],[0.6,\"#e6f5d0\"],[0.7,\"#b8e186\"],[0.8,\"#7fbc41\"],[0.9,\"#4d9221\"],[1,\"#276419\"]]},\"xaxis\":{\"gridcolor\":\"white\",\"linecolor\":\"white\",\"ticks\":\"\",\"title\":{\"standoff\":15},\"zerolinecolor\":\"white\",\"automargin\":true,\"zerolinewidth\":2},\"yaxis\":{\"gridcolor\":\"white\",\"linecolor\":\"white\",\"ticks\":\"\",\"title\":{\"standoff\":15},\"zerolinecolor\":\"white\",\"automargin\":true,\"zerolinewidth\":2},\"scene\":{\"xaxis\":{\"backgroundcolor\":\"#E5ECF6\",\"gridcolor\":\"white\",\"linecolor\":\"white\",\"showbackground\":true,\"ticks\":\"\",\"zerolinecolor\":\"white\",\"gridwidth\":2},\"yaxis\":{\"backgroundcolor\":\"#E5ECF6\",\"gridcolor\":\"white\",\"linecolor\":\"white\",\"showbackground\":true,\"ticks\":\"\",\"zerolinecolor\":\"white\",\"gridwidth\":2},\"zaxis\":{\"backgroundcolor\":\"#E5ECF6\",\"gridcolor\":\"white\",\"linecolor\":\"white\",\"showbackground\":true,\"ticks\":\"\",\"zerolinecolor\":\"white\",\"gridwidth\":2}},\"shapedefaults\":{\"line\":{\"color\":\"#2a3f5f\"}},\"annotationdefaults\":{\"arrowcolor\":\"#2a3f5f\",\"arrowhead\":0,\"arrowwidth\":1},\"geo\":{\"bgcolor\":\"white\",\"landcolor\":\"#E5ECF6\",\"subunitcolor\":\"white\",\"showland\":true,\"showlakes\":true,\"lakecolor\":\"white\"},\"title\":{\"x\":0.05},\"mapbox\":{\"style\":\"light\"}}},\"title\":{\"text\":\"Development Indicators\"},\"xaxis\":{\"title\":{\"text\":\"Year\"}},\"yaxis\":{\"title\":{\"text\":\"In Dollars ($)\"}},\"autosize\":false,\"width\":1200,\"height\":600},                        {\"responsive\": true}                    ).then(function(){\n",
       "                            \n",
       "var gd = document.getElementById('a68f9373-0356-4111-acdf-4ac5facb403e');\n",
       "var x = new MutationObserver(function (mutations, observer) {{\n",
       "        var display = window.getComputedStyle(gd).display;\n",
       "        if (!display || display === 'none') {{\n",
       "            console.log([gd, 'removed!']);\n",
       "            Plotly.purge(gd);\n",
       "            observer.disconnect();\n",
       "        }}\n",
       "}});\n",
       "\n",
       "// Listen for the removal of the full notebook cells\n",
       "var notebookContainer = gd.closest('#notebook-container');\n",
       "if (notebookContainer) {{\n",
       "    x.observe(notebookContainer, {childList: true});\n",
       "}}\n",
       "\n",
       "// Listen for the clearing of the current output cell\n",
       "var outputEl = gd.closest('.output');\n",
       "if (outputEl) {{\n",
       "    x.observe(outputEl, {childList: true});\n",
       "}}\n",
       "\n",
       "                        })                };                });            </script>        </div>"
      ]
     },
     "metadata": {},
     "output_type": "display_data"
    }
   ],
   "source": [
    "fig = go.Figure()\n",
    "percent_variables=['GDP per capita (current US$)','GDP per capita, PPP (current international $)'\n",
    "           ]\n",
    "for var in percent_variables:\n",
    "    fig.add_trace(go.Scatter(x=df_swi['Year'], y=df_swi[var],\n",
    "                name=var))\n",
    "    \n",
    "# Edit the layout\n",
    "fig.update_traces(hoverinfo='all', mode='lines+markers')\n",
    "fig.update_layout(title='Development Indicators',\n",
    "               xaxis_title='Year',\n",
    "               yaxis_title='In Dollars ($)',\n",
    "                 autosize=False,\n",
    "                width=1200,\n",
    "                height=600\n",
    "                 )"
   ]
  },
  {
   "cell_type": "code",
   "execution_count": 198,
   "id": "615fdecc-6930-499b-b907-f37ccdc6f2ce",
   "metadata": {},
   "outputs": [
    {
     "data": {
      "text/plain": [
       "31.375464684014894"
      ]
     },
     "execution_count": 198,
     "metadata": {},
     "output_type": "execute_result"
    }
   ],
   "source": [
    "((70.68-53.8)/53.8)*100"
   ]
  },
  {
   "cell_type": "code",
   "execution_count": 199,
   "id": "578c22ad-ab59-47cf-9ab2-63d7a9737332",
   "metadata": {},
   "outputs": [
    {
     "data": {
      "text/plain": [
       "14.871241741944182"
      ]
     },
     "execution_count": 199,
     "metadata": {},
     "output_type": "execute_result"
    }
   ],
   "source": [
    "((85.2-74.17)/74.17)*100"
   ]
  },
  {
   "cell_type": "code",
   "execution_count": 206,
   "id": "cb2002f7-3422-4670-a847-ee24348919e7",
   "metadata": {},
   "outputs": [
    {
     "data": {
      "application/vnd.plotly.v1+json": {
       "config": {
        "plotlyServerURL": "https://plot.ly"
       },
       "data": [
        {
         "hoverinfo": "all",
         "mode": "lines+markers",
         "name": "GDP growth (annual %)",
         "type": "scatter",
         "x": [
          2008,
          2009,
          2010,
          2011,
          2012,
          2013,
          2014,
          2015,
          2016,
          2017,
          2018
         ],
         "y": [
          2.8079836316869233,
          -2.297374630715453,
          3.243397335501726,
          1.8131081920369496,
          1.1792538332510816,
          1.792144057074836,
          2.349881275086261,
          1.6446276869928482,
          2.068689667099605,
          1.3627995571141582,
          2.860445794616325
         ]
        },
        {
         "hoverinfo": "all",
         "mode": "lines+markers",
         "name": "Inflation, consumer prices (annual %)",
         "type": "scatter",
         "x": [
          2008,
          2009,
          2010,
          2011,
          2012,
          2013,
          2014,
          2015,
          2016,
          2017,
          2018
         ],
         "y": [
          2.42604117060158,
          -0.480481936423275,
          0.688238707220026,
          0.2313492076509,
          -0.692552018105253,
          -0.217323155115693,
          -0.0132025387514939,
          -1.14390867228183,
          -0.434618664285835,
          0.533787839825897,
          0.936335464113563
         ]
        },
        {
         "hoverinfo": "all",
         "mode": "lines+markers",
         "name": "General government final consumption expenditure (% of GDP)",
         "type": "scatter",
         "visible": true,
         "x": [
          2008,
          2009,
          2010,
          2011,
          2012,
          2013,
          2014,
          2015,
          2016,
          2017,
          2018
         ],
         "y": [
          10.570698901001274,
          11.384624638767603,
          11.183612180307504,
          11.27557155774039,
          11.314927383119223,
          11.412579172950856,
          11.481636472973927,
          11.537567016837274,
          11.514961744443685,
          11.509391498038399,
          11.264920751752326
         ]
        },
        {
         "hoverinfo": "all",
         "mode": "lines+markers",
         "name": "Tax revenue (% of GDP)",
         "type": "scatter",
         "visible": true,
         "x": [
          2008,
          2009,
          2010,
          2011,
          2012,
          2013,
          2014,
          2015,
          2016,
          2017,
          2018
         ],
         "y": [
          9.587141895076028,
          9.348527986730424,
          9.36400803897084,
          9.321952188282864,
          9.169074742064302,
          9.256214098769755,
          9.087339531974818,
          9.556179016647478,
          9.404603140741525,
          10.061635292289797,
          9.691023944961017
         ]
        },
        {
         "hoverinfo": "all",
         "mode": "lines+markers",
         "name": "Population growth (annual %)",
         "type": "scatter",
         "visible": "legendonly",
         "x": [
          2008,
          2009,
          2010,
          2011,
          2012,
          2013,
          2014,
          2015,
          2016,
          2017,
          2018
         ],
         "y": [
          1.27061807385776,
          1.24948463127384,
          1.0415580576588,
          1.11187894263206,
          1.06181932886789,
          1.14987975781229,
          1.22010397343287,
          1.13833715247736,
          1.09203117387253,
          0.933155888738653,
          0.736633975172522
         ]
        },
        {
         "hoverinfo": "all",
         "mode": "lines+markers",
         "name": "Central government debt, total (% of GDP)",
         "type": "scatter",
         "visible": "legendonly",
         "x": [
          2008,
          2009,
          2010,
          2011,
          2012,
          2013,
          2014,
          2015,
          2016,
          2017,
          2018
         ],
         "y": [
          23.082653900009024,
          21.701637393959317,
          20.9935662243333,
          21.14200705018538,
          21.344495934968645,
          20.218157443688952,
          20.611242786826974,
          20.439294959268818,
          19.38099265587186,
          20.284411832666734,
          18.678118566673962
         ]
        },
        {
         "hoverinfo": "all",
         "mode": "lines+markers",
         "name": "Real interest rate (%)",
         "type": "scatter",
         "x": [
          2008,
          2009,
          2010,
          2011,
          2012,
          2013,
          2014,
          2015,
          2016,
          2017,
          2018
         ],
         "y": [
          1.8655232458582758,
          2.282844336883291,
          2.4130502683302466,
          2.7393465263025907,
          2.6229417248065583,
          2.7784221622700596,
          3.3651020863623216,
          3.996447542483074,
          3.2489088705105513,
          3.006367395339068,
          1.8490046533368505
         ]
        },
        {
         "hoverinfo": "all",
         "mode": "lines+markers",
         "name": "GDP per capita Growth_Rate (current US$)",
         "type": "scatter",
         "visible": "legendonly",
         "x": [
          2008,
          2009,
          2010,
          2011,
          2012,
          2013,
          2014,
          2015,
          2016,
          2017,
          2018
         ],
         "y": [
          null,
          -3.5144909008511194,
          6.934717875218022,
          18.22178995166017,
          -5.12899814438409,
          1.7103771757355002,
          1.6272507325215235,
          -5.543582803171676,
          -1.972847081502238,
          0.12330930126374096,
          3.602230464746148
         ]
        },
        {
         "hoverinfo": "all",
         "mode": "lines+markers",
         "name": "GDP per capita, PPP Growth_Rate (current international $)",
         "type": "scatter",
         "visible": "legendonly",
         "x": [
          2008,
          2009,
          2010,
          2011,
          2012,
          2013,
          2014,
          2015,
          2016,
          2017,
          2018
         ],
         "y": [
          null,
          -1.5523875706752621,
          2.7665086917190385,
          5.6110574222149046,
          3.3870473348171393,
          3.7273152305974833,
          2.855462945324083,
          2.914046302893669,
          3.195747613095201,
          1.2512905887088976,
          3.6591655416724933
         ]
        },
        {
         "hoverinfo": "all",
         "mode": "lines+markers",
         "name": "Current Account Balance (% of GDP)",
         "type": "scatter",
         "x": [
          2008,
          2009,
          2010,
          2011,
          2012,
          2013,
          2014,
          2015,
          2016,
          2017,
          2018
         ],
         "y": [
          -0.9835570059252454,
          -2.0360966520371786,
          -1.8196041413366633,
          -1.9536193694575257,
          -2.145852641054921,
          -2.1563650741811013,
          -2.3942969409991086,
          -1.9813880001897957,
          -2.11035860370216,
          -1.4477562057486022,
          -1.5738968067913088
         ]
        }
       ],
       "layout": {
        "autosize": false,
        "height": 600,
        "template": {
         "data": {
          "bar": [
           {
            "error_x": {
             "color": "#2a3f5f"
            },
            "error_y": {
             "color": "#2a3f5f"
            },
            "marker": {
             "line": {
              "color": "#E5ECF6",
              "width": 0.5
             },
             "pattern": {
              "fillmode": "overlay",
              "size": 10,
              "solidity": 0.2
             }
            },
            "type": "bar"
           }
          ],
          "barpolar": [
           {
            "marker": {
             "line": {
              "color": "#E5ECF6",
              "width": 0.5
             },
             "pattern": {
              "fillmode": "overlay",
              "size": 10,
              "solidity": 0.2
             }
            },
            "type": "barpolar"
           }
          ],
          "carpet": [
           {
            "aaxis": {
             "endlinecolor": "#2a3f5f",
             "gridcolor": "white",
             "linecolor": "white",
             "minorgridcolor": "white",
             "startlinecolor": "#2a3f5f"
            },
            "baxis": {
             "endlinecolor": "#2a3f5f",
             "gridcolor": "white",
             "linecolor": "white",
             "minorgridcolor": "white",
             "startlinecolor": "#2a3f5f"
            },
            "type": "carpet"
           }
          ],
          "choropleth": [
           {
            "colorbar": {
             "outlinewidth": 0,
             "ticks": ""
            },
            "type": "choropleth"
           }
          ],
          "contour": [
           {
            "colorbar": {
             "outlinewidth": 0,
             "ticks": ""
            },
            "colorscale": [
             [
              0,
              "#0d0887"
             ],
             [
              0.1111111111111111,
              "#46039f"
             ],
             [
              0.2222222222222222,
              "#7201a8"
             ],
             [
              0.3333333333333333,
              "#9c179e"
             ],
             [
              0.4444444444444444,
              "#bd3786"
             ],
             [
              0.5555555555555556,
              "#d8576b"
             ],
             [
              0.6666666666666666,
              "#ed7953"
             ],
             [
              0.7777777777777778,
              "#fb9f3a"
             ],
             [
              0.8888888888888888,
              "#fdca26"
             ],
             [
              1,
              "#f0f921"
             ]
            ],
            "type": "contour"
           }
          ],
          "contourcarpet": [
           {
            "colorbar": {
             "outlinewidth": 0,
             "ticks": ""
            },
            "type": "contourcarpet"
           }
          ],
          "heatmap": [
           {
            "colorbar": {
             "outlinewidth": 0,
             "ticks": ""
            },
            "colorscale": [
             [
              0,
              "#0d0887"
             ],
             [
              0.1111111111111111,
              "#46039f"
             ],
             [
              0.2222222222222222,
              "#7201a8"
             ],
             [
              0.3333333333333333,
              "#9c179e"
             ],
             [
              0.4444444444444444,
              "#bd3786"
             ],
             [
              0.5555555555555556,
              "#d8576b"
             ],
             [
              0.6666666666666666,
              "#ed7953"
             ],
             [
              0.7777777777777778,
              "#fb9f3a"
             ],
             [
              0.8888888888888888,
              "#fdca26"
             ],
             [
              1,
              "#f0f921"
             ]
            ],
            "type": "heatmap"
           }
          ],
          "heatmapgl": [
           {
            "colorbar": {
             "outlinewidth": 0,
             "ticks": ""
            },
            "colorscale": [
             [
              0,
              "#0d0887"
             ],
             [
              0.1111111111111111,
              "#46039f"
             ],
             [
              0.2222222222222222,
              "#7201a8"
             ],
             [
              0.3333333333333333,
              "#9c179e"
             ],
             [
              0.4444444444444444,
              "#bd3786"
             ],
             [
              0.5555555555555556,
              "#d8576b"
             ],
             [
              0.6666666666666666,
              "#ed7953"
             ],
             [
              0.7777777777777778,
              "#fb9f3a"
             ],
             [
              0.8888888888888888,
              "#fdca26"
             ],
             [
              1,
              "#f0f921"
             ]
            ],
            "type": "heatmapgl"
           }
          ],
          "histogram": [
           {
            "marker": {
             "pattern": {
              "fillmode": "overlay",
              "size": 10,
              "solidity": 0.2
             }
            },
            "type": "histogram"
           }
          ],
          "histogram2d": [
           {
            "colorbar": {
             "outlinewidth": 0,
             "ticks": ""
            },
            "colorscale": [
             [
              0,
              "#0d0887"
             ],
             [
              0.1111111111111111,
              "#46039f"
             ],
             [
              0.2222222222222222,
              "#7201a8"
             ],
             [
              0.3333333333333333,
              "#9c179e"
             ],
             [
              0.4444444444444444,
              "#bd3786"
             ],
             [
              0.5555555555555556,
              "#d8576b"
             ],
             [
              0.6666666666666666,
              "#ed7953"
             ],
             [
              0.7777777777777778,
              "#fb9f3a"
             ],
             [
              0.8888888888888888,
              "#fdca26"
             ],
             [
              1,
              "#f0f921"
             ]
            ],
            "type": "histogram2d"
           }
          ],
          "histogram2dcontour": [
           {
            "colorbar": {
             "outlinewidth": 0,
             "ticks": ""
            },
            "colorscale": [
             [
              0,
              "#0d0887"
             ],
             [
              0.1111111111111111,
              "#46039f"
             ],
             [
              0.2222222222222222,
              "#7201a8"
             ],
             [
              0.3333333333333333,
              "#9c179e"
             ],
             [
              0.4444444444444444,
              "#bd3786"
             ],
             [
              0.5555555555555556,
              "#d8576b"
             ],
             [
              0.6666666666666666,
              "#ed7953"
             ],
             [
              0.7777777777777778,
              "#fb9f3a"
             ],
             [
              0.8888888888888888,
              "#fdca26"
             ],
             [
              1,
              "#f0f921"
             ]
            ],
            "type": "histogram2dcontour"
           }
          ],
          "mesh3d": [
           {
            "colorbar": {
             "outlinewidth": 0,
             "ticks": ""
            },
            "type": "mesh3d"
           }
          ],
          "parcoords": [
           {
            "line": {
             "colorbar": {
              "outlinewidth": 0,
              "ticks": ""
             }
            },
            "type": "parcoords"
           }
          ],
          "pie": [
           {
            "automargin": true,
            "type": "pie"
           }
          ],
          "scatter": [
           {
            "fillpattern": {
             "fillmode": "overlay",
             "size": 10,
             "solidity": 0.2
            },
            "type": "scatter"
           }
          ],
          "scatter3d": [
           {
            "line": {
             "colorbar": {
              "outlinewidth": 0,
              "ticks": ""
             }
            },
            "marker": {
             "colorbar": {
              "outlinewidth": 0,
              "ticks": ""
             }
            },
            "type": "scatter3d"
           }
          ],
          "scattercarpet": [
           {
            "marker": {
             "colorbar": {
              "outlinewidth": 0,
              "ticks": ""
             }
            },
            "type": "scattercarpet"
           }
          ],
          "scattergeo": [
           {
            "marker": {
             "colorbar": {
              "outlinewidth": 0,
              "ticks": ""
             }
            },
            "type": "scattergeo"
           }
          ],
          "scattergl": [
           {
            "marker": {
             "colorbar": {
              "outlinewidth": 0,
              "ticks": ""
             }
            },
            "type": "scattergl"
           }
          ],
          "scattermapbox": [
           {
            "marker": {
             "colorbar": {
              "outlinewidth": 0,
              "ticks": ""
             }
            },
            "type": "scattermapbox"
           }
          ],
          "scatterpolar": [
           {
            "marker": {
             "colorbar": {
              "outlinewidth": 0,
              "ticks": ""
             }
            },
            "type": "scatterpolar"
           }
          ],
          "scatterpolargl": [
           {
            "marker": {
             "colorbar": {
              "outlinewidth": 0,
              "ticks": ""
             }
            },
            "type": "scatterpolargl"
           }
          ],
          "scatterternary": [
           {
            "marker": {
             "colorbar": {
              "outlinewidth": 0,
              "ticks": ""
             }
            },
            "type": "scatterternary"
           }
          ],
          "surface": [
           {
            "colorbar": {
             "outlinewidth": 0,
             "ticks": ""
            },
            "colorscale": [
             [
              0,
              "#0d0887"
             ],
             [
              0.1111111111111111,
              "#46039f"
             ],
             [
              0.2222222222222222,
              "#7201a8"
             ],
             [
              0.3333333333333333,
              "#9c179e"
             ],
             [
              0.4444444444444444,
              "#bd3786"
             ],
             [
              0.5555555555555556,
              "#d8576b"
             ],
             [
              0.6666666666666666,
              "#ed7953"
             ],
             [
              0.7777777777777778,
              "#fb9f3a"
             ],
             [
              0.8888888888888888,
              "#fdca26"
             ],
             [
              1,
              "#f0f921"
             ]
            ],
            "type": "surface"
           }
          ],
          "table": [
           {
            "cells": {
             "fill": {
              "color": "#EBF0F8"
             },
             "line": {
              "color": "white"
             }
            },
            "header": {
             "fill": {
              "color": "#C8D4E3"
             },
             "line": {
              "color": "white"
             }
            },
            "type": "table"
           }
          ]
         },
         "layout": {
          "annotationdefaults": {
           "arrowcolor": "#2a3f5f",
           "arrowhead": 0,
           "arrowwidth": 1
          },
          "autotypenumbers": "strict",
          "coloraxis": {
           "colorbar": {
            "outlinewidth": 0,
            "ticks": ""
           }
          },
          "colorscale": {
           "diverging": [
            [
             0,
             "#8e0152"
            ],
            [
             0.1,
             "#c51b7d"
            ],
            [
             0.2,
             "#de77ae"
            ],
            [
             0.3,
             "#f1b6da"
            ],
            [
             0.4,
             "#fde0ef"
            ],
            [
             0.5,
             "#f7f7f7"
            ],
            [
             0.6,
             "#e6f5d0"
            ],
            [
             0.7,
             "#b8e186"
            ],
            [
             0.8,
             "#7fbc41"
            ],
            [
             0.9,
             "#4d9221"
            ],
            [
             1,
             "#276419"
            ]
           ],
           "sequential": [
            [
             0,
             "#0d0887"
            ],
            [
             0.1111111111111111,
             "#46039f"
            ],
            [
             0.2222222222222222,
             "#7201a8"
            ],
            [
             0.3333333333333333,
             "#9c179e"
            ],
            [
             0.4444444444444444,
             "#bd3786"
            ],
            [
             0.5555555555555556,
             "#d8576b"
            ],
            [
             0.6666666666666666,
             "#ed7953"
            ],
            [
             0.7777777777777778,
             "#fb9f3a"
            ],
            [
             0.8888888888888888,
             "#fdca26"
            ],
            [
             1,
             "#f0f921"
            ]
           ],
           "sequentialminus": [
            [
             0,
             "#0d0887"
            ],
            [
             0.1111111111111111,
             "#46039f"
            ],
            [
             0.2222222222222222,
             "#7201a8"
            ],
            [
             0.3333333333333333,
             "#9c179e"
            ],
            [
             0.4444444444444444,
             "#bd3786"
            ],
            [
             0.5555555555555556,
             "#d8576b"
            ],
            [
             0.6666666666666666,
             "#ed7953"
            ],
            [
             0.7777777777777778,
             "#fb9f3a"
            ],
            [
             0.8888888888888888,
             "#fdca26"
            ],
            [
             1,
             "#f0f921"
            ]
           ]
          },
          "colorway": [
           "#636efa",
           "#EF553B",
           "#00cc96",
           "#ab63fa",
           "#FFA15A",
           "#19d3f3",
           "#FF6692",
           "#B6E880",
           "#FF97FF",
           "#FECB52"
          ],
          "font": {
           "color": "#2a3f5f"
          },
          "geo": {
           "bgcolor": "white",
           "lakecolor": "white",
           "landcolor": "#E5ECF6",
           "showlakes": true,
           "showland": true,
           "subunitcolor": "white"
          },
          "hoverlabel": {
           "align": "left"
          },
          "hovermode": "closest",
          "mapbox": {
           "style": "light"
          },
          "paper_bgcolor": "white",
          "plot_bgcolor": "#E5ECF6",
          "polar": {
           "angularaxis": {
            "gridcolor": "white",
            "linecolor": "white",
            "ticks": ""
           },
           "bgcolor": "#E5ECF6",
           "radialaxis": {
            "gridcolor": "white",
            "linecolor": "white",
            "ticks": ""
           }
          },
          "scene": {
           "xaxis": {
            "backgroundcolor": "#E5ECF6",
            "gridcolor": "white",
            "gridwidth": 2,
            "linecolor": "white",
            "showbackground": true,
            "ticks": "",
            "zerolinecolor": "white"
           },
           "yaxis": {
            "backgroundcolor": "#E5ECF6",
            "gridcolor": "white",
            "gridwidth": 2,
            "linecolor": "white",
            "showbackground": true,
            "ticks": "",
            "zerolinecolor": "white"
           },
           "zaxis": {
            "backgroundcolor": "#E5ECF6",
            "gridcolor": "white",
            "gridwidth": 2,
            "linecolor": "white",
            "showbackground": true,
            "ticks": "",
            "zerolinecolor": "white"
           }
          },
          "shapedefaults": {
           "line": {
            "color": "#2a3f5f"
           }
          },
          "ternary": {
           "aaxis": {
            "gridcolor": "white",
            "linecolor": "white",
            "ticks": ""
           },
           "baxis": {
            "gridcolor": "white",
            "linecolor": "white",
            "ticks": ""
           },
           "bgcolor": "#E5ECF6",
           "caxis": {
            "gridcolor": "white",
            "linecolor": "white",
            "ticks": ""
           }
          },
          "title": {
           "x": 0.05
          },
          "xaxis": {
           "automargin": true,
           "gridcolor": "white",
           "linecolor": "white",
           "ticks": "",
           "title": {
            "standoff": 15
           },
           "zerolinecolor": "white",
           "zerolinewidth": 2
          },
          "yaxis": {
           "automargin": true,
           "gridcolor": "white",
           "linecolor": "white",
           "ticks": "",
           "title": {
            "standoff": 15
           },
           "zerolinecolor": "white",
           "zerolinewidth": 2
          }
         }
        },
        "title": {
         "text": "Development Indicators"
        },
        "width": 1100,
        "xaxis": {
         "autorange": true,
         "range": [
          2007.3615751789976,
          2018.6384248210024
         ],
         "title": {
          "text": "Year"
         },
         "type": "linear"
        },
        "yaxis": {
         "autorange": true,
         "range": [
          -3.3249680151055876,
          12.468238090943753
         ],
         "title": {
          "text": "Percent of GDP"
         },
         "type": "linear"
        }
       }
      },
      "image/png": "[encoded data removed]",
      "text/html": [
       "<div>                            <div id=\"84b396b3-3c65-4a53-a004-48c1dee7f980\" class=\"plotly-graph-div\" style=\"height:600px; width:1100px;\"></div>            <script type=\"text/javascript\">                require([\"plotly\"], function(Plotly) {                    window.PLOTLYENV=window.PLOTLYENV || {};                                    if (document.getElementById(\"84b396b3-3c65-4a53-a004-48c1dee7f980\")) {                    Plotly.newPlot(                        \"84b396b3-3c65-4a53-a004-48c1dee7f980\",                        [{\"name\":\"GDP growth (annual %)\",\"x\":[2008,2009,2010,2011,2012,2013,2014,2015,2016,2017,2018],\"y\":[2.8079836316869233,-2.297374630715453,3.243397335501726,1.8131081920369496,1.1792538332510816,1.792144057074836,2.349881275086261,1.6446276869928482,2.068689667099605,1.3627995571141582,2.860445794616325],\"type\":\"scatter\",\"hoverinfo\":\"all\",\"mode\":\"lines+markers\"},{\"name\":\"Inflation, consumer prices (annual %)\",\"x\":[2008,2009,2010,2011,2012,2013,2014,2015,2016,2017,2018],\"y\":[2.42604117060158,-0.480481936423275,0.688238707220026,0.2313492076509,-0.692552018105253,-0.217323155115693,-0.0132025387514939,-1.14390867228183,-0.434618664285835,0.533787839825897,0.936335464113563],\"type\":\"scatter\",\"hoverinfo\":\"all\",\"mode\":\"lines+markers\"},{\"name\":\"General government final consumption expenditure (% of GDP)\",\"x\":[2008,2009,2010,2011,2012,2013,2014,2015,2016,2017,2018],\"y\":[10.570698901001274,11.384624638767603,11.183612180307504,11.27557155774039,11.314927383119223,11.412579172950856,11.481636472973927,11.537567016837274,11.514961744443685,11.509391498038399,11.264920751752326],\"type\":\"scatter\",\"hoverinfo\":\"all\",\"mode\":\"lines+markers\"},{\"name\":\"Tax revenue (% of GDP)\",\"x\":[2008,2009,2010,2011,2012,2013,2014,2015,2016,2017,2018],\"y\":[9.587141895076028,9.348527986730424,9.36400803897084,9.321952188282864,9.169074742064302,9.256214098769755,9.087339531974818,9.556179016647478,9.404603140741525,10.061635292289797,9.691023944961017],\"type\":\"scatter\",\"hoverinfo\":\"all\",\"mode\":\"lines+markers\"},{\"name\":\"Population growth (annual %)\",\"x\":[2008,2009,2010,2011,2012,2013,2014,2015,2016,2017,2018],\"y\":[1.27061807385776,1.24948463127384,1.0415580576588,1.11187894263206,1.06181932886789,1.14987975781229,1.22010397343287,1.13833715247736,1.09203117387253,0.933155888738653,0.736633975172522],\"type\":\"scatter\",\"hoverinfo\":\"all\",\"mode\":\"lines+markers\"},{\"name\":\"Central government debt, total (% of GDP)\",\"x\":[2008,2009,2010,2011,2012,2013,2014,2015,2016,2017,2018],\"y\":[23.082653900009024,21.701637393959317,20.9935662243333,21.14200705018538,21.344495934968645,20.218157443688952,20.611242786826974,20.439294959268818,19.38099265587186,20.284411832666734,18.678118566673962],\"type\":\"scatter\",\"hoverinfo\":\"all\",\"mode\":\"lines+markers\"},{\"name\":\"Real interest rate (%)\",\"x\":[2008,2009,2010,2011,2012,2013,2014,2015,2016,2017,2018],\"y\":[1.8655232458582758,2.282844336883291,2.4130502683302466,2.7393465263025907,2.6229417248065583,2.7784221622700596,3.3651020863623216,3.996447542483074,3.2489088705105513,3.006367395339068,1.8490046533368505],\"type\":\"scatter\",\"hoverinfo\":\"all\",\"mode\":\"lines+markers\"},{\"name\":\"GDP per capita Growth_Rate (current US$)\",\"x\":[2008,2009,2010,2011,2012,2013,2014,2015,2016,2017,2018],\"y\":[null,-3.5144909008511194,6.934717875218022,18.22178995166017,-5.12899814438409,1.7103771757355002,1.6272507325215235,-5.543582803171676,-1.972847081502238,0.12330930126374096,3.602230464746148],\"type\":\"scatter\",\"hoverinfo\":\"all\",\"mode\":\"lines+markers\"},{\"name\":\"GDP per capita, PPP Growth_Rate (current international $)\",\"x\":[2008,2009,2010,2011,2012,2013,2014,2015,2016,2017,2018],\"y\":[null,-1.5523875706752621,2.7665086917190385,5.6110574222149046,3.3870473348171393,3.7273152305974833,2.855462945324083,2.914046302893669,3.195747613095201,1.2512905887088976,3.6591655416724933],\"type\":\"scatter\",\"hoverinfo\":\"all\",\"mode\":\"lines+markers\"},{\"name\":\"Current Account Balance (% of GDP)\",\"x\":[2008,2009,2010,2011,2012,2013,2014,2015,2016,2017,2018],\"y\":[-0.9835570059252454,-2.0360966520371786,-1.8196041413366633,-1.9536193694575257,-2.145852641054921,-2.1563650741811013,-2.3942969409991086,-1.9813880001897957,-2.11035860370216,-1.4477562057486022,-1.5738968067913088],\"type\":\"scatter\",\"hoverinfo\":\"all\",\"mode\":\"lines+markers\"}],                        {\"template\":{\"data\":{\"histogram2dcontour\":[{\"type\":\"histogram2dcontour\",\"colorbar\":{\"outlinewidth\":0,\"ticks\":\"\"},\"colorscale\":[[0.0,\"#0d0887\"],[0.1111111111111111,\"#46039f\"],[0.2222222222222222,\"#7201a8\"],[0.3333333333333333,\"#9c179e\"],[0.4444444444444444,\"#bd3786\"],[0.5555555555555556,\"#d8576b\"],[0.6666666666666666,\"#ed7953\"],[0.7777777777777778,\"#fb9f3a\"],[0.8888888888888888,\"#fdca26\"],[1.0,\"#f0f921\"]]}],\"choropleth\":[{\"type\":\"choropleth\",\"colorbar\":{\"outlinewidth\":0,\"ticks\":\"\"}}],\"histogram2d\":[{\"type\":\"histogram2d\",\"colorbar\":{\"outlinewidth\":0,\"ticks\":\"\"},\"colorscale\":[[0.0,\"#0d0887\"],[0.1111111111111111,\"#46039f\"],[0.2222222222222222,\"#7201a8\"],[0.3333333333333333,\"#9c179e\"],[0.4444444444444444,\"#bd3786\"],[0.5555555555555556,\"#d8576b\"],[0.6666666666666666,\"#ed7953\"],[0.7777777777777778,\"#fb9f3a\"],[0.8888888888888888,\"#fdca26\"],[1.0,\"#f0f921\"]]}],\"heatmap\":[{\"type\":\"heatmap\",\"colorbar\":{\"outlinewidth\":0,\"ticks\":\"\"},\"colorscale\":[[0.0,\"#0d0887\"],[0.1111111111111111,\"#46039f\"],[0.2222222222222222,\"#7201a8\"],[0.3333333333333333,\"#9c179e\"],[0.4444444444444444,\"#bd3786\"],[0.5555555555555556,\"#d8576b\"],[0.6666666666666666,\"#ed7953\"],[0.7777777777777778,\"#fb9f3a\"],[0.8888888888888888,\"#fdca26\"],[1.0,\"#f0f921\"]]}],\"heatmapgl\":[{\"type\":\"heatmapgl\",\"colorbar\":{\"outlinewidth\":0,\"ticks\":\"\"},\"colorscale\":[[0.0,\"#0d0887\"],[0.1111111111111111,\"#46039f\"],[0.2222222222222222,\"#7201a8\"],[0.3333333333333333,\"#9c179e\"],[0.4444444444444444,\"#bd3786\"],[0.5555555555555556,\"#d8576b\"],[0.6666666666666666,\"#ed7953\"],[0.7777777777777778,\"#fb9f3a\"],[0.8888888888888888,\"#fdca26\"],[1.0,\"#f0f921\"]]}],\"contourcarpet\":[{\"type\":\"contourcarpet\",\"colorbar\":{\"outlinewidth\":0,\"ticks\":\"\"}}],\"contour\":[{\"type\":\"contour\",\"colorbar\":{\"outlinewidth\":0,\"ticks\":\"\"},\"colorscale\":[[0.0,\"#0d0887\"],[0.1111111111111111,\"#46039f\"],[0.2222222222222222,\"#7201a8\"],[0.3333333333333333,\"#9c179e\"],[0.4444444444444444,\"#bd3786\"],[0.5555555555555556,\"#d8576b\"],[0.6666666666666666,\"#ed7953\"],[0.7777777777777778,\"#fb9f3a\"],[0.8888888888888888,\"#fdca26\"],[1.0,\"#f0f921\"]]}],\"surface\":[{\"type\":\"surface\",\"colorbar\":{\"outlinewidth\":0,\"ticks\":\"\"},\"colorscale\":[[0.0,\"#0d0887\"],[0.1111111111111111,\"#46039f\"],[0.2222222222222222,\"#7201a8\"],[0.3333333333333333,\"#9c179e\"],[0.4444444444444444,\"#bd3786\"],[0.5555555555555556,\"#d8576b\"],[0.6666666666666666,\"#ed7953\"],[0.7777777777777778,\"#fb9f3a\"],[0.8888888888888888,\"#fdca26\"],[1.0,\"#f0f921\"]]}],\"mesh3d\":[{\"type\":\"mesh3d\",\"colorbar\":{\"outlinewidth\":0,\"ticks\":\"\"}}],\"scatter\":[{\"fillpattern\":{\"fillmode\":\"overlay\",\"size\":10,\"solidity\":0.2},\"type\":\"scatter\"}],\"parcoords\":[{\"type\":\"parcoords\",\"line\":{\"colorbar\":{\"outlinewidth\":0,\"ticks\":\"\"}}}],\"scatterpolargl\":[{\"type\":\"scatterpolargl\",\"marker\":{\"colorbar\":{\"outlinewidth\":0,\"ticks\":\"\"}}}],\"bar\":[{\"error_x\":{\"color\":\"#2a3f5f\"},\"error_y\":{\"color\":\"#2a3f5f\"},\"marker\":{\"line\":{\"color\":\"#E5ECF6\",\"width\":0.5},\"pattern\":{\"fillmode\":\"overlay\",\"size\":10,\"solidity\":0.2}},\"type\":\"bar\"}],\"scattergeo\":[{\"type\":\"scattergeo\",\"marker\":{\"colorbar\":{\"outlinewidth\":0,\"ticks\":\"\"}}}],\"scatterpolar\":[{\"type\":\"scatterpolar\",\"marker\":{\"colorbar\":{\"outlinewidth\":0,\"ticks\":\"\"}}}],\"histogram\":[{\"marker\":{\"pattern\":{\"fillmode\":\"overlay\",\"size\":10,\"solidity\":0.2}},\"type\":\"histogram\"}],\"scattergl\":[{\"type\":\"scattergl\",\"marker\":{\"colorbar\":{\"outlinewidth\":0,\"ticks\":\"\"}}}],\"scatter3d\":[{\"type\":\"scatter3d\",\"line\":{\"colorbar\":{\"outlinewidth\":0,\"ticks\":\"\"}},\"marker\":{\"colorbar\":{\"outlinewidth\":0,\"ticks\":\"\"}}}],\"scattermapbox\":[{\"type\":\"scattermapbox\",\"marker\":{\"colorbar\":{\"outlinewidth\":0,\"ticks\":\"\"}}}],\"scatterternary\":[{\"type\":\"scatterternary\",\"marker\":{\"colorbar\":{\"outlinewidth\":0,\"ticks\":\"\"}}}],\"scattercarpet\":[{\"type\":\"scattercarpet\",\"marker\":{\"colorbar\":{\"outlinewidth\":0,\"ticks\":\"\"}}}],\"carpet\":[{\"aaxis\":{\"endlinecolor\":\"#2a3f5f\",\"gridcolor\":\"white\",\"linecolor\":\"white\",\"minorgridcolor\":\"white\",\"startlinecolor\":\"#2a3f5f\"},\"baxis\":{\"endlinecolor\":\"#2a3f5f\",\"gridcolor\":\"white\",\"linecolor\":\"white\",\"minorgridcolor\":\"white\",\"startlinecolor\":\"#2a3f5f\"},\"type\":\"carpet\"}],\"table\":[{\"cells\":{\"fill\":{\"color\":\"#EBF0F8\"},\"line\":{\"color\":\"white\"}},\"header\":{\"fill\":{\"color\":\"#C8D4E3\"},\"line\":{\"color\":\"white\"}},\"type\":\"table\"}],\"barpolar\":[{\"marker\":{\"line\":{\"color\":\"#E5ECF6\",\"width\":0.5},\"pattern\":{\"fillmode\":\"overlay\",\"size\":10,\"solidity\":0.2}},\"type\":\"barpolar\"}],\"pie\":[{\"automargin\":true,\"type\":\"pie\"}]},\"layout\":{\"autotypenumbers\":\"strict\",\"colorway\":[\"#636efa\",\"#EF553B\",\"#00cc96\",\"#ab63fa\",\"#FFA15A\",\"#19d3f3\",\"#FF6692\",\"#B6E880\",\"#FF97FF\",\"#FECB52\"],\"font\":{\"color\":\"#2a3f5f\"},\"hovermode\":\"closest\",\"hoverlabel\":{\"align\":\"left\"},\"paper_bgcolor\":\"white\",\"plot_bgcolor\":\"#E5ECF6\",\"polar\":{\"bgcolor\":\"#E5ECF6\",\"angularaxis\":{\"gridcolor\":\"white\",\"linecolor\":\"white\",\"ticks\":\"\"},\"radialaxis\":{\"gridcolor\":\"white\",\"linecolor\":\"white\",\"ticks\":\"\"}},\"ternary\":{\"bgcolor\":\"#E5ECF6\",\"aaxis\":{\"gridcolor\":\"white\",\"linecolor\":\"white\",\"ticks\":\"\"},\"baxis\":{\"gridcolor\":\"white\",\"linecolor\":\"white\",\"ticks\":\"\"},\"caxis\":{\"gridcolor\":\"white\",\"linecolor\":\"white\",\"ticks\":\"\"}},\"coloraxis\":{\"colorbar\":{\"outlinewidth\":0,\"ticks\":\"\"}},\"colorscale\":{\"sequential\":[[0.0,\"#0d0887\"],[0.1111111111111111,\"#46039f\"],[0.2222222222222222,\"#7201a8\"],[0.3333333333333333,\"#9c179e\"],[0.4444444444444444,\"#bd3786\"],[0.5555555555555556,\"#d8576b\"],[0.6666666666666666,\"#ed7953\"],[0.7777777777777778,\"#fb9f3a\"],[0.8888888888888888,\"#fdca26\"],[1.0,\"#f0f921\"]],\"sequentialminus\":[[0.0,\"#0d0887\"],[0.1111111111111111,\"#46039f\"],[0.2222222222222222,\"#7201a8\"],[0.3333333333333333,\"#9c179e\"],[0.4444444444444444,\"#bd3786\"],[0.5555555555555556,\"#d8576b\"],[0.6666666666666666,\"#ed7953\"],[0.7777777777777778,\"#fb9f3a\"],[0.8888888888888888,\"#fdca26\"],[1.0,\"#f0f921\"]],\"diverging\":[[0,\"#8e0152\"],[0.1,\"#c51b7d\"],[0.2,\"#de77ae\"],[0.3,\"#f1b6da\"],[0.4,\"#fde0ef\"],[0.5,\"#f7f7f7\"],[0.6,\"#e6f5d0\"],[0.7,\"#b8e186\"],[0.8,\"#7fbc41\"],[0.9,\"#4d9221\"],[1,\"#276419\"]]},\"xaxis\":{\"gridcolor\":\"white\",\"linecolor\":\"white\",\"ticks\":\"\",\"title\":{\"standoff\":15},\"zerolinecolor\":\"white\",\"automargin\":true,\"zerolinewidth\":2},\"yaxis\":{\"gridcolor\":\"white\",\"linecolor\":\"white\",\"ticks\":\"\",\"title\":{\"standoff\":15},\"zerolinecolor\":\"white\",\"automargin\":true,\"zerolinewidth\":2},\"scene\":{\"xaxis\":{\"backgroundcolor\":\"#E5ECF6\",\"gridcolor\":\"white\",\"linecolor\":\"white\",\"showbackground\":true,\"ticks\":\"\",\"zerolinecolor\":\"white\",\"gridwidth\":2},\"yaxis\":{\"backgroundcolor\":\"#E5ECF6\",\"gridcolor\":\"white\",\"linecolor\":\"white\",\"showbackground\":true,\"ticks\":\"\",\"zerolinecolor\":\"white\",\"gridwidth\":2},\"zaxis\":{\"backgroundcolor\":\"#E5ECF6\",\"gridcolor\":\"white\",\"linecolor\":\"white\",\"showbackground\":true,\"ticks\":\"\",\"zerolinecolor\":\"white\",\"gridwidth\":2}},\"shapedefaults\":{\"line\":{\"color\":\"#2a3f5f\"}},\"annotationdefaults\":{\"arrowcolor\":\"#2a3f5f\",\"arrowhead\":0,\"arrowwidth\":1},\"geo\":{\"bgcolor\":\"white\",\"landcolor\":\"#E5ECF6\",\"subunitcolor\":\"white\",\"showland\":true,\"showlakes\":true,\"lakecolor\":\"white\"},\"title\":{\"x\":0.05},\"mapbox\":{\"style\":\"light\"}}},\"title\":{\"text\":\"Development Indicators\"},\"xaxis\":{\"title\":{\"text\":\"Year\"}},\"yaxis\":{\"title\":{\"text\":\"Percent of GDP\"}},\"autosize\":false,\"width\":1100,\"height\":600},                        {\"responsive\": true}                    ).then(function(){\n",
       "                            \n",
       "var gd = document.getElementById('84b396b3-3c65-4a53-a004-48c1dee7f980');\n",
       "var x = new MutationObserver(function (mutations, observer) {{\n",
       "        var display = window.getComputedStyle(gd).display;\n",
       "        if (!display || display === 'none') {{\n",
       "            console.log([gd, 'removed!']);\n",
       "            Plotly.purge(gd);\n",
       "            observer.disconnect();\n",
       "        }}\n",
       "}});\n",
       "\n",
       "// Listen for the removal of the full notebook cells\n",
       "var notebookContainer = gd.closest('#notebook-container');\n",
       "if (notebookContainer) {{\n",
       "    x.observe(notebookContainer, {childList: true});\n",
       "}}\n",
       "\n",
       "// Listen for the clearing of the current output cell\n",
       "var outputEl = gd.closest('.output');\n",
       "if (outputEl) {{\n",
       "    x.observe(outputEl, {childList: true});\n",
       "}}\n",
       "\n",
       "                        })                };                });            </script>        </div>"
      ]
     },
     "metadata": {},
     "output_type": "display_data"
    }
   ],
   "source": [
    "fig = go.Figure()\n",
    "percent_variables=['GDP growth (annual %)','Inflation, consumer prices (annual %)',\n",
    "          'General government final consumption expenditure (% of GDP)',\n",
    "          'Tax revenue (% of GDP)','Population growth (annual %)','Central government debt, total (% of GDP)',\n",
    "                   'Real interest rate (%)','GDP per capita Growth_Rate (current US$)',\n",
    "                   'GDP per capita, PPP Growth_Rate (current international $)',\n",
    "                   'Current Account Balance (% of GDP)'\n",
    "           ]\n",
    "for var in percent_variables:\n",
    "    fig.add_trace(go.Scatter(x=df_swi['Year'], y=df_swi[var],\n",
    "                name=var))\n",
    "    \n",
    "# Edit the layout\n",
    "fig.update_traces(hoverinfo='all', mode='lines+markers')\n",
    "fig.update_layout(title='Development Indicators',\n",
    "               xaxis_title='Year',\n",
    "               yaxis_title='Percent of GDP',\n",
    "                 autosize=False,\n",
    "                width=1100,\n",
    "                height=600\n",
    "                 )"
   ]
  },
  {
   "cell_type": "code",
   "execution_count": 201,
   "id": "8eee34a4-16b8-450c-8c08-ecdb8350768a",
   "metadata": {},
   "outputs": [
    {
     "data": {
      "application/vnd.plotly.v1+json": {
       "config": {
        "plotlyServerURL": "https://plot.ly"
       },
       "data": [
        {
         "hoverinfo": "all",
         "mode": "markers",
         "type": "scatter",
         "x": [
          2.8079836316869233,
          -2.297374630715453,
          3.243397335501726,
          1.8131081920369496,
          1.1792538332510816,
          1.792144057074836,
          2.349881275086261,
          1.6446276869928482,
          2.068689667099605,
          1.3627995571141582,
          2.860445794616325
         ],
         "y": [
          2.42604117060158,
          -0.480481936423275,
          0.688238707220026,
          0.2313492076509,
          -0.692552018105253,
          -0.217323155115693,
          -0.0132025387514939,
          -1.14390867228183,
          -0.434618664285835,
          0.533787839825897,
          0.936335464113563
         ]
        }
       ],
       "layout": {
        "autosize": false,
        "height": 600,
        "template": {
         "data": {
          "bar": [
           {
            "error_x": {
             "color": "#2a3f5f"
            },
            "error_y": {
             "color": "#2a3f5f"
            },
            "marker": {
             "line": {
              "color": "#E5ECF6",
              "width": 0.5
             },
             "pattern": {
              "fillmode": "overlay",
              "size": 10,
              "solidity": 0.2
             }
            },
            "type": "bar"
           }
          ],
          "barpolar": [
           {
            "marker": {
             "line": {
              "color": "#E5ECF6",
              "width": 0.5
             },
             "pattern": {
              "fillmode": "overlay",
              "size": 10,
              "solidity": 0.2
             }
            },
            "type": "barpolar"
           }
          ],
          "carpet": [
           {
            "aaxis": {
             "endlinecolor": "#2a3f5f",
             "gridcolor": "white",
             "linecolor": "white",
             "minorgridcolor": "white",
             "startlinecolor": "#2a3f5f"
            },
            "baxis": {
             "endlinecolor": "#2a3f5f",
             "gridcolor": "white",
             "linecolor": "white",
             "minorgridcolor": "white",
             "startlinecolor": "#2a3f5f"
            },
            "type": "carpet"
           }
          ],
          "choropleth": [
           {
            "colorbar": {
             "outlinewidth": 0,
             "ticks": ""
            },
            "type": "choropleth"
           }
          ],
          "contour": [
           {
            "colorbar": {
             "outlinewidth": 0,
             "ticks": ""
            },
            "colorscale": [
             [
              0,
              "#0d0887"
             ],
             [
              0.1111111111111111,
              "#46039f"
             ],
             [
              0.2222222222222222,
              "#7201a8"
             ],
             [
              0.3333333333333333,
              "#9c179e"
             ],
             [
              0.4444444444444444,
              "#bd3786"
             ],
             [
              0.5555555555555556,
              "#d8576b"
             ],
             [
              0.6666666666666666,
              "#ed7953"
             ],
             [
              0.7777777777777778,
              "#fb9f3a"
             ],
             [
              0.8888888888888888,
              "#fdca26"
             ],
             [
              1,
              "#f0f921"
             ]
            ],
            "type": "contour"
           }
          ],
          "contourcarpet": [
           {
            "colorbar": {
             "outlinewidth": 0,
             "ticks": ""
            },
            "type": "contourcarpet"
           }
          ],
          "heatmap": [
           {
            "colorbar": {
             "outlinewidth": 0,
             "ticks": ""
            },
            "colorscale": [
             [
              0,
              "#0d0887"
             ],
             [
              0.1111111111111111,
              "#46039f"
             ],
             [
              0.2222222222222222,
              "#7201a8"
             ],
             [
              0.3333333333333333,
              "#9c179e"
             ],
             [
              0.4444444444444444,
              "#bd3786"
             ],
             [
              0.5555555555555556,
              "#d8576b"
             ],
             [
              0.6666666666666666,
              "#ed7953"
             ],
             [
              0.7777777777777778,
              "#fb9f3a"
             ],
             [
              0.8888888888888888,
              "#fdca26"
             ],
             [
              1,
              "#f0f921"
             ]
            ],
            "type": "heatmap"
           }
          ],
          "heatmapgl": [
           {
            "colorbar": {
             "outlinewidth": 0,
             "ticks": ""
            },
            "colorscale": [
             [
              0,
              "#0d0887"
             ],
             [
              0.1111111111111111,
              "#46039f"
             ],
             [
              0.2222222222222222,
              "#7201a8"
             ],
             [
              0.3333333333333333,
              "#9c179e"
             ],
             [
              0.4444444444444444,
              "#bd3786"
             ],
             [
              0.5555555555555556,
              "#d8576b"
             ],
             [
              0.6666666666666666,
              "#ed7953"
             ],
             [
              0.7777777777777778,
              "#fb9f3a"
             ],
             [
              0.8888888888888888,
              "#fdca26"
             ],
             [
              1,
              "#f0f921"
             ]
            ],
            "type": "heatmapgl"
           }
          ],
          "histogram": [
           {
            "marker": {
             "pattern": {
              "fillmode": "overlay",
              "size": 10,
              "solidity": 0.2
             }
            },
            "type": "histogram"
           }
          ],
          "histogram2d": [
           {
            "colorbar": {
             "outlinewidth": 0,
             "ticks": ""
            },
            "colorscale": [
             [
              0,
              "#0d0887"
             ],
             [
              0.1111111111111111,
              "#46039f"
             ],
             [
              0.2222222222222222,
              "#7201a8"
             ],
             [
              0.3333333333333333,
              "#9c179e"
             ],
             [
              0.4444444444444444,
              "#bd3786"
             ],
             [
              0.5555555555555556,
              "#d8576b"
             ],
             [
              0.6666666666666666,
              "#ed7953"
             ],
             [
              0.7777777777777778,
              "#fb9f3a"
             ],
             [
              0.8888888888888888,
              "#fdca26"
             ],
             [
              1,
              "#f0f921"
             ]
            ],
            "type": "histogram2d"
           }
          ],
          "histogram2dcontour": [
           {
            "colorbar": {
             "outlinewidth": 0,
             "ticks": ""
            },
            "colorscale": [
             [
              0,
              "#0d0887"
             ],
             [
              0.1111111111111111,
              "#46039f"
             ],
             [
              0.2222222222222222,
              "#7201a8"
             ],
             [
              0.3333333333333333,
              "#9c179e"
             ],
             [
              0.4444444444444444,
              "#bd3786"
             ],
             [
              0.5555555555555556,
              "#d8576b"
             ],
             [
              0.6666666666666666,
              "#ed7953"
             ],
             [
              0.7777777777777778,
              "#fb9f3a"
             ],
             [
              0.8888888888888888,
              "#fdca26"
             ],
             [
              1,
              "#f0f921"
             ]
            ],
            "type": "histogram2dcontour"
           }
          ],
          "mesh3d": [
           {
            "colorbar": {
             "outlinewidth": 0,
             "ticks": ""
            },
            "type": "mesh3d"
           }
          ],
          "parcoords": [
           {
            "line": {
             "colorbar": {
              "outlinewidth": 0,
              "ticks": ""
             }
            },
            "type": "parcoords"
           }
          ],
          "pie": [
           {
            "automargin": true,
            "type": "pie"
           }
          ],
          "scatter": [
           {
            "fillpattern": {
             "fillmode": "overlay",
             "size": 10,
             "solidity": 0.2
            },
            "type": "scatter"
           }
          ],
          "scatter3d": [
           {
            "line": {
             "colorbar": {
              "outlinewidth": 0,
              "ticks": ""
             }
            },
            "marker": {
             "colorbar": {
              "outlinewidth": 0,
              "ticks": ""
             }
            },
            "type": "scatter3d"
           }
          ],
          "scattercarpet": [
           {
            "marker": {
             "colorbar": {
              "outlinewidth": 0,
              "ticks": ""
             }
            },
            "type": "scattercarpet"
           }
          ],
          "scattergeo": [
           {
            "marker": {
             "colorbar": {
              "outlinewidth": 0,
              "ticks": ""
             }
            },
            "type": "scattergeo"
           }
          ],
          "scattergl": [
           {
            "marker": {
             "colorbar": {
              "outlinewidth": 0,
              "ticks": ""
             }
            },
            "type": "scattergl"
           }
          ],
          "scattermapbox": [
           {
            "marker": {
             "colorbar": {
              "outlinewidth": 0,
              "ticks": ""
             }
            },
            "type": "scattermapbox"
           }
          ],
          "scatterpolar": [
           {
            "marker": {
             "colorbar": {
              "outlinewidth": 0,
              "ticks": ""
             }
            },
            "type": "scatterpolar"
           }
          ],
          "scatterpolargl": [
           {
            "marker": {
             "colorbar": {
              "outlinewidth": 0,
              "ticks": ""
             }
            },
            "type": "scatterpolargl"
           }
          ],
          "scatterternary": [
           {
            "marker": {
             "colorbar": {
              "outlinewidth": 0,
              "ticks": ""
             }
            },
            "type": "scatterternary"
           }
          ],
          "surface": [
           {
            "colorbar": {
             "outlinewidth": 0,
             "ticks": ""
            },
            "colorscale": [
             [
              0,
              "#0d0887"
             ],
             [
              0.1111111111111111,
              "#46039f"
             ],
             [
              0.2222222222222222,
              "#7201a8"
             ],
             [
              0.3333333333333333,
              "#9c179e"
             ],
             [
              0.4444444444444444,
              "#bd3786"
             ],
             [
              0.5555555555555556,
              "#d8576b"
             ],
             [
              0.6666666666666666,
              "#ed7953"
             ],
             [
              0.7777777777777778,
              "#fb9f3a"
             ],
             [
              0.8888888888888888,
              "#fdca26"
             ],
             [
              1,
              "#f0f921"
             ]
            ],
            "type": "surface"
           }
          ],
          "table": [
           {
            "cells": {
             "fill": {
              "color": "#EBF0F8"
             },
             "line": {
              "color": "white"
             }
            },
            "header": {
             "fill": {
              "color": "#C8D4E3"
             },
             "line": {
              "color": "white"
             }
            },
            "type": "table"
           }
          ]
         },
         "layout": {
          "annotationdefaults": {
           "arrowcolor": "#2a3f5f",
           "arrowhead": 0,
           "arrowwidth": 1
          },
          "autotypenumbers": "strict",
          "coloraxis": {
           "colorbar": {
            "outlinewidth": 0,
            "ticks": ""
           }
          },
          "colorscale": {
           "diverging": [
            [
             0,
             "#8e0152"
            ],
            [
             0.1,
             "#c51b7d"
            ],
            [
             0.2,
             "#de77ae"
            ],
            [
             0.3,
             "#f1b6da"
            ],
            [
             0.4,
             "#fde0ef"
            ],
            [
             0.5,
             "#f7f7f7"
            ],
            [
             0.6,
             "#e6f5d0"
            ],
            [
             0.7,
             "#b8e186"
            ],
            [
             0.8,
             "#7fbc41"
            ],
            [
             0.9,
             "#4d9221"
            ],
            [
             1,
             "#276419"
            ]
           ],
           "sequential": [
            [
             0,
             "#0d0887"
            ],
            [
             0.1111111111111111,
             "#46039f"
            ],
            [
             0.2222222222222222,
             "#7201a8"
            ],
            [
             0.3333333333333333,
             "#9c179e"
            ],
            [
             0.4444444444444444,
             "#bd3786"
            ],
            [
             0.5555555555555556,
             "#d8576b"
            ],
            [
             0.6666666666666666,
             "#ed7953"
            ],
            [
             0.7777777777777778,
             "#fb9f3a"
            ],
            [
             0.8888888888888888,
             "#fdca26"
            ],
            [
             1,
             "#f0f921"
            ]
           ],
           "sequentialminus": [
            [
             0,
             "#0d0887"
            ],
            [
             0.1111111111111111,
             "#46039f"
            ],
            [
             0.2222222222222222,
             "#7201a8"
            ],
            [
             0.3333333333333333,
             "#9c179e"
            ],
            [
             0.4444444444444444,
             "#bd3786"
            ],
            [
             0.5555555555555556,
             "#d8576b"
            ],
            [
             0.6666666666666666,
             "#ed7953"
            ],
            [
             0.7777777777777778,
             "#fb9f3a"
            ],
            [
             0.8888888888888888,
             "#fdca26"
            ],
            [
             1,
             "#f0f921"
            ]
           ]
          },
          "colorway": [
           "#636efa",
           "#EF553B",
           "#00cc96",
           "#ab63fa",
           "#FFA15A",
           "#19d3f3",
           "#FF6692",
           "#B6E880",
           "#FF97FF",
           "#FECB52"
          ],
          "font": {
           "color": "#2a3f5f"
          },
          "geo": {
           "bgcolor": "white",
           "lakecolor": "white",
           "landcolor": "#E5ECF6",
           "showlakes": true,
           "showland": true,
           "subunitcolor": "white"
          },
          "hoverlabel": {
           "align": "left"
          },
          "hovermode": "closest",
          "mapbox": {
           "style": "light"
          },
          "paper_bgcolor": "white",
          "plot_bgcolor": "#E5ECF6",
          "polar": {
           "angularaxis": {
            "gridcolor": "white",
            "linecolor": "white",
            "ticks": ""
           },
           "bgcolor": "#E5ECF6",
           "radialaxis": {
            "gridcolor": "white",
            "linecolor": "white",
            "ticks": ""
           }
          },
          "scene": {
           "xaxis": {
            "backgroundcolor": "#E5ECF6",
            "gridcolor": "white",
            "gridwidth": 2,
            "linecolor": "white",
            "showbackground": true,
            "ticks": "",
            "zerolinecolor": "white"
           },
           "yaxis": {
            "backgroundcolor": "#E5ECF6",
            "gridcolor": "white",
            "gridwidth": 2,
            "linecolor": "white",
            "showbackground": true,
            "ticks": "",
            "zerolinecolor": "white"
           },
           "zaxis": {
            "backgroundcolor": "#E5ECF6",
            "gridcolor": "white",
            "gridwidth": 2,
            "linecolor": "white",
            "showbackground": true,
            "ticks": "",
            "zerolinecolor": "white"
           }
          },
          "shapedefaults": {
           "line": {
            "color": "#2a3f5f"
           }
          },
          "ternary": {
           "aaxis": {
            "gridcolor": "white",
            "linecolor": "white",
            "ticks": ""
           },
           "baxis": {
            "gridcolor": "white",
            "linecolor": "white",
            "ticks": ""
           },
           "bgcolor": "#E5ECF6",
           "caxis": {
            "gridcolor": "white",
            "linecolor": "white",
            "ticks": ""
           }
          },
          "title": {
           "x": 0.05
          },
          "xaxis": {
           "automargin": true,
           "gridcolor": "white",
           "linecolor": "white",
           "ticks": "",
           "title": {
            "standoff": 15
           },
           "zerolinecolor": "white",
           "zerolinewidth": 2
          },
          "yaxis": {
           "automargin": true,
           "gridcolor": "white",
           "linecolor": "white",
           "ticks": "",
           "title": {
            "standoff": 15
           },
           "zerolinecolor": "white",
           "zerolinewidth": 2
          }
         }
        },
        "title": {
         "text": "GDP growth rate vs Inflation"
        },
        "width": 1000,
        "xaxis": {
         "autorange": true,
         "range": [
          -2.636039049492254,
          3.582061754278527
         ],
         "title": {
          "text": "GDP growth (annual %)"
         },
         "type": "linear"
        },
        "yaxis": {
         "autorange": true,
         "range": [
          -1.3823871030817338,
          2.664519601401484
         ],
         "title": {
          "text": "Inflation, consumer prices (annual %)"
         },
         "type": "linear"
        }
       }
      },
      "image/png": "[encoded data removed]",
      "text/html": [
       "<div>                            <div id=\"1a251169-06ef-48c5-be46-2d17e95bfd0f\" class=\"plotly-graph-div\" style=\"height:600px; width:1000px;\"></div>            <script type=\"text/javascript\">                require([\"plotly\"], function(Plotly) {                    window.PLOTLYENV=window.PLOTLYENV || {};                                    if (document.getElementById(\"1a251169-06ef-48c5-be46-2d17e95bfd0f\")) {                    Plotly.newPlot(                        \"1a251169-06ef-48c5-be46-2d17e95bfd0f\",                        [{\"x\":[2.8079836316869233,-2.297374630715453,3.243397335501726,1.8131081920369496,1.1792538332510816,1.792144057074836,2.349881275086261,1.6446276869928482,2.068689667099605,1.3627995571141582,2.860445794616325],\"y\":[2.42604117060158,-0.480481936423275,0.688238707220026,0.2313492076509,-0.692552018105253,-0.217323155115693,-0.0132025387514939,-1.14390867228183,-0.434618664285835,0.533787839825897,0.936335464113563],\"type\":\"scatter\",\"hoverinfo\":\"all\",\"mode\":\"markers\"}],                        {\"template\":{\"data\":{\"histogram2dcontour\":[{\"type\":\"histogram2dcontour\",\"colorbar\":{\"outlinewidth\":0,\"ticks\":\"\"},\"colorscale\":[[0.0,\"#0d0887\"],[0.1111111111111111,\"#46039f\"],[0.2222222222222222,\"#7201a8\"],[0.3333333333333333,\"#9c179e\"],[0.4444444444444444,\"#bd3786\"],[0.5555555555555556,\"#d8576b\"],[0.6666666666666666,\"#ed7953\"],[0.7777777777777778,\"#fb9f3a\"],[0.8888888888888888,\"#fdca26\"],[1.0,\"#f0f921\"]]}],\"choropleth\":[{\"type\":\"choropleth\",\"colorbar\":{\"outlinewidth\":0,\"ticks\":\"\"}}],\"histogram2d\":[{\"type\":\"histogram2d\",\"colorbar\":{\"outlinewidth\":0,\"ticks\":\"\"},\"colorscale\":[[0.0,\"#0d0887\"],[0.1111111111111111,\"#46039f\"],[0.2222222222222222,\"#7201a8\"],[0.3333333333333333,\"#9c179e\"],[0.4444444444444444,\"#bd3786\"],[0.5555555555555556,\"#d8576b\"],[0.6666666666666666,\"#ed7953\"],[0.7777777777777778,\"#fb9f3a\"],[0.8888888888888888,\"#fdca26\"],[1.0,\"#f0f921\"]]}],\"heatmap\":[{\"type\":\"heatmap\",\"colorbar\":{\"outlinewidth\":0,\"ticks\":\"\"},\"colorscale\":[[0.0,\"#0d0887\"],[0.1111111111111111,\"#46039f\"],[0.2222222222222222,\"#7201a8\"],[0.3333333333333333,\"#9c179e\"],[0.4444444444444444,\"#bd3786\"],[0.5555555555555556,\"#d8576b\"],[0.6666666666666666,\"#ed7953\"],[0.7777777777777778,\"#fb9f3a\"],[0.8888888888888888,\"#fdca26\"],[1.0,\"#f0f921\"]]}],\"heatmapgl\":[{\"type\":\"heatmapgl\",\"colorbar\":{\"outlinewidth\":0,\"ticks\":\"\"},\"colorscale\":[[0.0,\"#0d0887\"],[0.1111111111111111,\"#46039f\"],[0.2222222222222222,\"#7201a8\"],[0.3333333333333333,\"#9c179e\"],[0.4444444444444444,\"#bd3786\"],[0.5555555555555556,\"#d8576b\"],[0.6666666666666666,\"#ed7953\"],[0.7777777777777778,\"#fb9f3a\"],[0.8888888888888888,\"#fdca26\"],[1.0,\"#f0f921\"]]}],\"contourcarpet\":[{\"type\":\"contourcarpet\",\"colorbar\":{\"outlinewidth\":0,\"ticks\":\"\"}}],\"contour\":[{\"type\":\"contour\",\"colorbar\":{\"outlinewidth\":0,\"ticks\":\"\"},\"colorscale\":[[0.0,\"#0d0887\"],[0.1111111111111111,\"#46039f\"],[0.2222222222222222,\"#7201a8\"],[0.3333333333333333,\"#9c179e\"],[0.4444444444444444,\"#bd3786\"],[0.5555555555555556,\"#d8576b\"],[0.6666666666666666,\"#ed7953\"],[0.7777777777777778,\"#fb9f3a\"],[0.8888888888888888,\"#fdca26\"],[1.0,\"#f0f921\"]]}],\"surface\":[{\"type\":\"surface\",\"colorbar\":{\"outlinewidth\":0,\"ticks\":\"\"},\"colorscale\":[[0.0,\"#0d0887\"],[0.1111111111111111,\"#46039f\"],[0.2222222222222222,\"#7201a8\"],[0.3333333333333333,\"#9c179e\"],[0.4444444444444444,\"#bd3786\"],[0.5555555555555556,\"#d8576b\"],[0.6666666666666666,\"#ed7953\"],[0.7777777777777778,\"#fb9f3a\"],[0.8888888888888888,\"#fdca26\"],[1.0,\"#f0f921\"]]}],\"mesh3d\":[{\"type\":\"mesh3d\",\"colorbar\":{\"outlinewidth\":0,\"ticks\":\"\"}}],\"scatter\":[{\"fillpattern\":{\"fillmode\":\"overlay\",\"size\":10,\"solidity\":0.2},\"type\":\"scatter\"}],\"parcoords\":[{\"type\":\"parcoords\",\"line\":{\"colorbar\":{\"outlinewidth\":0,\"ticks\":\"\"}}}],\"scatterpolargl\":[{\"type\":\"scatterpolargl\",\"marker\":{\"colorbar\":{\"outlinewidth\":0,\"ticks\":\"\"}}}],\"bar\":[{\"error_x\":{\"color\":\"#2a3f5f\"},\"error_y\":{\"color\":\"#2a3f5f\"},\"marker\":{\"line\":{\"color\":\"#E5ECF6\",\"width\":0.5},\"pattern\":{\"fillmode\":\"overlay\",\"size\":10,\"solidity\":0.2}},\"type\":\"bar\"}],\"scattergeo\":[{\"type\":\"scattergeo\",\"marker\":{\"colorbar\":{\"outlinewidth\":0,\"ticks\":\"\"}}}],\"scatterpolar\":[{\"type\":\"scatterpolar\",\"marker\":{\"colorbar\":{\"outlinewidth\":0,\"ticks\":\"\"}}}],\"histogram\":[{\"marker\":{\"pattern\":{\"fillmode\":\"overlay\",\"size\":10,\"solidity\":0.2}},\"type\":\"histogram\"}],\"scattergl\":[{\"type\":\"scattergl\",\"marker\":{\"colorbar\":{\"outlinewidth\":0,\"ticks\":\"\"}}}],\"scatter3d\":[{\"type\":\"scatter3d\",\"line\":{\"colorbar\":{\"outlinewidth\":0,\"ticks\":\"\"}},\"marker\":{\"colorbar\":{\"outlinewidth\":0,\"ticks\":\"\"}}}],\"scattermapbox\":[{\"type\":\"scattermapbox\",\"marker\":{\"colorbar\":{\"outlinewidth\":0,\"ticks\":\"\"}}}],\"scatterternary\":[{\"type\":\"scatterternary\",\"marker\":{\"colorbar\":{\"outlinewidth\":0,\"ticks\":\"\"}}}],\"scattercarpet\":[{\"type\":\"scattercarpet\",\"marker\":{\"colorbar\":{\"outlinewidth\":0,\"ticks\":\"\"}}}],\"carpet\":[{\"aaxis\":{\"endlinecolor\":\"#2a3f5f\",\"gridcolor\":\"white\",\"linecolor\":\"white\",\"minorgridcolor\":\"white\",\"startlinecolor\":\"#2a3f5f\"},\"baxis\":{\"endlinecolor\":\"#2a3f5f\",\"gridcolor\":\"white\",\"linecolor\":\"white\",\"minorgridcolor\":\"white\",\"startlinecolor\":\"#2a3f5f\"},\"type\":\"carpet\"}],\"table\":[{\"cells\":{\"fill\":{\"color\":\"#EBF0F8\"},\"line\":{\"color\":\"white\"}},\"header\":{\"fill\":{\"color\":\"#C8D4E3\"},\"line\":{\"color\":\"white\"}},\"type\":\"table\"}],\"barpolar\":[{\"marker\":{\"line\":{\"color\":\"#E5ECF6\",\"width\":0.5},\"pattern\":{\"fillmode\":\"overlay\",\"size\":10,\"solidity\":0.2}},\"type\":\"barpolar\"}],\"pie\":[{\"automargin\":true,\"type\":\"pie\"}]},\"layout\":{\"autotypenumbers\":\"strict\",\"colorway\":[\"#636efa\",\"#EF553B\",\"#00cc96\",\"#ab63fa\",\"#FFA15A\",\"#19d3f3\",\"#FF6692\",\"#B6E880\",\"#FF97FF\",\"#FECB52\"],\"font\":{\"color\":\"#2a3f5f\"},\"hovermode\":\"closest\",\"hoverlabel\":{\"align\":\"left\"},\"paper_bgcolor\":\"white\",\"plot_bgcolor\":\"#E5ECF6\",\"polar\":{\"bgcolor\":\"#E5ECF6\",\"angularaxis\":{\"gridcolor\":\"white\",\"linecolor\":\"white\",\"ticks\":\"\"},\"radialaxis\":{\"gridcolor\":\"white\",\"linecolor\":\"white\",\"ticks\":\"\"}},\"ternary\":{\"bgcolor\":\"#E5ECF6\",\"aaxis\":{\"gridcolor\":\"white\",\"linecolor\":\"white\",\"ticks\":\"\"},\"baxis\":{\"gridcolor\":\"white\",\"linecolor\":\"white\",\"ticks\":\"\"},\"caxis\":{\"gridcolor\":\"white\",\"linecolor\":\"white\",\"ticks\":\"\"}},\"coloraxis\":{\"colorbar\":{\"outlinewidth\":0,\"ticks\":\"\"}},\"colorscale\":{\"sequential\":[[0.0,\"#0d0887\"],[0.1111111111111111,\"#46039f\"],[0.2222222222222222,\"#7201a8\"],[0.3333333333333333,\"#9c179e\"],[0.4444444444444444,\"#bd3786\"],[0.5555555555555556,\"#d8576b\"],[0.6666666666666666,\"#ed7953\"],[0.7777777777777778,\"#fb9f3a\"],[0.8888888888888888,\"#fdca26\"],[1.0,\"#f0f921\"]],\"sequentialminus\":[[0.0,\"#0d0887\"],[0.1111111111111111,\"#46039f\"],[0.2222222222222222,\"#7201a8\"],[0.3333333333333333,\"#9c179e\"],[0.4444444444444444,\"#bd3786\"],[0.5555555555555556,\"#d8576b\"],[0.6666666666666666,\"#ed7953\"],[0.7777777777777778,\"#fb9f3a\"],[0.8888888888888888,\"#fdca26\"],[1.0,\"#f0f921\"]],\"diverging\":[[0,\"#8e0152\"],[0.1,\"#c51b7d\"],[0.2,\"#de77ae\"],[0.3,\"#f1b6da\"],[0.4,\"#fde0ef\"],[0.5,\"#f7f7f7\"],[0.6,\"#e6f5d0\"],[0.7,\"#b8e186\"],[0.8,\"#7fbc41\"],[0.9,\"#4d9221\"],[1,\"#276419\"]]},\"xaxis\":{\"gridcolor\":\"white\",\"linecolor\":\"white\",\"ticks\":\"\",\"title\":{\"standoff\":15},\"zerolinecolor\":\"white\",\"automargin\":true,\"zerolinewidth\":2},\"yaxis\":{\"gridcolor\":\"white\",\"linecolor\":\"white\",\"ticks\":\"\",\"title\":{\"standoff\":15},\"zerolinecolor\":\"white\",\"automargin\":true,\"zerolinewidth\":2},\"scene\":{\"xaxis\":{\"backgroundcolor\":\"#E5ECF6\",\"gridcolor\":\"white\",\"linecolor\":\"white\",\"showbackground\":true,\"ticks\":\"\",\"zerolinecolor\":\"white\",\"gridwidth\":2},\"yaxis\":{\"backgroundcolor\":\"#E5ECF6\",\"gridcolor\":\"white\",\"linecolor\":\"white\",\"showbackground\":true,\"ticks\":\"\",\"zerolinecolor\":\"white\",\"gridwidth\":2},\"zaxis\":{\"backgroundcolor\":\"#E5ECF6\",\"gridcolor\":\"white\",\"linecolor\":\"white\",\"showbackground\":true,\"ticks\":\"\",\"zerolinecolor\":\"white\",\"gridwidth\":2}},\"shapedefaults\":{\"line\":{\"color\":\"#2a3f5f\"}},\"annotationdefaults\":{\"arrowcolor\":\"#2a3f5f\",\"arrowhead\":0,\"arrowwidth\":1},\"geo\":{\"bgcolor\":\"white\",\"landcolor\":\"#E5ECF6\",\"subunitcolor\":\"white\",\"showland\":true,\"showlakes\":true,\"lakecolor\":\"white\"},\"title\":{\"x\":0.05},\"mapbox\":{\"style\":\"light\"}}},\"title\":{\"text\":\"GDP growth rate vs Inflation\"},\"xaxis\":{\"title\":{\"text\":\"GDP growth (annual %)\"}},\"yaxis\":{\"title\":{\"text\":\"Inflation, consumer prices (annual %)\"}},\"autosize\":false,\"width\":1000,\"height\":600},                        {\"responsive\": true}                    ).then(function(){\n",
       "                            \n",
       "var gd = document.getElementById('1a251169-06ef-48c5-be46-2d17e95bfd0f');\n",
       "var x = new MutationObserver(function (mutations, observer) {{\n",
       "        var display = window.getComputedStyle(gd).display;\n",
       "        if (!display || display === 'none') {{\n",
       "            console.log([gd, 'removed!']);\n",
       "            Plotly.purge(gd);\n",
       "            observer.disconnect();\n",
       "        }}\n",
       "}});\n",
       "\n",
       "// Listen for the removal of the full notebook cells\n",
       "var notebookContainer = gd.closest('#notebook-container');\n",
       "if (notebookContainer) {{\n",
       "    x.observe(notebookContainer, {childList: true});\n",
       "}}\n",
       "\n",
       "// Listen for the clearing of the current output cell\n",
       "var outputEl = gd.closest('.output');\n",
       "if (outputEl) {{\n",
       "    x.observe(outputEl, {childList: true});\n",
       "}}\n",
       "\n",
       "                        })                };                });            </script>        </div>"
      ]
     },
     "metadata": {},
     "output_type": "display_data"
    }
   ],
   "source": [
    "fig = go.Figure()\n",
    "var1='GDP growth (annual %)'\n",
    "var2='Inflation, consumer prices (annual %)'\n",
    "fig.add_trace(go.Scatter(x=df_swi[var1], y=df_swi[var2]))\n",
    "    \n",
    "# Edit the layout\n",
    "fig.update_traces(hoverinfo='all', mode='markers')\n",
    "fig.update_layout(title='GDP growth rate vs Inflation',\n",
    "               xaxis_title=var1,\n",
    "               yaxis_title=var2,\n",
    "                 autosize=False,\n",
    "                width=1000,\n",
    "                height=600\n",
    "                 )"
   ]
  },
  {
   "cell_type": "code",
   "execution_count": 210,
   "id": "044d94ed-e24e-4cde-8f78-734e35b94e16",
   "metadata": {},
   "outputs": [
    {
     "data": {
      "application/vnd.plotly.v1+json": {
       "config": {
        "plotlyServerURL": "https://plot.ly"
       },
       "data": [
        {
         "alignmentgroup": "True",
         "hoverinfo": "all",
         "hovertemplate": "Year=%{x}<br>Inflation, consumer prices (annual %)=%{y}<extra></extra>",
         "legendgroup": "",
         "marker": {
          "color": "#636efa",
          "pattern": {
           "shape": ""
          }
         },
         "name": "",
         "offsetgroup": "",
         "orientation": "v",
         "showlegend": false,
         "textposition": "auto",
         "type": "bar",
         "x": [
          2008,
          2009,
          2010,
          2011,
          2012,
          2013,
          2014,
          2015,
          2016,
          2017,
          2018
         ],
         "xaxis": "x",
         "y": [
          2.42604117060158,
          -0.480481936423275,
          0.688238707220026,
          0.2313492076509,
          -0.692552018105253,
          -0.217323155115693,
          -0.0132025387514939,
          -1.14390867228183,
          -0.434618664285835,
          0.533787839825897,
          0.936335464113563
         ],
         "yaxis": "y"
        }
       ],
       "layout": {
        "autosize": true,
        "barmode": "relative",
        "legend": {
         "tracegroupgap": 0
        },
        "template": {
         "data": {
          "bar": [
           {
            "error_x": {
             "color": "#2a3f5f"
            },
            "error_y": {
             "color": "#2a3f5f"
            },
            "marker": {
             "line": {
              "color": "#E5ECF6",
              "width": 0.5
             },
             "pattern": {
              "fillmode": "overlay",
              "size": 10,
              "solidity": 0.2
             }
            },
            "type": "bar"
           }
          ],
          "barpolar": [
           {
            "marker": {
             "line": {
              "color": "#E5ECF6",
              "width": 0.5
             },
             "pattern": {
              "fillmode": "overlay",
              "size": 10,
              "solidity": 0.2
             }
            },
            "type": "barpolar"
           }
          ],
          "carpet": [
           {
            "aaxis": {
             "endlinecolor": "#2a3f5f",
             "gridcolor": "white",
             "linecolor": "white",
             "minorgridcolor": "white",
             "startlinecolor": "#2a3f5f"
            },
            "baxis": {
             "endlinecolor": "#2a3f5f",
             "gridcolor": "white",
             "linecolor": "white",
             "minorgridcolor": "white",
             "startlinecolor": "#2a3f5f"
            },
            "type": "carpet"
           }
          ],
          "choropleth": [
           {
            "colorbar": {
             "outlinewidth": 0,
             "ticks": ""
            },
            "type": "choropleth"
           }
          ],
          "contour": [
           {
            "colorbar": {
             "outlinewidth": 0,
             "ticks": ""
            },
            "colorscale": [
             [
              0,
              "#0d0887"
             ],
             [
              0.1111111111111111,
              "#46039f"
             ],
             [
              0.2222222222222222,
              "#7201a8"
             ],
             [
              0.3333333333333333,
              "#9c179e"
             ],
             [
              0.4444444444444444,
              "#bd3786"
             ],
             [
              0.5555555555555556,
              "#d8576b"
             ],
             [
              0.6666666666666666,
              "#ed7953"
             ],
             [
              0.7777777777777778,
              "#fb9f3a"
             ],
             [
              0.8888888888888888,
              "#fdca26"
             ],
             [
              1,
              "#f0f921"
             ]
            ],
            "type": "contour"
           }
          ],
          "contourcarpet": [
           {
            "colorbar": {
             "outlinewidth": 0,
             "ticks": ""
            },
            "type": "contourcarpet"
           }
          ],
          "heatmap": [
           {
            "colorbar": {
             "outlinewidth": 0,
             "ticks": ""
            },
            "colorscale": [
             [
              0,
              "#0d0887"
             ],
             [
              0.1111111111111111,
              "#46039f"
             ],
             [
              0.2222222222222222,
              "#7201a8"
             ],
             [
              0.3333333333333333,
              "#9c179e"
             ],
             [
              0.4444444444444444,
              "#bd3786"
             ],
             [
              0.5555555555555556,
              "#d8576b"
             ],
             [
              0.6666666666666666,
              "#ed7953"
             ],
             [
              0.7777777777777778,
              "#fb9f3a"
             ],
             [
              0.8888888888888888,
              "#fdca26"
             ],
             [
              1,
              "#f0f921"
             ]
            ],
            "type": "heatmap"
           }
          ],
          "heatmapgl": [
           {
            "colorbar": {
             "outlinewidth": 0,
             "ticks": ""
            },
            "colorscale": [
             [
              0,
              "#0d0887"
             ],
             [
              0.1111111111111111,
              "#46039f"
             ],
             [
              0.2222222222222222,
              "#7201a8"
             ],
             [
              0.3333333333333333,
              "#9c179e"
             ],
             [
              0.4444444444444444,
              "#bd3786"
             ],
             [
              0.5555555555555556,
              "#d8576b"
             ],
             [
              0.6666666666666666,
              "#ed7953"
             ],
             [
              0.7777777777777778,
              "#fb9f3a"
             ],
             [
              0.8888888888888888,
              "#fdca26"
             ],
             [
              1,
              "#f0f921"
             ]
            ],
            "type": "heatmapgl"
           }
          ],
          "histogram": [
           {
            "marker": {
             "pattern": {
              "fillmode": "overlay",
              "size": 10,
              "solidity": 0.2
             }
            },
            "type": "histogram"
           }
          ],
          "histogram2d": [
           {
            "colorbar": {
             "outlinewidth": 0,
             "ticks": ""
            },
            "colorscale": [
             [
              0,
              "#0d0887"
             ],
             [
              0.1111111111111111,
              "#46039f"
             ],
             [
              0.2222222222222222,
              "#7201a8"
             ],
             [
              0.3333333333333333,
              "#9c179e"
             ],
             [
              0.4444444444444444,
              "#bd3786"
             ],
             [
              0.5555555555555556,
              "#d8576b"
             ],
             [
              0.6666666666666666,
              "#ed7953"
             ],
             [
              0.7777777777777778,
              "#fb9f3a"
             ],
             [
              0.8888888888888888,
              "#fdca26"
             ],
             [
              1,
              "#f0f921"
             ]
            ],
            "type": "histogram2d"
           }
          ],
          "histogram2dcontour": [
           {
            "colorbar": {
             "outlinewidth": 0,
             "ticks": ""
            },
            "colorscale": [
             [
              0,
              "#0d0887"
             ],
             [
              0.1111111111111111,
              "#46039f"
             ],
             [
              0.2222222222222222,
              "#7201a8"
             ],
             [
              0.3333333333333333,
              "#9c179e"
             ],
             [
              0.4444444444444444,
              "#bd3786"
             ],
             [
              0.5555555555555556,
              "#d8576b"
             ],
             [
              0.6666666666666666,
              "#ed7953"
             ],
             [
              0.7777777777777778,
              "#fb9f3a"
             ],
             [
              0.8888888888888888,
              "#fdca26"
             ],
             [
              1,
              "#f0f921"
             ]
            ],
            "type": "histogram2dcontour"
           }
          ],
          "mesh3d": [
           {
            "colorbar": {
             "outlinewidth": 0,
             "ticks": ""
            },
            "type": "mesh3d"
           }
          ],
          "parcoords": [
           {
            "line": {
             "colorbar": {
              "outlinewidth": 0,
              "ticks": ""
             }
            },
            "type": "parcoords"
           }
          ],
          "pie": [
           {
            "automargin": true,
            "type": "pie"
           }
          ],
          "scatter": [
           {
            "fillpattern": {
             "fillmode": "overlay",
             "size": 10,
             "solidity": 0.2
            },
            "type": "scatter"
           }
          ],
          "scatter3d": [
           {
            "line": {
             "colorbar": {
              "outlinewidth": 0,
              "ticks": ""
             }
            },
            "marker": {
             "colorbar": {
              "outlinewidth": 0,
              "ticks": ""
             }
            },
            "type": "scatter3d"
           }
          ],
          "scattercarpet": [
           {
            "marker": {
             "colorbar": {
              "outlinewidth": 0,
              "ticks": ""
             }
            },
            "type": "scattercarpet"
           }
          ],
          "scattergeo": [
           {
            "marker": {
             "colorbar": {
              "outlinewidth": 0,
              "ticks": ""
             }
            },
            "type": "scattergeo"
           }
          ],
          "scattergl": [
           {
            "marker": {
             "colorbar": {
              "outlinewidth": 0,
              "ticks": ""
             }
            },
            "type": "scattergl"
           }
          ],
          "scattermapbox": [
           {
            "marker": {
             "colorbar": {
              "outlinewidth": 0,
              "ticks": ""
             }
            },
            "type": "scattermapbox"
           }
          ],
          "scatterpolar": [
           {
            "marker": {
             "colorbar": {
              "outlinewidth": 0,
              "ticks": ""
             }
            },
            "type": "scatterpolar"
           }
          ],
          "scatterpolargl": [
           {
            "marker": {
             "colorbar": {
              "outlinewidth": 0,
              "ticks": ""
             }
            },
            "type": "scatterpolargl"
           }
          ],
          "scatterternary": [
           {
            "marker": {
             "colorbar": {
              "outlinewidth": 0,
              "ticks": ""
             }
            },
            "type": "scatterternary"
           }
          ],
          "surface": [
           {
            "colorbar": {
             "outlinewidth": 0,
             "ticks": ""
            },
            "colorscale": [
             [
              0,
              "#0d0887"
             ],
             [
              0.1111111111111111,
              "#46039f"
             ],
             [
              0.2222222222222222,
              "#7201a8"
             ],
             [
              0.3333333333333333,
              "#9c179e"
             ],
             [
              0.4444444444444444,
              "#bd3786"
             ],
             [
              0.5555555555555556,
              "#d8576b"
             ],
             [
              0.6666666666666666,
              "#ed7953"
             ],
             [
              0.7777777777777778,
              "#fb9f3a"
             ],
             [
              0.8888888888888888,
              "#fdca26"
             ],
             [
              1,
              "#f0f921"
             ]
            ],
            "type": "surface"
           }
          ],
          "table": [
           {
            "cells": {
             "fill": {
              "color": "#EBF0F8"
             },
             "line": {
              "color": "white"
             }
            },
            "header": {
             "fill": {
              "color": "#C8D4E3"
             },
             "line": {
              "color": "white"
             }
            },
            "type": "table"
           }
          ]
         },
         "layout": {
          "annotationdefaults": {
           "arrowcolor": "#2a3f5f",
           "arrowhead": 0,
           "arrowwidth": 1
          },
          "autotypenumbers": "strict",
          "coloraxis": {
           "colorbar": {
            "outlinewidth": 0,
            "ticks": ""
           }
          },
          "colorscale": {
           "diverging": [
            [
             0,
             "#8e0152"
            ],
            [
             0.1,
             "#c51b7d"
            ],
            [
             0.2,
             "#de77ae"
            ],
            [
             0.3,
             "#f1b6da"
            ],
            [
             0.4,
             "#fde0ef"
            ],
            [
             0.5,
             "#f7f7f7"
            ],
            [
             0.6,
             "#e6f5d0"
            ],
            [
             0.7,
             "#b8e186"
            ],
            [
             0.8,
             "#7fbc41"
            ],
            [
             0.9,
             "#4d9221"
            ],
            [
             1,
             "#276419"
            ]
           ],
           "sequential": [
            [
             0,
             "#0d0887"
            ],
            [
             0.1111111111111111,
             "#46039f"
            ],
            [
             0.2222222222222222,
             "#7201a8"
            ],
            [
             0.3333333333333333,
             "#9c179e"
            ],
            [
             0.4444444444444444,
             "#bd3786"
            ],
            [
             0.5555555555555556,
             "#d8576b"
            ],
            [
             0.6666666666666666,
             "#ed7953"
            ],
            [
             0.7777777777777778,
             "#fb9f3a"
            ],
            [
             0.8888888888888888,
             "#fdca26"
            ],
            [
             1,
             "#f0f921"
            ]
           ],
           "sequentialminus": [
            [
             0,
             "#0d0887"
            ],
            [
             0.1111111111111111,
             "#46039f"
            ],
            [
             0.2222222222222222,
             "#7201a8"
            ],
            [
             0.3333333333333333,
             "#9c179e"
            ],
            [
             0.4444444444444444,
             "#bd3786"
            ],
            [
             0.5555555555555556,
             "#d8576b"
            ],
            [
             0.6666666666666666,
             "#ed7953"
            ],
            [
             0.7777777777777778,
             "#fb9f3a"
            ],
            [
             0.8888888888888888,
             "#fdca26"
            ],
            [
             1,
             "#f0f921"
            ]
           ]
          },
          "colorway": [
           "#636efa",
           "#EF553B",
           "#00cc96",
           "#ab63fa",
           "#FFA15A",
           "#19d3f3",
           "#FF6692",
           "#B6E880",
           "#FF97FF",
           "#FECB52"
          ],
          "font": {
           "color": "#2a3f5f"
          },
          "geo": {
           "bgcolor": "white",
           "lakecolor": "white",
           "landcolor": "#E5ECF6",
           "showlakes": true,
           "showland": true,
           "subunitcolor": "white"
          },
          "hoverlabel": {
           "align": "left"
          },
          "hovermode": "closest",
          "mapbox": {
           "style": "light"
          },
          "paper_bgcolor": "white",
          "plot_bgcolor": "#E5ECF6",
          "polar": {
           "angularaxis": {
            "gridcolor": "white",
            "linecolor": "white",
            "ticks": ""
           },
           "bgcolor": "#E5ECF6",
           "radialaxis": {
            "gridcolor": "white",
            "linecolor": "white",
            "ticks": ""
           }
          },
          "scene": {
           "xaxis": {
            "backgroundcolor": "#E5ECF6",
            "gridcolor": "white",
            "gridwidth": 2,
            "linecolor": "white",
            "showbackground": true,
            "ticks": "",
            "zerolinecolor": "white"
           },
           "yaxis": {
            "backgroundcolor": "#E5ECF6",
            "gridcolor": "white",
            "gridwidth": 2,
            "linecolor": "white",
            "showbackground": true,
            "ticks": "",
            "zerolinecolor": "white"
           },
           "zaxis": {
            "backgroundcolor": "#E5ECF6",
            "gridcolor": "white",
            "gridwidth": 2,
            "linecolor": "white",
            "showbackground": true,
            "ticks": "",
            "zerolinecolor": "white"
           }
          },
          "shapedefaults": {
           "line": {
            "color": "#2a3f5f"
           }
          },
          "ternary": {
           "aaxis": {
            "gridcolor": "white",
            "linecolor": "white",
            "ticks": ""
           },
           "baxis": {
            "gridcolor": "white",
            "linecolor": "white",
            "ticks": ""
           },
           "bgcolor": "#E5ECF6",
           "caxis": {
            "gridcolor": "white",
            "linecolor": "white",
            "ticks": ""
           }
          },
          "title": {
           "x": 0.05
          },
          "xaxis": {
           "automargin": true,
           "gridcolor": "white",
           "linecolor": "white",
           "ticks": "",
           "title": {
            "standoff": 15
           },
           "zerolinecolor": "white",
           "zerolinewidth": 2
          },
          "yaxis": {
           "automargin": true,
           "gridcolor": "white",
           "linecolor": "white",
           "ticks": "",
           "title": {
            "standoff": 15
           },
           "zerolinecolor": "white",
           "zerolinewidth": 2
          }
         }
        },
        "title": {
         "text": "Inflation, consumer prices (annual %)"
        },
        "xaxis": {
         "anchor": "y",
         "autorange": true,
         "domain": [
          0,
          1
         ],
         "range": [
          2007.5,
          2018.5
         ],
         "title": {
          "text": "Year"
         },
         "type": "linear"
        },
        "yaxis": {
         "anchor": "x",
         "autorange": true,
         "domain": [
          0,
          1
         ],
         "range": [
          -1.342239219108686,
          2.6243717174284362
         ],
         "title": {
          "text": "Inflation, consumer prices (annual %)"
         },
         "type": "linear"
        }
       }
      },
      "image/png": "[encoded data removed]",
      "text/html": [
       "<div>                            <div id=\"c6ca0c54-fbea-44de-a4ac-d42206d70136\" class=\"plotly-graph-div\" style=\"height:525px; width:100%;\"></div>            <script type=\"text/javascript\">                require([\"plotly\"], function(Plotly) {                    window.PLOTLYENV=window.PLOTLYENV || {};                                    if (document.getElementById(\"c6ca0c54-fbea-44de-a4ac-d42206d70136\")) {                    Plotly.newPlot(                        \"c6ca0c54-fbea-44de-a4ac-d42206d70136\",                        [{\"alignmentgroup\":\"True\",\"hovertemplate\":\"Year=%{x}\\u003cbr\\u003eInflation, consumer prices (annual %)=%{y}\\u003cextra\\u003e\\u003c\\u002fextra\\u003e\",\"legendgroup\":\"\",\"marker\":{\"color\":\"#636efa\",\"pattern\":{\"shape\":\"\"}},\"name\":\"\",\"offsetgroup\":\"\",\"orientation\":\"v\",\"showlegend\":false,\"textposition\":\"auto\",\"x\":[2008,2009,2010,2011,2012,2013,2014,2015,2016,2017,2018],\"xaxis\":\"x\",\"y\":[2.42604117060158,-0.480481936423275,0.688238707220026,0.2313492076509,-0.692552018105253,-0.217323155115693,-0.0132025387514939,-1.14390867228183,-0.434618664285835,0.533787839825897,0.936335464113563],\"yaxis\":\"y\",\"type\":\"bar\",\"hoverinfo\":\"all\"}],                        {\"template\":{\"data\":{\"histogram2dcontour\":[{\"type\":\"histogram2dcontour\",\"colorbar\":{\"outlinewidth\":0,\"ticks\":\"\"},\"colorscale\":[[0.0,\"#0d0887\"],[0.1111111111111111,\"#46039f\"],[0.2222222222222222,\"#7201a8\"],[0.3333333333333333,\"#9c179e\"],[0.4444444444444444,\"#bd3786\"],[0.5555555555555556,\"#d8576b\"],[0.6666666666666666,\"#ed7953\"],[0.7777777777777778,\"#fb9f3a\"],[0.8888888888888888,\"#fdca26\"],[1.0,\"#f0f921\"]]}],\"choropleth\":[{\"type\":\"choropleth\",\"colorbar\":{\"outlinewidth\":0,\"ticks\":\"\"}}],\"histogram2d\":[{\"type\":\"histogram2d\",\"colorbar\":{\"outlinewidth\":0,\"ticks\":\"\"},\"colorscale\":[[0.0,\"#0d0887\"],[0.1111111111111111,\"#46039f\"],[0.2222222222222222,\"#7201a8\"],[0.3333333333333333,\"#9c179e\"],[0.4444444444444444,\"#bd3786\"],[0.5555555555555556,\"#d8576b\"],[0.6666666666666666,\"#ed7953\"],[0.7777777777777778,\"#fb9f3a\"],[0.8888888888888888,\"#fdca26\"],[1.0,\"#f0f921\"]]}],\"heatmap\":[{\"type\":\"heatmap\",\"colorbar\":{\"outlinewidth\":0,\"ticks\":\"\"},\"colorscale\":[[0.0,\"#0d0887\"],[0.1111111111111111,\"#46039f\"],[0.2222222222222222,\"#7201a8\"],[0.3333333333333333,\"#9c179e\"],[0.4444444444444444,\"#bd3786\"],[0.5555555555555556,\"#d8576b\"],[0.6666666666666666,\"#ed7953\"],[0.7777777777777778,\"#fb9f3a\"],[0.8888888888888888,\"#fdca26\"],[1.0,\"#f0f921\"]]}],\"heatmapgl\":[{\"type\":\"heatmapgl\",\"colorbar\":{\"outlinewidth\":0,\"ticks\":\"\"},\"colorscale\":[[0.0,\"#0d0887\"],[0.1111111111111111,\"#46039f\"],[0.2222222222222222,\"#7201a8\"],[0.3333333333333333,\"#9c179e\"],[0.4444444444444444,\"#bd3786\"],[0.5555555555555556,\"#d8576b\"],[0.6666666666666666,\"#ed7953\"],[0.7777777777777778,\"#fb9f3a\"],[0.8888888888888888,\"#fdca26\"],[1.0,\"#f0f921\"]]}],\"contourcarpet\":[{\"type\":\"contourcarpet\",\"colorbar\":{\"outlinewidth\":0,\"ticks\":\"\"}}],\"contour\":[{\"type\":\"contour\",\"colorbar\":{\"outlinewidth\":0,\"ticks\":\"\"},\"colorscale\":[[0.0,\"#0d0887\"],[0.1111111111111111,\"#46039f\"],[0.2222222222222222,\"#7201a8\"],[0.3333333333333333,\"#9c179e\"],[0.4444444444444444,\"#bd3786\"],[0.5555555555555556,\"#d8576b\"],[0.6666666666666666,\"#ed7953\"],[0.7777777777777778,\"#fb9f3a\"],[0.8888888888888888,\"#fdca26\"],[1.0,\"#f0f921\"]]}],\"surface\":[{\"type\":\"surface\",\"colorbar\":{\"outlinewidth\":0,\"ticks\":\"\"},\"colorscale\":[[0.0,\"#0d0887\"],[0.1111111111111111,\"#46039f\"],[0.2222222222222222,\"#7201a8\"],[0.3333333333333333,\"#9c179e\"],[0.4444444444444444,\"#bd3786\"],[0.5555555555555556,\"#d8576b\"],[0.6666666666666666,\"#ed7953\"],[0.7777777777777778,\"#fb9f3a\"],[0.8888888888888888,\"#fdca26\"],[1.0,\"#f0f921\"]]}],\"mesh3d\":[{\"type\":\"mesh3d\",\"colorbar\":{\"outlinewidth\":0,\"ticks\":\"\"}}],\"scatter\":[{\"fillpattern\":{\"fillmode\":\"overlay\",\"size\":10,\"solidity\":0.2},\"type\":\"scatter\"}],\"parcoords\":[{\"type\":\"parcoords\",\"line\":{\"colorbar\":{\"outlinewidth\":0,\"ticks\":\"\"}}}],\"scatterpolargl\":[{\"type\":\"scatterpolargl\",\"marker\":{\"colorbar\":{\"outlinewidth\":0,\"ticks\":\"\"}}}],\"bar\":[{\"error_x\":{\"color\":\"#2a3f5f\"},\"error_y\":{\"color\":\"#2a3f5f\"},\"marker\":{\"line\":{\"color\":\"#E5ECF6\",\"width\":0.5},\"pattern\":{\"fillmode\":\"overlay\",\"size\":10,\"solidity\":0.2}},\"type\":\"bar\"}],\"scattergeo\":[{\"type\":\"scattergeo\",\"marker\":{\"colorbar\":{\"outlinewidth\":0,\"ticks\":\"\"}}}],\"scatterpolar\":[{\"type\":\"scatterpolar\",\"marker\":{\"colorbar\":{\"outlinewidth\":0,\"ticks\":\"\"}}}],\"histogram\":[{\"marker\":{\"pattern\":{\"fillmode\":\"overlay\",\"size\":10,\"solidity\":0.2}},\"type\":\"histogram\"}],\"scattergl\":[{\"type\":\"scattergl\",\"marker\":{\"colorbar\":{\"outlinewidth\":0,\"ticks\":\"\"}}}],\"scatter3d\":[{\"type\":\"scatter3d\",\"line\":{\"colorbar\":{\"outlinewidth\":0,\"ticks\":\"\"}},\"marker\":{\"colorbar\":{\"outlinewidth\":0,\"ticks\":\"\"}}}],\"scattermapbox\":[{\"type\":\"scattermapbox\",\"marker\":{\"colorbar\":{\"outlinewidth\":0,\"ticks\":\"\"}}}],\"scatterternary\":[{\"type\":\"scatterternary\",\"marker\":{\"colorbar\":{\"outlinewidth\":0,\"ticks\":\"\"}}}],\"scattercarpet\":[{\"type\":\"scattercarpet\",\"marker\":{\"colorbar\":{\"outlinewidth\":0,\"ticks\":\"\"}}}],\"carpet\":[{\"aaxis\":{\"endlinecolor\":\"#2a3f5f\",\"gridcolor\":\"white\",\"linecolor\":\"white\",\"minorgridcolor\":\"white\",\"startlinecolor\":\"#2a3f5f\"},\"baxis\":{\"endlinecolor\":\"#2a3f5f\",\"gridcolor\":\"white\",\"linecolor\":\"white\",\"minorgridcolor\":\"white\",\"startlinecolor\":\"#2a3f5f\"},\"type\":\"carpet\"}],\"table\":[{\"cells\":{\"fill\":{\"color\":\"#EBF0F8\"},\"line\":{\"color\":\"white\"}},\"header\":{\"fill\":{\"color\":\"#C8D4E3\"},\"line\":{\"color\":\"white\"}},\"type\":\"table\"}],\"barpolar\":[{\"marker\":{\"line\":{\"color\":\"#E5ECF6\",\"width\":0.5},\"pattern\":{\"fillmode\":\"overlay\",\"size\":10,\"solidity\":0.2}},\"type\":\"barpolar\"}],\"pie\":[{\"automargin\":true,\"type\":\"pie\"}]},\"layout\":{\"autotypenumbers\":\"strict\",\"colorway\":[\"#636efa\",\"#EF553B\",\"#00cc96\",\"#ab63fa\",\"#FFA15A\",\"#19d3f3\",\"#FF6692\",\"#B6E880\",\"#FF97FF\",\"#FECB52\"],\"font\":{\"color\":\"#2a3f5f\"},\"hovermode\":\"closest\",\"hoverlabel\":{\"align\":\"left\"},\"paper_bgcolor\":\"white\",\"plot_bgcolor\":\"#E5ECF6\",\"polar\":{\"bgcolor\":\"#E5ECF6\",\"angularaxis\":{\"gridcolor\":\"white\",\"linecolor\":\"white\",\"ticks\":\"\"},\"radialaxis\":{\"gridcolor\":\"white\",\"linecolor\":\"white\",\"ticks\":\"\"}},\"ternary\":{\"bgcolor\":\"#E5ECF6\",\"aaxis\":{\"gridcolor\":\"white\",\"linecolor\":\"white\",\"ticks\":\"\"},\"baxis\":{\"gridcolor\":\"white\",\"linecolor\":\"white\",\"ticks\":\"\"},\"caxis\":{\"gridcolor\":\"white\",\"linecolor\":\"white\",\"ticks\":\"\"}},\"coloraxis\":{\"colorbar\":{\"outlinewidth\":0,\"ticks\":\"\"}},\"colorscale\":{\"sequential\":[[0.0,\"#0d0887\"],[0.1111111111111111,\"#46039f\"],[0.2222222222222222,\"#7201a8\"],[0.3333333333333333,\"#9c179e\"],[0.4444444444444444,\"#bd3786\"],[0.5555555555555556,\"#d8576b\"],[0.6666666666666666,\"#ed7953\"],[0.7777777777777778,\"#fb9f3a\"],[0.8888888888888888,\"#fdca26\"],[1.0,\"#f0f921\"]],\"sequentialminus\":[[0.0,\"#0d0887\"],[0.1111111111111111,\"#46039f\"],[0.2222222222222222,\"#7201a8\"],[0.3333333333333333,\"#9c179e\"],[0.4444444444444444,\"#bd3786\"],[0.5555555555555556,\"#d8576b\"],[0.6666666666666666,\"#ed7953\"],[0.7777777777777778,\"#fb9f3a\"],[0.8888888888888888,\"#fdca26\"],[1.0,\"#f0f921\"]],\"diverging\":[[0,\"#8e0152\"],[0.1,\"#c51b7d\"],[0.2,\"#de77ae\"],[0.3,\"#f1b6da\"],[0.4,\"#fde0ef\"],[0.5,\"#f7f7f7\"],[0.6,\"#e6f5d0\"],[0.7,\"#b8e186\"],[0.8,\"#7fbc41\"],[0.9,\"#4d9221\"],[1,\"#276419\"]]},\"xaxis\":{\"gridcolor\":\"white\",\"linecolor\":\"white\",\"ticks\":\"\",\"title\":{\"standoff\":15},\"zerolinecolor\":\"white\",\"automargin\":true,\"zerolinewidth\":2},\"yaxis\":{\"gridcolor\":\"white\",\"linecolor\":\"white\",\"ticks\":\"\",\"title\":{\"standoff\":15},\"zerolinecolor\":\"white\",\"automargin\":true,\"zerolinewidth\":2},\"scene\":{\"xaxis\":{\"backgroundcolor\":\"#E5ECF6\",\"gridcolor\":\"white\",\"linecolor\":\"white\",\"showbackground\":true,\"ticks\":\"\",\"zerolinecolor\":\"white\",\"gridwidth\":2},\"yaxis\":{\"backgroundcolor\":\"#E5ECF6\",\"gridcolor\":\"white\",\"linecolor\":\"white\",\"showbackground\":true,\"ticks\":\"\",\"zerolinecolor\":\"white\",\"gridwidth\":2},\"zaxis\":{\"backgroundcolor\":\"#E5ECF6\",\"gridcolor\":\"white\",\"linecolor\":\"white\",\"showbackground\":true,\"ticks\":\"\",\"zerolinecolor\":\"white\",\"gridwidth\":2}},\"shapedefaults\":{\"line\":{\"color\":\"#2a3f5f\"}},\"annotationdefaults\":{\"arrowcolor\":\"#2a3f5f\",\"arrowhead\":0,\"arrowwidth\":1},\"geo\":{\"bgcolor\":\"white\",\"landcolor\":\"#E5ECF6\",\"subunitcolor\":\"white\",\"showland\":true,\"showlakes\":true,\"lakecolor\":\"white\"},\"title\":{\"x\":0.05},\"mapbox\":{\"style\":\"light\"}}},\"xaxis\":{\"anchor\":\"y\",\"domain\":[0.0,1.0],\"title\":{\"text\":\"Year\"}},\"yaxis\":{\"anchor\":\"x\",\"domain\":[0.0,1.0],\"title\":{\"text\":\"Inflation, consumer prices (annual %)\"}},\"legend\":{\"tracegroupgap\":0},\"title\":{\"text\":\"Inflation, consumer prices (annual %)\"},\"barmode\":\"relative\"},                        {\"responsive\": true}                    ).then(function(){\n",
       "                            \n",
       "var gd = document.getElementById('c6ca0c54-fbea-44de-a4ac-d42206d70136');\n",
       "var x = new MutationObserver(function (mutations, observer) {{\n",
       "        var display = window.getComputedStyle(gd).display;\n",
       "        if (!display || display === 'none') {{\n",
       "            console.log([gd, 'removed!']);\n",
       "            Plotly.purge(gd);\n",
       "            observer.disconnect();\n",
       "        }}\n",
       "}});\n",
       "\n",
       "// Listen for the removal of the full notebook cells\n",
       "var notebookContainer = gd.closest('#notebook-container');\n",
       "if (notebookContainer) {{\n",
       "    x.observe(notebookContainer, {childList: true});\n",
       "}}\n",
       "\n",
       "// Listen for the clearing of the current output cell\n",
       "var outputEl = gd.closest('.output');\n",
       "if (outputEl) {{\n",
       "    x.observe(outputEl, {childList: true});\n",
       "}}\n",
       "\n",
       "                        })                };                });            </script>        </div>"
      ]
     },
     "metadata": {},
     "output_type": "display_data"
    }
   ],
   "source": [
    "var='Inflation, consumer prices (annual %)'\n",
    "fig = go.Figure()\n",
    "fig = px.bar(df_swi, x=df_swi['Year'], y=var,\n",
    "            title=var, orientation='v')\n",
    "fig.update_traces(hoverinfo='all')\n"
   ]
  },
  {
   "cell_type": "code",
   "execution_count": 203,
   "id": "b5837f45-56f1-4595-9e4f-e929b91785e2",
   "metadata": {},
   "outputs": [
    {
     "data": {
      "application/vnd.plotly.v1+json": {
       "config": {
        "plotlyServerURL": "https://plot.ly"
       },
       "data": [
        {
         "hoverinfo": "all",
         "mode": "lines+markers",
         "name": "Gini index",
         "type": "scatter",
         "x": [
          2008,
          2009,
          2010,
          2011,
          2012,
          2013,
          2014,
          2015,
          2016,
          2017,
          2018
         ],
         "y": [
          33.8,
          32.9,
          32.6,
          31.7,
          31.6,
          32.5,
          32.5,
          32.3,
          33,
          32.7,
          33.1
         ]
        },
        {
         "hoverinfo": "all",
         "mode": "lines+markers",
         "name": "Age dependency ratio, old (% of working-age population)",
         "type": "scatter",
         "x": [
          2008,
          2009,
          2010,
          2011,
          2012,
          2013,
          2014,
          2015,
          2016,
          2017,
          2018
         ],
         "y": [
          24.02089859269872,
          24.33923271749771,
          24.6744541619628,
          25.04873171002241,
          25.481321144318457,
          25.869419269131665,
          26.226272291970137,
          26.551378367847494,
          26.843479686204407,
          27.17258850834472,
          27.5540630207264
         ]
        },
        {
         "hoverinfo": "all",
         "mode": "lines+markers",
         "name": "Age dependency ratio, young (% of working-age population)",
         "type": "scatter",
         "x": [
          2008,
          2009,
          2010,
          2011,
          2012,
          2013,
          2014,
          2015,
          2016,
          2017,
          2018
         ],
         "y": [
          22.624277864534598,
          22.399992875109383,
          22.28546841508125,
          22.20530110185588,
          22.110928845161467,
          22.07065522626326,
          22.077148250554963,
          22.097875163929025,
          22.179668780812758,
          22.32920131950386,
          22.500244529371283
         ]
        }
       ],
       "layout": {
        "autosize": false,
        "height": 600,
        "template": {
         "data": {
          "bar": [
           {
            "error_x": {
             "color": "#2a3f5f"
            },
            "error_y": {
             "color": "#2a3f5f"
            },
            "marker": {
             "line": {
              "color": "#E5ECF6",
              "width": 0.5
             },
             "pattern": {
              "fillmode": "overlay",
              "size": 10,
              "solidity": 0.2
             }
            },
            "type": "bar"
           }
          ],
          "barpolar": [
           {
            "marker": {
             "line": {
              "color": "#E5ECF6",
              "width": 0.5
             },
             "pattern": {
              "fillmode": "overlay",
              "size": 10,
              "solidity": 0.2
             }
            },
            "type": "barpolar"
           }
          ],
          "carpet": [
           {
            "aaxis": {
             "endlinecolor": "#2a3f5f",
             "gridcolor": "white",
             "linecolor": "white",
             "minorgridcolor": "white",
             "startlinecolor": "#2a3f5f"
            },
            "baxis": {
             "endlinecolor": "#2a3f5f",
             "gridcolor": "white",
             "linecolor": "white",
             "minorgridcolor": "white",
             "startlinecolor": "#2a3f5f"
            },
            "type": "carpet"
           }
          ],
          "choropleth": [
           {
            "colorbar": {
             "outlinewidth": 0,
             "ticks": ""
            },
            "type": "choropleth"
           }
          ],
          "contour": [
           {
            "colorbar": {
             "outlinewidth": 0,
             "ticks": ""
            },
            "colorscale": [
             [
              0,
              "#0d0887"
             ],
             [
              0.1111111111111111,
              "#46039f"
             ],
             [
              0.2222222222222222,
              "#7201a8"
             ],
             [
              0.3333333333333333,
              "#9c179e"
             ],
             [
              0.4444444444444444,
              "#bd3786"
             ],
             [
              0.5555555555555556,
              "#d8576b"
             ],
             [
              0.6666666666666666,
              "#ed7953"
             ],
             [
              0.7777777777777778,
              "#fb9f3a"
             ],
             [
              0.8888888888888888,
              "#fdca26"
             ],
             [
              1,
              "#f0f921"
             ]
            ],
            "type": "contour"
           }
          ],
          "contourcarpet": [
           {
            "colorbar": {
             "outlinewidth": 0,
             "ticks": ""
            },
            "type": "contourcarpet"
           }
          ],
          "heatmap": [
           {
            "colorbar": {
             "outlinewidth": 0,
             "ticks": ""
            },
            "colorscale": [
             [
              0,
              "#0d0887"
             ],
             [
              0.1111111111111111,
              "#46039f"
             ],
             [
              0.2222222222222222,
              "#7201a8"
             ],
             [
              0.3333333333333333,
              "#9c179e"
             ],
             [
              0.4444444444444444,
              "#bd3786"
             ],
             [
              0.5555555555555556,
              "#d8576b"
             ],
             [
              0.6666666666666666,
              "#ed7953"
             ],
             [
              0.7777777777777778,
              "#fb9f3a"
             ],
             [
              0.8888888888888888,
              "#fdca26"
             ],
             [
              1,
              "#f0f921"
             ]
            ],
            "type": "heatmap"
           }
          ],
          "heatmapgl": [
           {
            "colorbar": {
             "outlinewidth": 0,
             "ticks": ""
            },
            "colorscale": [
             [
              0,
              "#0d0887"
             ],
             [
              0.1111111111111111,
              "#46039f"
             ],
             [
              0.2222222222222222,
              "#7201a8"
             ],
             [
              0.3333333333333333,
              "#9c179e"
             ],
             [
              0.4444444444444444,
              "#bd3786"
             ],
             [
              0.5555555555555556,
              "#d8576b"
             ],
             [
              0.6666666666666666,
              "#ed7953"
             ],
             [
              0.7777777777777778,
              "#fb9f3a"
             ],
             [
              0.8888888888888888,
              "#fdca26"
             ],
             [
              1,
              "#f0f921"
             ]
            ],
            "type": "heatmapgl"
           }
          ],
          "histogram": [
           {
            "marker": {
             "pattern": {
              "fillmode": "overlay",
              "size": 10,
              "solidity": 0.2
             }
            },
            "type": "histogram"
           }
          ],
          "histogram2d": [
           {
            "colorbar": {
             "outlinewidth": 0,
             "ticks": ""
            },
            "colorscale": [
             [
              0,
              "#0d0887"
             ],
             [
              0.1111111111111111,
              "#46039f"
             ],
             [
              0.2222222222222222,
              "#7201a8"
             ],
             [
              0.3333333333333333,
              "#9c179e"
             ],
             [
              0.4444444444444444,
              "#bd3786"
             ],
             [
              0.5555555555555556,
              "#d8576b"
             ],
             [
              0.6666666666666666,
              "#ed7953"
             ],
             [
              0.7777777777777778,
              "#fb9f3a"
             ],
             [
              0.8888888888888888,
              "#fdca26"
             ],
             [
              1,
              "#f0f921"
             ]
            ],
            "type": "histogram2d"
           }
          ],
          "histogram2dcontour": [
           {
            "colorbar": {
             "outlinewidth": 0,
             "ticks": ""
            },
            "colorscale": [
             [
              0,
              "#0d0887"
             ],
             [
              0.1111111111111111,
              "#46039f"
             ],
             [
              0.2222222222222222,
              "#7201a8"
             ],
             [
              0.3333333333333333,
              "#9c179e"
             ],
             [
              0.4444444444444444,
              "#bd3786"
             ],
             [
              0.5555555555555556,
              "#d8576b"
             ],
             [
              0.6666666666666666,
              "#ed7953"
             ],
             [
              0.7777777777777778,
              "#fb9f3a"
             ],
             [
              0.8888888888888888,
              "#fdca26"
             ],
             [
              1,
              "#f0f921"
             ]
            ],
            "type": "histogram2dcontour"
           }
          ],
          "mesh3d": [
           {
            "colorbar": {
             "outlinewidth": 0,
             "ticks": ""
            },
            "type": "mesh3d"
           }
          ],
          "parcoords": [
           {
            "line": {
             "colorbar": {
              "outlinewidth": 0,
              "ticks": ""
             }
            },
            "type": "parcoords"
           }
          ],
          "pie": [
           {
            "automargin": true,
            "type": "pie"
           }
          ],
          "scatter": [
           {
            "fillpattern": {
             "fillmode": "overlay",
             "size": 10,
             "solidity": 0.2
            },
            "type": "scatter"
           }
          ],
          "scatter3d": [
           {
            "line": {
             "colorbar": {
              "outlinewidth": 0,
              "ticks": ""
             }
            },
            "marker": {
             "colorbar": {
              "outlinewidth": 0,
              "ticks": ""
             }
            },
            "type": "scatter3d"
           }
          ],
          "scattercarpet": [
           {
            "marker": {
             "colorbar": {
              "outlinewidth": 0,
              "ticks": ""
             }
            },
            "type": "scattercarpet"
           }
          ],
          "scattergeo": [
           {
            "marker": {
             "colorbar": {
              "outlinewidth": 0,
              "ticks": ""
             }
            },
            "type": "scattergeo"
           }
          ],
          "scattergl": [
           {
            "marker": {
             "colorbar": {
              "outlinewidth": 0,
              "ticks": ""
             }
            },
            "type": "scattergl"
           }
          ],
          "scattermapbox": [
           {
            "marker": {
             "colorbar": {
              "outlinewidth": 0,
              "ticks": ""
             }
            },
            "type": "scattermapbox"
           }
          ],
          "scatterpolar": [
           {
            "marker": {
             "colorbar": {
              "outlinewidth": 0,
              "ticks": ""
             }
            },
            "type": "scatterpolar"
           }
          ],
          "scatterpolargl": [
           {
            "marker": {
             "colorbar": {
              "outlinewidth": 0,
              "ticks": ""
             }
            },
            "type": "scatterpolargl"
           }
          ],
          "scatterternary": [
           {
            "marker": {
             "colorbar": {
              "outlinewidth": 0,
              "ticks": ""
             }
            },
            "type": "scatterternary"
           }
          ],
          "surface": [
           {
            "colorbar": {
             "outlinewidth": 0,
             "ticks": ""
            },
            "colorscale": [
             [
              0,
              "#0d0887"
             ],
             [
              0.1111111111111111,
              "#46039f"
             ],
             [
              0.2222222222222222,
              "#7201a8"
             ],
             [
              0.3333333333333333,
              "#9c179e"
             ],
             [
              0.4444444444444444,
              "#bd3786"
             ],
             [
              0.5555555555555556,
              "#d8576b"
             ],
             [
              0.6666666666666666,
              "#ed7953"
             ],
             [
              0.7777777777777778,
              "#fb9f3a"
             ],
             [
              0.8888888888888888,
              "#fdca26"
             ],
             [
              1,
              "#f0f921"
             ]
            ],
            "type": "surface"
           }
          ],
          "table": [
           {
            "cells": {
             "fill": {
              "color": "#EBF0F8"
             },
             "line": {
              "color": "white"
             }
            },
            "header": {
             "fill": {
              "color": "#C8D4E3"
             },
             "line": {
              "color": "white"
             }
            },
            "type": "table"
           }
          ]
         },
         "layout": {
          "annotationdefaults": {
           "arrowcolor": "#2a3f5f",
           "arrowhead": 0,
           "arrowwidth": 1
          },
          "autotypenumbers": "strict",
          "coloraxis": {
           "colorbar": {
            "outlinewidth": 0,
            "ticks": ""
           }
          },
          "colorscale": {
           "diverging": [
            [
             0,
             "#8e0152"
            ],
            [
             0.1,
             "#c51b7d"
            ],
            [
             0.2,
             "#de77ae"
            ],
            [
             0.3,
             "#f1b6da"
            ],
            [
             0.4,
             "#fde0ef"
            ],
            [
             0.5,
             "#f7f7f7"
            ],
            [
             0.6,
             "#e6f5d0"
            ],
            [
             0.7,
             "#b8e186"
            ],
            [
             0.8,
             "#7fbc41"
            ],
            [
             0.9,
             "#4d9221"
            ],
            [
             1,
             "#276419"
            ]
           ],
           "sequential": [
            [
             0,
             "#0d0887"
            ],
            [
             0.1111111111111111,
             "#46039f"
            ],
            [
             0.2222222222222222,
             "#7201a8"
            ],
            [
             0.3333333333333333,
             "#9c179e"
            ],
            [
             0.4444444444444444,
             "#bd3786"
            ],
            [
             0.5555555555555556,
             "#d8576b"
            ],
            [
             0.6666666666666666,
             "#ed7953"
            ],
            [
             0.7777777777777778,
             "#fb9f3a"
            ],
            [
             0.8888888888888888,
             "#fdca26"
            ],
            [
             1,
             "#f0f921"
            ]
           ],
           "sequentialminus": [
            [
             0,
             "#0d0887"
            ],
            [
             0.1111111111111111,
             "#46039f"
            ],
            [
             0.2222222222222222,
             "#7201a8"
            ],
            [
             0.3333333333333333,
             "#9c179e"
            ],
            [
             0.4444444444444444,
             "#bd3786"
            ],
            [
             0.5555555555555556,
             "#d8576b"
            ],
            [
             0.6666666666666666,
             "#ed7953"
            ],
            [
             0.7777777777777778,
             "#fb9f3a"
            ],
            [
             0.8888888888888888,
             "#fdca26"
            ],
            [
             1,
             "#f0f921"
            ]
           ]
          },
          "colorway": [
           "#636efa",
           "#EF553B",
           "#00cc96",
           "#ab63fa",
           "#FFA15A",
           "#19d3f3",
           "#FF6692",
           "#B6E880",
           "#FF97FF",
           "#FECB52"
          ],
          "font": {
           "color": "#2a3f5f"
          },
          "geo": {
           "bgcolor": "white",
           "lakecolor": "white",
           "landcolor": "#E5ECF6",
           "showlakes": true,
           "showland": true,
           "subunitcolor": "white"
          },
          "hoverlabel": {
           "align": "left"
          },
          "hovermode": "closest",
          "mapbox": {
           "style": "light"
          },
          "paper_bgcolor": "white",
          "plot_bgcolor": "#E5ECF6",
          "polar": {
           "angularaxis": {
            "gridcolor": "white",
            "linecolor": "white",
            "ticks": ""
           },
           "bgcolor": "#E5ECF6",
           "radialaxis": {
            "gridcolor": "white",
            "linecolor": "white",
            "ticks": ""
           }
          },
          "scene": {
           "xaxis": {
            "backgroundcolor": "#E5ECF6",
            "gridcolor": "white",
            "gridwidth": 2,
            "linecolor": "white",
            "showbackground": true,
            "ticks": "",
            "zerolinecolor": "white"
           },
           "yaxis": {
            "backgroundcolor": "#E5ECF6",
            "gridcolor": "white",
            "gridwidth": 2,
            "linecolor": "white",
            "showbackground": true,
            "ticks": "",
            "zerolinecolor": "white"
           },
           "zaxis": {
            "backgroundcolor": "#E5ECF6",
            "gridcolor": "white",
            "gridwidth": 2,
            "linecolor": "white",
            "showbackground": true,
            "ticks": "",
            "zerolinecolor": "white"
           }
          },
          "shapedefaults": {
           "line": {
            "color": "#2a3f5f"
           }
          },
          "ternary": {
           "aaxis": {
            "gridcolor": "white",
            "linecolor": "white",
            "ticks": ""
           },
           "baxis": {
            "gridcolor": "white",
            "linecolor": "white",
            "ticks": ""
           },
           "bgcolor": "#E5ECF6",
           "caxis": {
            "gridcolor": "white",
            "linecolor": "white",
            "ticks": ""
           }
          },
          "title": {
           "x": 0.05
          },
          "xaxis": {
           "automargin": true,
           "gridcolor": "white",
           "linecolor": "white",
           "ticks": "",
           "title": {
            "standoff": 15
           },
           "zerolinecolor": "white",
           "zerolinewidth": 2
          },
          "yaxis": {
           "automargin": true,
           "gridcolor": "white",
           "linecolor": "white",
           "ticks": "",
           "title": {
            "standoff": 15
           },
           "zerolinecolor": "white",
           "zerolinewidth": 2
          }
         }
        },
        "title": {
         "text": "Development Indicators"
        },
        "width": 1200,
        "xaxis": {
         "autorange": true,
         "range": [
          2007.3756194251735,
          2018.6243805748265
         ],
         "title": {
          "text": "Year"
         },
         "type": "linear"
        },
        "yaxis": {
         "autorange": true,
         "range": [
          21.287116000487323,
          34.58353922577594
         ],
         "title": {
          "text": ""
         },
         "type": "linear"
        }
       }
      },
      "image/png": "[encoded data removed]",
      "text/html": [
       "<div>                            <div id=\"f75b4413-12fe-4da5-8015-b9235176043c\" class=\"plotly-graph-div\" style=\"height:600px; width:1200px;\"></div>            <script type=\"text/javascript\">                require([\"plotly\"], function(Plotly) {                    window.PLOTLYENV=window.PLOTLYENV || {};                                    if (document.getElementById(\"f75b4413-12fe-4da5-8015-b9235176043c\")) {                    Plotly.newPlot(                        \"f75b4413-12fe-4da5-8015-b9235176043c\",                        [{\"name\":\"Gini index\",\"x\":[2008,2009,2010,2011,2012,2013,2014,2015,2016,2017,2018],\"y\":[33.8,32.9,32.6,31.7,31.6,32.5,32.5,32.3,33.0,32.7,33.1],\"type\":\"scatter\",\"hoverinfo\":\"all\",\"mode\":\"lines+markers\"},{\"name\":\"Age dependency ratio, old (% of working-age population)\",\"x\":[2008,2009,2010,2011,2012,2013,2014,2015,2016,2017,2018],\"y\":[24.02089859269872,24.33923271749771,24.6744541619628,25.04873171002241,25.481321144318457,25.869419269131665,26.226272291970137,26.551378367847494,26.843479686204407,27.17258850834472,27.5540630207264],\"type\":\"scatter\",\"hoverinfo\":\"all\",\"mode\":\"lines+markers\"},{\"name\":\"Age dependency ratio, young (% of working-age population)\",\"x\":[2008,2009,2010,2011,2012,2013,2014,2015,2016,2017,2018],\"y\":[22.624277864534598,22.399992875109383,22.28546841508125,22.20530110185588,22.110928845161467,22.07065522626326,22.077148250554963,22.097875163929025,22.179668780812758,22.32920131950386,22.500244529371283],\"type\":\"scatter\",\"hoverinfo\":\"all\",\"mode\":\"lines+markers\"}],                        {\"template\":{\"data\":{\"histogram2dcontour\":[{\"type\":\"histogram2dcontour\",\"colorbar\":{\"outlinewidth\":0,\"ticks\":\"\"},\"colorscale\":[[0.0,\"#0d0887\"],[0.1111111111111111,\"#46039f\"],[0.2222222222222222,\"#7201a8\"],[0.3333333333333333,\"#9c179e\"],[0.4444444444444444,\"#bd3786\"],[0.5555555555555556,\"#d8576b\"],[0.6666666666666666,\"#ed7953\"],[0.7777777777777778,\"#fb9f3a\"],[0.8888888888888888,\"#fdca26\"],[1.0,\"#f0f921\"]]}],\"choropleth\":[{\"type\":\"choropleth\",\"colorbar\":{\"outlinewidth\":0,\"ticks\":\"\"}}],\"histogram2d\":[{\"type\":\"histogram2d\",\"colorbar\":{\"outlinewidth\":0,\"ticks\":\"\"},\"colorscale\":[[0.0,\"#0d0887\"],[0.1111111111111111,\"#46039f\"],[0.2222222222222222,\"#7201a8\"],[0.3333333333333333,\"#9c179e\"],[0.4444444444444444,\"#bd3786\"],[0.5555555555555556,\"#d8576b\"],[0.6666666666666666,\"#ed7953\"],[0.7777777777777778,\"#fb9f3a\"],[0.8888888888888888,\"#fdca26\"],[1.0,\"#f0f921\"]]}],\"heatmap\":[{\"type\":\"heatmap\",\"colorbar\":{\"outlinewidth\":0,\"ticks\":\"\"},\"colorscale\":[[0.0,\"#0d0887\"],[0.1111111111111111,\"#46039f\"],[0.2222222222222222,\"#7201a8\"],[0.3333333333333333,\"#9c179e\"],[0.4444444444444444,\"#bd3786\"],[0.5555555555555556,\"#d8576b\"],[0.6666666666666666,\"#ed7953\"],[0.7777777777777778,\"#fb9f3a\"],[0.8888888888888888,\"#fdca26\"],[1.0,\"#f0f921\"]]}],\"heatmapgl\":[{\"type\":\"heatmapgl\",\"colorbar\":{\"outlinewidth\":0,\"ticks\":\"\"},\"colorscale\":[[0.0,\"#0d0887\"],[0.1111111111111111,\"#46039f\"],[0.2222222222222222,\"#7201a8\"],[0.3333333333333333,\"#9c179e\"],[0.4444444444444444,\"#bd3786\"],[0.5555555555555556,\"#d8576b\"],[0.6666666666666666,\"#ed7953\"],[0.7777777777777778,\"#fb9f3a\"],[0.8888888888888888,\"#fdca26\"],[1.0,\"#f0f921\"]]}],\"contourcarpet\":[{\"type\":\"contourcarpet\",\"colorbar\":{\"outlinewidth\":0,\"ticks\":\"\"}}],\"contour\":[{\"type\":\"contour\",\"colorbar\":{\"outlinewidth\":0,\"ticks\":\"\"},\"colorscale\":[[0.0,\"#0d0887\"],[0.1111111111111111,\"#46039f\"],[0.2222222222222222,\"#7201a8\"],[0.3333333333333333,\"#9c179e\"],[0.4444444444444444,\"#bd3786\"],[0.5555555555555556,\"#d8576b\"],[0.6666666666666666,\"#ed7953\"],[0.7777777777777778,\"#fb9f3a\"],[0.8888888888888888,\"#fdca26\"],[1.0,\"#f0f921\"]]}],\"surface\":[{\"type\":\"surface\",\"colorbar\":{\"outlinewidth\":0,\"ticks\":\"\"},\"colorscale\":[[0.0,\"#0d0887\"],[0.1111111111111111,\"#46039f\"],[0.2222222222222222,\"#7201a8\"],[0.3333333333333333,\"#9c179e\"],[0.4444444444444444,\"#bd3786\"],[0.5555555555555556,\"#d8576b\"],[0.6666666666666666,\"#ed7953\"],[0.7777777777777778,\"#fb9f3a\"],[0.8888888888888888,\"#fdca26\"],[1.0,\"#f0f921\"]]}],\"mesh3d\":[{\"type\":\"mesh3d\",\"colorbar\":{\"outlinewidth\":0,\"ticks\":\"\"}}],\"scatter\":[{\"fillpattern\":{\"fillmode\":\"overlay\",\"size\":10,\"solidity\":0.2},\"type\":\"scatter\"}],\"parcoords\":[{\"type\":\"parcoords\",\"line\":{\"colorbar\":{\"outlinewidth\":0,\"ticks\":\"\"}}}],\"scatterpolargl\":[{\"type\":\"scatterpolargl\",\"marker\":{\"colorbar\":{\"outlinewidth\":0,\"ticks\":\"\"}}}],\"bar\":[{\"error_x\":{\"color\":\"#2a3f5f\"},\"error_y\":{\"color\":\"#2a3f5f\"},\"marker\":{\"line\":{\"color\":\"#E5ECF6\",\"width\":0.5},\"pattern\":{\"fillmode\":\"overlay\",\"size\":10,\"solidity\":0.2}},\"type\":\"bar\"}],\"scattergeo\":[{\"type\":\"scattergeo\",\"marker\":{\"colorbar\":{\"outlinewidth\":0,\"ticks\":\"\"}}}],\"scatterpolar\":[{\"type\":\"scatterpolar\",\"marker\":{\"colorbar\":{\"outlinewidth\":0,\"ticks\":\"\"}}}],\"histogram\":[{\"marker\":{\"pattern\":{\"fillmode\":\"overlay\",\"size\":10,\"solidity\":0.2}},\"type\":\"histogram\"}],\"scattergl\":[{\"type\":\"scattergl\",\"marker\":{\"colorbar\":{\"outlinewidth\":0,\"ticks\":\"\"}}}],\"scatter3d\":[{\"type\":\"scatter3d\",\"line\":{\"colorbar\":{\"outlinewidth\":0,\"ticks\":\"\"}},\"marker\":{\"colorbar\":{\"outlinewidth\":0,\"ticks\":\"\"}}}],\"scattermapbox\":[{\"type\":\"scattermapbox\",\"marker\":{\"colorbar\":{\"outlinewidth\":0,\"ticks\":\"\"}}}],\"scatterternary\":[{\"type\":\"scatterternary\",\"marker\":{\"colorbar\":{\"outlinewidth\":0,\"ticks\":\"\"}}}],\"scattercarpet\":[{\"type\":\"scattercarpet\",\"marker\":{\"colorbar\":{\"outlinewidth\":0,\"ticks\":\"\"}}}],\"carpet\":[{\"aaxis\":{\"endlinecolor\":\"#2a3f5f\",\"gridcolor\":\"white\",\"linecolor\":\"white\",\"minorgridcolor\":\"white\",\"startlinecolor\":\"#2a3f5f\"},\"baxis\":{\"endlinecolor\":\"#2a3f5f\",\"gridcolor\":\"white\",\"linecolor\":\"white\",\"minorgridcolor\":\"white\",\"startlinecolor\":\"#2a3f5f\"},\"type\":\"carpet\"}],\"table\":[{\"cells\":{\"fill\":{\"color\":\"#EBF0F8\"},\"line\":{\"color\":\"white\"}},\"header\":{\"fill\":{\"color\":\"#C8D4E3\"},\"line\":{\"color\":\"white\"}},\"type\":\"table\"}],\"barpolar\":[{\"marker\":{\"line\":{\"color\":\"#E5ECF6\",\"width\":0.5},\"pattern\":{\"fillmode\":\"overlay\",\"size\":10,\"solidity\":0.2}},\"type\":\"barpolar\"}],\"pie\":[{\"automargin\":true,\"type\":\"pie\"}]},\"layout\":{\"autotypenumbers\":\"strict\",\"colorway\":[\"#636efa\",\"#EF553B\",\"#00cc96\",\"#ab63fa\",\"#FFA15A\",\"#19d3f3\",\"#FF6692\",\"#B6E880\",\"#FF97FF\",\"#FECB52\"],\"font\":{\"color\":\"#2a3f5f\"},\"hovermode\":\"closest\",\"hoverlabel\":{\"align\":\"left\"},\"paper_bgcolor\":\"white\",\"plot_bgcolor\":\"#E5ECF6\",\"polar\":{\"bgcolor\":\"#E5ECF6\",\"angularaxis\":{\"gridcolor\":\"white\",\"linecolor\":\"white\",\"ticks\":\"\"},\"radialaxis\":{\"gridcolor\":\"white\",\"linecolor\":\"white\",\"ticks\":\"\"}},\"ternary\":{\"bgcolor\":\"#E5ECF6\",\"aaxis\":{\"gridcolor\":\"white\",\"linecolor\":\"white\",\"ticks\":\"\"},\"baxis\":{\"gridcolor\":\"white\",\"linecolor\":\"white\",\"ticks\":\"\"},\"caxis\":{\"gridcolor\":\"white\",\"linecolor\":\"white\",\"ticks\":\"\"}},\"coloraxis\":{\"colorbar\":{\"outlinewidth\":0,\"ticks\":\"\"}},\"colorscale\":{\"sequential\":[[0.0,\"#0d0887\"],[0.1111111111111111,\"#46039f\"],[0.2222222222222222,\"#7201a8\"],[0.3333333333333333,\"#9c179e\"],[0.4444444444444444,\"#bd3786\"],[0.5555555555555556,\"#d8576b\"],[0.6666666666666666,\"#ed7953\"],[0.7777777777777778,\"#fb9f3a\"],[0.8888888888888888,\"#fdca26\"],[1.0,\"#f0f921\"]],\"sequentialminus\":[[0.0,\"#0d0887\"],[0.1111111111111111,\"#46039f\"],[0.2222222222222222,\"#7201a8\"],[0.3333333333333333,\"#9c179e\"],[0.4444444444444444,\"#bd3786\"],[0.5555555555555556,\"#d8576b\"],[0.6666666666666666,\"#ed7953\"],[0.7777777777777778,\"#fb9f3a\"],[0.8888888888888888,\"#fdca26\"],[1.0,\"#f0f921\"]],\"diverging\":[[0,\"#8e0152\"],[0.1,\"#c51b7d\"],[0.2,\"#de77ae\"],[0.3,\"#f1b6da\"],[0.4,\"#fde0ef\"],[0.5,\"#f7f7f7\"],[0.6,\"#e6f5d0\"],[0.7,\"#b8e186\"],[0.8,\"#7fbc41\"],[0.9,\"#4d9221\"],[1,\"#276419\"]]},\"xaxis\":{\"gridcolor\":\"white\",\"linecolor\":\"white\",\"ticks\":\"\",\"title\":{\"standoff\":15},\"zerolinecolor\":\"white\",\"automargin\":true,\"zerolinewidth\":2},\"yaxis\":{\"gridcolor\":\"white\",\"linecolor\":\"white\",\"ticks\":\"\",\"title\":{\"standoff\":15},\"zerolinecolor\":\"white\",\"automargin\":true,\"zerolinewidth\":2},\"scene\":{\"xaxis\":{\"backgroundcolor\":\"#E5ECF6\",\"gridcolor\":\"white\",\"linecolor\":\"white\",\"showbackground\":true,\"ticks\":\"\",\"zerolinecolor\":\"white\",\"gridwidth\":2},\"yaxis\":{\"backgroundcolor\":\"#E5ECF6\",\"gridcolor\":\"white\",\"linecolor\":\"white\",\"showbackground\":true,\"ticks\":\"\",\"zerolinecolor\":\"white\",\"gridwidth\":2},\"zaxis\":{\"backgroundcolor\":\"#E5ECF6\",\"gridcolor\":\"white\",\"linecolor\":\"white\",\"showbackground\":true,\"ticks\":\"\",\"zerolinecolor\":\"white\",\"gridwidth\":2}},\"shapedefaults\":{\"line\":{\"color\":\"#2a3f5f\"}},\"annotationdefaults\":{\"arrowcolor\":\"#2a3f5f\",\"arrowhead\":0,\"arrowwidth\":1},\"geo\":{\"bgcolor\":\"white\",\"landcolor\":\"#E5ECF6\",\"subunitcolor\":\"white\",\"showland\":true,\"showlakes\":true,\"lakecolor\":\"white\"},\"title\":{\"x\":0.05},\"mapbox\":{\"style\":\"light\"}}},\"title\":{\"text\":\"Development Indicators\"},\"xaxis\":{\"title\":{\"text\":\"Year\"}},\"yaxis\":{\"title\":{\"text\":\"\"}},\"autosize\":false,\"width\":1200,\"height\":600},                        {\"responsive\": true}                    ).then(function(){\n",
       "                            \n",
       "var gd = document.getElementById('f75b4413-12fe-4da5-8015-b9235176043c');\n",
       "var x = new MutationObserver(function (mutations, observer) {{\n",
       "        var display = window.getComputedStyle(gd).display;\n",
       "        if (!display || display === 'none') {{\n",
       "            console.log([gd, 'removed!']);\n",
       "            Plotly.purge(gd);\n",
       "            observer.disconnect();\n",
       "        }}\n",
       "}});\n",
       "\n",
       "// Listen for the removal of the full notebook cells\n",
       "var notebookContainer = gd.closest('#notebook-container');\n",
       "if (notebookContainer) {{\n",
       "    x.observe(notebookContainer, {childList: true});\n",
       "}}\n",
       "\n",
       "// Listen for the clearing of the current output cell\n",
       "var outputEl = gd.closest('.output');\n",
       "if (outputEl) {{\n",
       "    x.observe(outputEl, {childList: true});\n",
       "}}\n",
       "\n",
       "                        })                };                });            </script>        </div>"
      ]
     },
     "metadata": {},
     "output_type": "display_data"
    }
   ],
   "source": [
    "fig = go.Figure()\n",
    "percent_variables=['Gini index','Age dependency ratio, old (% of working-age population)',\n",
    "                  'Age dependency ratio, young (% of working-age population)']\n",
    "for var in percent_variables:\n",
    "    fig.add_trace(go.Scatter(x=df_swi['Year'], y=df_swi[var],\n",
    "                name=var))\n",
    "    \n",
    "# Edit the layout\n",
    "fig.update_traces(hoverinfo='all', mode='lines+markers')\n",
    "fig.update_layout(title='Development Indicators',\n",
    "               xaxis_title='Year',\n",
    "               yaxis_title='',\n",
    "                 autosize=False,\n",
    "                width=1200,\n",
    "                height=600\n",
    "                 )"
   ]
  },
  {
   "cell_type": "code",
   "execution_count": 208,
   "id": "5f71de66-bea0-427d-89f9-1d7b2c77d6e4",
   "metadata": {},
   "outputs": [
    {
     "data": {
      "application/vnd.plotly.v1+json": {
       "config": {
        "plotlyServerURL": "https://plot.ly"
       },
       "data": [
        {
         "hoverinfo": "all",
         "mode": "lines+markers",
         "name": "Age dependency ratio, young (% change)",
         "type": "scatter",
         "x": [
          2008,
          2009,
          2010,
          2011,
          2012,
          2013,
          2014,
          2015,
          2016,
          2017,
          2018
         ],
         "y": [
          null,
          -0.9913465117788345,
          -0.5112700734623443,
          -0.35972909221472227,
          -0.42499877061574765,
          -0.18214349645931938,
          0.029419263837615617,
          0.0938840159011134,
          0.3701424516020735,
          0.6741874288964,
          0.7660068419824029
         ]
        },
        {
         "hoverinfo": "all",
         "mode": "lines+markers",
         "name": "Age dependency ratio, old (% change)",
         "type": "scatter",
         "x": [
          2008,
          2009,
          2010,
          2011,
          2012,
          2013,
          2014,
          2015,
          2016,
          2017,
          2018
         ],
         "y": [
          null,
          1.3252382027695964,
          1.3772884640858019,
          1.5168625234943667,
          1.726991367482933,
          1.523069085056994,
          1.3794396353701055,
          1.2396198447802265,
          1.1001361748911531,
          1.2260289127473012,
          1.4038946354504533
         ]
        }
       ],
       "layout": {
        "autosize": false,
        "height": 600,
        "template": {
         "data": {
          "bar": [
           {
            "error_x": {
             "color": "#2a3f5f"
            },
            "error_y": {
             "color": "#2a3f5f"
            },
            "marker": {
             "line": {
              "color": "#E5ECF6",
              "width": 0.5
             },
             "pattern": {
              "fillmode": "overlay",
              "size": 10,
              "solidity": 0.2
             }
            },
            "type": "bar"
           }
          ],
          "barpolar": [
           {
            "marker": {
             "line": {
              "color": "#E5ECF6",
              "width": 0.5
             },
             "pattern": {
              "fillmode": "overlay",
              "size": 10,
              "solidity": 0.2
             }
            },
            "type": "barpolar"
           }
          ],
          "carpet": [
           {
            "aaxis": {
             "endlinecolor": "#2a3f5f",
             "gridcolor": "white",
             "linecolor": "white",
             "minorgridcolor": "white",
             "startlinecolor": "#2a3f5f"
            },
            "baxis": {
             "endlinecolor": "#2a3f5f",
             "gridcolor": "white",
             "linecolor": "white",
             "minorgridcolor": "white",
             "startlinecolor": "#2a3f5f"
            },
            "type": "carpet"
           }
          ],
          "choropleth": [
           {
            "colorbar": {
             "outlinewidth": 0,
             "ticks": ""
            },
            "type": "choropleth"
           }
          ],
          "contour": [
           {
            "colorbar": {
             "outlinewidth": 0,
             "ticks": ""
            },
            "colorscale": [
             [
              0,
              "#0d0887"
             ],
             [
              0.1111111111111111,
              "#46039f"
             ],
             [
              0.2222222222222222,
              "#7201a8"
             ],
             [
              0.3333333333333333,
              "#9c179e"
             ],
             [
              0.4444444444444444,
              "#bd3786"
             ],
             [
              0.5555555555555556,
              "#d8576b"
             ],
             [
              0.6666666666666666,
              "#ed7953"
             ],
             [
              0.7777777777777778,
              "#fb9f3a"
             ],
             [
              0.8888888888888888,
              "#fdca26"
             ],
             [
              1,
              "#f0f921"
             ]
            ],
            "type": "contour"
           }
          ],
          "contourcarpet": [
           {
            "colorbar": {
             "outlinewidth": 0,
             "ticks": ""
            },
            "type": "contourcarpet"
           }
          ],
          "heatmap": [
           {
            "colorbar": {
             "outlinewidth": 0,
             "ticks": ""
            },
            "colorscale": [
             [
              0,
              "#0d0887"
             ],
             [
              0.1111111111111111,
              "#46039f"
             ],
             [
              0.2222222222222222,
              "#7201a8"
             ],
             [
              0.3333333333333333,
              "#9c179e"
             ],
             [
              0.4444444444444444,
              "#bd3786"
             ],
             [
              0.5555555555555556,
              "#d8576b"
             ],
             [
              0.6666666666666666,
              "#ed7953"
             ],
             [
              0.7777777777777778,
              "#fb9f3a"
             ],
             [
              0.8888888888888888,
              "#fdca26"
             ],
             [
              1,
              "#f0f921"
             ]
            ],
            "type": "heatmap"
           }
          ],
          "heatmapgl": [
           {
            "colorbar": {
             "outlinewidth": 0,
             "ticks": ""
            },
            "colorscale": [
             [
              0,
              "#0d0887"
             ],
             [
              0.1111111111111111,
              "#46039f"
             ],
             [
              0.2222222222222222,
              "#7201a8"
             ],
             [
              0.3333333333333333,
              "#9c179e"
             ],
             [
              0.4444444444444444,
              "#bd3786"
             ],
             [
              0.5555555555555556,
              "#d8576b"
             ],
             [
              0.6666666666666666,
              "#ed7953"
             ],
             [
              0.7777777777777778,
              "#fb9f3a"
             ],
             [
              0.8888888888888888,
              "#fdca26"
             ],
             [
              1,
              "#f0f921"
             ]
            ],
            "type": "heatmapgl"
           }
          ],
          "histogram": [
           {
            "marker": {
             "pattern": {
              "fillmode": "overlay",
              "size": 10,
              "solidity": 0.2
             }
            },
            "type": "histogram"
           }
          ],
          "histogram2d": [
           {
            "colorbar": {
             "outlinewidth": 0,
             "ticks": ""
            },
            "colorscale": [
             [
              0,
              "#0d0887"
             ],
             [
              0.1111111111111111,
              "#46039f"
             ],
             [
              0.2222222222222222,
              "#7201a8"
             ],
             [
              0.3333333333333333,
              "#9c179e"
             ],
             [
              0.4444444444444444,
              "#bd3786"
             ],
             [
              0.5555555555555556,
              "#d8576b"
             ],
             [
              0.6666666666666666,
              "#ed7953"
             ],
             [
              0.7777777777777778,
              "#fb9f3a"
             ],
             [
              0.8888888888888888,
              "#fdca26"
             ],
             [
              1,
              "#f0f921"
             ]
            ],
            "type": "histogram2d"
           }
          ],
          "histogram2dcontour": [
           {
            "colorbar": {
             "outlinewidth": 0,
             "ticks": ""
            },
            "colorscale": [
             [
              0,
              "#0d0887"
             ],
             [
              0.1111111111111111,
              "#46039f"
             ],
             [
              0.2222222222222222,
              "#7201a8"
             ],
             [
              0.3333333333333333,
              "#9c179e"
             ],
             [
              0.4444444444444444,
              "#bd3786"
             ],
             [
              0.5555555555555556,
              "#d8576b"
             ],
             [
              0.6666666666666666,
              "#ed7953"
             ],
             [
              0.7777777777777778,
              "#fb9f3a"
             ],
             [
              0.8888888888888888,
              "#fdca26"
             ],
             [
              1,
              "#f0f921"
             ]
            ],
            "type": "histogram2dcontour"
           }
          ],
          "mesh3d": [
           {
            "colorbar": {
             "outlinewidth": 0,
             "ticks": ""
            },
            "type": "mesh3d"
           }
          ],
          "parcoords": [
           {
            "line": {
             "colorbar": {
              "outlinewidth": 0,
              "ticks": ""
             }
            },
            "type": "parcoords"
           }
          ],
          "pie": [
           {
            "automargin": true,
            "type": "pie"
           }
          ],
          "scatter": [
           {
            "fillpattern": {
             "fillmode": "overlay",
             "size": 10,
             "solidity": 0.2
            },
            "type": "scatter"
           }
          ],
          "scatter3d": [
           {
            "line": {
             "colorbar": {
              "outlinewidth": 0,
              "ticks": ""
             }
            },
            "marker": {
             "colorbar": {
              "outlinewidth": 0,
              "ticks": ""
             }
            },
            "type": "scatter3d"
           }
          ],
          "scattercarpet": [
           {
            "marker": {
             "colorbar": {
              "outlinewidth": 0,
              "ticks": ""
             }
            },
            "type": "scattercarpet"
           }
          ],
          "scattergeo": [
           {
            "marker": {
             "colorbar": {
              "outlinewidth": 0,
              "ticks": ""
             }
            },
            "type": "scattergeo"
           }
          ],
          "scattergl": [
           {
            "marker": {
             "colorbar": {
              "outlinewidth": 0,
              "ticks": ""
             }
            },
            "type": "scattergl"
           }
          ],
          "scattermapbox": [
           {
            "marker": {
             "colorbar": {
              "outlinewidth": 0,
              "ticks": ""
             }
            },
            "type": "scattermapbox"
           }
          ],
          "scatterpolar": [
           {
            "marker": {
             "colorbar": {
              "outlinewidth": 0,
              "ticks": ""
             }
            },
            "type": "scatterpolar"
           }
          ],
          "scatterpolargl": [
           {
            "marker": {
             "colorbar": {
              "outlinewidth": 0,
              "ticks": ""
             }
            },
            "type": "scatterpolargl"
           }
          ],
          "scatterternary": [
           {
            "marker": {
             "colorbar": {
              "outlinewidth": 0,
              "ticks": ""
             }
            },
            "type": "scatterternary"
           }
          ],
          "surface": [
           {
            "colorbar": {
             "outlinewidth": 0,
             "ticks": ""
            },
            "colorscale": [
             [
              0,
              "#0d0887"
             ],
             [
              0.1111111111111111,
              "#46039f"
             ],
             [
              0.2222222222222222,
              "#7201a8"
             ],
             [
              0.3333333333333333,
              "#9c179e"
             ],
             [
              0.4444444444444444,
              "#bd3786"
             ],
             [
              0.5555555555555556,
              "#d8576b"
             ],
             [
              0.6666666666666666,
              "#ed7953"
             ],
             [
              0.7777777777777778,
              "#fb9f3a"
             ],
             [
              0.8888888888888888,
              "#fdca26"
             ],
             [
              1,
              "#f0f921"
             ]
            ],
            "type": "surface"
           }
          ],
          "table": [
           {
            "cells": {
             "fill": {
              "color": "#EBF0F8"
             },
             "line": {
              "color": "white"
             }
            },
            "header": {
             "fill": {
              "color": "#C8D4E3"
             },
             "line": {
              "color": "white"
             }
            },
            "type": "table"
           }
          ]
         },
         "layout": {
          "annotationdefaults": {
           "arrowcolor": "#2a3f5f",
           "arrowhead": 0,
           "arrowwidth": 1
          },
          "autotypenumbers": "strict",
          "coloraxis": {
           "colorbar": {
            "outlinewidth": 0,
            "ticks": ""
           }
          },
          "colorscale": {
           "diverging": [
            [
             0,
             "#8e0152"
            ],
            [
             0.1,
             "#c51b7d"
            ],
            [
             0.2,
             "#de77ae"
            ],
            [
             0.3,
             "#f1b6da"
            ],
            [
             0.4,
             "#fde0ef"
            ],
            [
             0.5,
             "#f7f7f7"
            ],
            [
             0.6,
             "#e6f5d0"
            ],
            [
             0.7,
             "#b8e186"
            ],
            [
             0.8,
             "#7fbc41"
            ],
            [
             0.9,
             "#4d9221"
            ],
            [
             1,
             "#276419"
            ]
           ],
           "sequential": [
            [
             0,
             "#0d0887"
            ],
            [
             0.1111111111111111,
             "#46039f"
            ],
            [
             0.2222222222222222,
             "#7201a8"
            ],
            [
             0.3333333333333333,
             "#9c179e"
            ],
            [
             0.4444444444444444,
             "#bd3786"
            ],
            [
             0.5555555555555556,
             "#d8576b"
            ],
            [
             0.6666666666666666,
             "#ed7953"
            ],
            [
             0.7777777777777778,
             "#fb9f3a"
            ],
            [
             0.8888888888888888,
             "#fdca26"
            ],
            [
             1,
             "#f0f921"
            ]
           ],
           "sequentialminus": [
            [
             0,
             "#0d0887"
            ],
            [
             0.1111111111111111,
             "#46039f"
            ],
            [
             0.2222222222222222,
             "#7201a8"
            ],
            [
             0.3333333333333333,
             "#9c179e"
            ],
            [
             0.4444444444444444,
             "#bd3786"
            ],
            [
             0.5555555555555556,
             "#d8576b"
            ],
            [
             0.6666666666666666,
             "#ed7953"
            ],
            [
             0.7777777777777778,
             "#fb9f3a"
            ],
            [
             0.8888888888888888,
             "#fdca26"
            ],
            [
             1,
             "#f0f921"
            ]
           ]
          },
          "colorway": [
           "#636efa",
           "#EF553B",
           "#00cc96",
           "#ab63fa",
           "#FFA15A",
           "#19d3f3",
           "#FF6692",
           "#B6E880",
           "#FF97FF",
           "#FECB52"
          ],
          "font": {
           "color": "#2a3f5f"
          },
          "geo": {
           "bgcolor": "white",
           "lakecolor": "white",
           "landcolor": "#E5ECF6",
           "showlakes": true,
           "showland": true,
           "subunitcolor": "white"
          },
          "hoverlabel": {
           "align": "left"
          },
          "hovermode": "closest",
          "mapbox": {
           "style": "light"
          },
          "paper_bgcolor": "white",
          "plot_bgcolor": "#E5ECF6",
          "polar": {
           "angularaxis": {
            "gridcolor": "white",
            "linecolor": "white",
            "ticks": ""
           },
           "bgcolor": "#E5ECF6",
           "radialaxis": {
            "gridcolor": "white",
            "linecolor": "white",
            "ticks": ""
           }
          },
          "scene": {
           "xaxis": {
            "backgroundcolor": "#E5ECF6",
            "gridcolor": "white",
            "gridwidth": 2,
            "linecolor": "white",
            "showbackground": true,
            "ticks": "",
            "zerolinecolor": "white"
           },
           "yaxis": {
            "backgroundcolor": "#E5ECF6",
            "gridcolor": "white",
            "gridwidth": 2,
            "linecolor": "white",
            "showbackground": true,
            "ticks": "",
            "zerolinecolor": "white"
           },
           "zaxis": {
            "backgroundcolor": "#E5ECF6",
            "gridcolor": "white",
            "gridwidth": 2,
            "linecolor": "white",
            "showbackground": true,
            "ticks": "",
            "zerolinecolor": "white"
           }
          },
          "shapedefaults": {
           "line": {
            "color": "#2a3f5f"
           }
          },
          "ternary": {
           "aaxis": {
            "gridcolor": "white",
            "linecolor": "white",
            "ticks": ""
           },
           "baxis": {
            "gridcolor": "white",
            "linecolor": "white",
            "ticks": ""
           },
           "bgcolor": "#E5ECF6",
           "caxis": {
            "gridcolor": "white",
            "linecolor": "white",
            "ticks": ""
           }
          },
          "title": {
           "x": 0.05
          },
          "xaxis": {
           "automargin": true,
           "gridcolor": "white",
           "linecolor": "white",
           "ticks": "",
           "title": {
            "standoff": 15
           },
           "zerolinecolor": "white",
           "zerolinewidth": 2
          },
          "yaxis": {
           "automargin": true,
           "gridcolor": "white",
           "linecolor": "white",
           "ticks": "",
           "title": {
            "standoff": 15
           },
           "zerolinecolor": "white",
           "zerolinewidth": 2
          }
         }
        },
        "title": {
         "text": "Development Indicators"
        },
        "width": 800,
        "xaxis": {
         "autorange": true,
         "range": [
          2007.3268416596104,
          2018.6731583403896
         ],
         "title": {
          "text": "Year"
         },
         "type": "linear"
        },
        "yaxis": {
         "autorange": true,
         "range": [
          -1.1729358842801267,
          1.9085807399842252
         ],
         "title": {
          "text": ""
         },
         "type": "linear"
        }
       }
      },
      "image/png": "[encoded data removed]",
      "text/html": [
       "<div>                            <div id=\"a2d3aa62-6e5e-46c5-9b2a-9de4f9ff4c75\" class=\"plotly-graph-div\" style=\"height:600px; width:800px;\"></div>            <script type=\"text/javascript\">                require([\"plotly\"], function(Plotly) {                    window.PLOTLYENV=window.PLOTLYENV || {};                                    if (document.getElementById(\"a2d3aa62-6e5e-46c5-9b2a-9de4f9ff4c75\")) {                    Plotly.newPlot(                        \"a2d3aa62-6e5e-46c5-9b2a-9de4f9ff4c75\",                        [{\"name\":\"Age dependency ratio, young (% change)\",\"x\":[2008,2009,2010,2011,2012,2013,2014,2015,2016,2017,2018],\"y\":[null,-0.9913465117788345,-0.5112700734623443,-0.35972909221472227,-0.42499877061574765,-0.18214349645931938,0.029419263837615617,0.0938840159011134,0.3701424516020735,0.6741874288964,0.7660068419824029],\"type\":\"scatter\",\"hoverinfo\":\"all\",\"mode\":\"lines+markers\"},{\"name\":\"Age dependency ratio, old (% change)\",\"x\":[2008,2009,2010,2011,2012,2013,2014,2015,2016,2017,2018],\"y\":[null,1.3252382027695964,1.3772884640858019,1.5168625234943667,1.726991367482933,1.523069085056994,1.3794396353701055,1.2396198447802265,1.1001361748911531,1.2260289127473012,1.4038946354504533],\"type\":\"scatter\",\"hoverinfo\":\"all\",\"mode\":\"lines+markers\"}],                        {\"template\":{\"data\":{\"histogram2dcontour\":[{\"type\":\"histogram2dcontour\",\"colorbar\":{\"outlinewidth\":0,\"ticks\":\"\"},\"colorscale\":[[0.0,\"#0d0887\"],[0.1111111111111111,\"#46039f\"],[0.2222222222222222,\"#7201a8\"],[0.3333333333333333,\"#9c179e\"],[0.4444444444444444,\"#bd3786\"],[0.5555555555555556,\"#d8576b\"],[0.6666666666666666,\"#ed7953\"],[0.7777777777777778,\"#fb9f3a\"],[0.8888888888888888,\"#fdca26\"],[1.0,\"#f0f921\"]]}],\"choropleth\":[{\"type\":\"choropleth\",\"colorbar\":{\"outlinewidth\":0,\"ticks\":\"\"}}],\"histogram2d\":[{\"type\":\"histogram2d\",\"colorbar\":{\"outlinewidth\":0,\"ticks\":\"\"},\"colorscale\":[[0.0,\"#0d0887\"],[0.1111111111111111,\"#46039f\"],[0.2222222222222222,\"#7201a8\"],[0.3333333333333333,\"#9c179e\"],[0.4444444444444444,\"#bd3786\"],[0.5555555555555556,\"#d8576b\"],[0.6666666666666666,\"#ed7953\"],[0.7777777777777778,\"#fb9f3a\"],[0.8888888888888888,\"#fdca26\"],[1.0,\"#f0f921\"]]}],\"heatmap\":[{\"type\":\"heatmap\",\"colorbar\":{\"outlinewidth\":0,\"ticks\":\"\"},\"colorscale\":[[0.0,\"#0d0887\"],[0.1111111111111111,\"#46039f\"],[0.2222222222222222,\"#7201a8\"],[0.3333333333333333,\"#9c179e\"],[0.4444444444444444,\"#bd3786\"],[0.5555555555555556,\"#d8576b\"],[0.6666666666666666,\"#ed7953\"],[0.7777777777777778,\"#fb9f3a\"],[0.8888888888888888,\"#fdca26\"],[1.0,\"#f0f921\"]]}],\"heatmapgl\":[{\"type\":\"heatmapgl\",\"colorbar\":{\"outlinewidth\":0,\"ticks\":\"\"},\"colorscale\":[[0.0,\"#0d0887\"],[0.1111111111111111,\"#46039f\"],[0.2222222222222222,\"#7201a8\"],[0.3333333333333333,\"#9c179e\"],[0.4444444444444444,\"#bd3786\"],[0.5555555555555556,\"#d8576b\"],[0.6666666666666666,\"#ed7953\"],[0.7777777777777778,\"#fb9f3a\"],[0.8888888888888888,\"#fdca26\"],[1.0,\"#f0f921\"]]}],\"contourcarpet\":[{\"type\":\"contourcarpet\",\"colorbar\":{\"outlinewidth\":0,\"ticks\":\"\"}}],\"contour\":[{\"type\":\"contour\",\"colorbar\":{\"outlinewidth\":0,\"ticks\":\"\"},\"colorscale\":[[0.0,\"#0d0887\"],[0.1111111111111111,\"#46039f\"],[0.2222222222222222,\"#7201a8\"],[0.3333333333333333,\"#9c179e\"],[0.4444444444444444,\"#bd3786\"],[0.5555555555555556,\"#d8576b\"],[0.6666666666666666,\"#ed7953\"],[0.7777777777777778,\"#fb9f3a\"],[0.8888888888888888,\"#fdca26\"],[1.0,\"#f0f921\"]]}],\"surface\":[{\"type\":\"surface\",\"colorbar\":{\"outlinewidth\":0,\"ticks\":\"\"},\"colorscale\":[[0.0,\"#0d0887\"],[0.1111111111111111,\"#46039f\"],[0.2222222222222222,\"#7201a8\"],[0.3333333333333333,\"#9c179e\"],[0.4444444444444444,\"#bd3786\"],[0.5555555555555556,\"#d8576b\"],[0.6666666666666666,\"#ed7953\"],[0.7777777777777778,\"#fb9f3a\"],[0.8888888888888888,\"#fdca26\"],[1.0,\"#f0f921\"]]}],\"mesh3d\":[{\"type\":\"mesh3d\",\"colorbar\":{\"outlinewidth\":0,\"ticks\":\"\"}}],\"scatter\":[{\"fillpattern\":{\"fillmode\":\"overlay\",\"size\":10,\"solidity\":0.2},\"type\":\"scatter\"}],\"parcoords\":[{\"type\":\"parcoords\",\"line\":{\"colorbar\":{\"outlinewidth\":0,\"ticks\":\"\"}}}],\"scatterpolargl\":[{\"type\":\"scatterpolargl\",\"marker\":{\"colorbar\":{\"outlinewidth\":0,\"ticks\":\"\"}}}],\"bar\":[{\"error_x\":{\"color\":\"#2a3f5f\"},\"error_y\":{\"color\":\"#2a3f5f\"},\"marker\":{\"line\":{\"color\":\"#E5ECF6\",\"width\":0.5},\"pattern\":{\"fillmode\":\"overlay\",\"size\":10,\"solidity\":0.2}},\"type\":\"bar\"}],\"scattergeo\":[{\"type\":\"scattergeo\",\"marker\":{\"colorbar\":{\"outlinewidth\":0,\"ticks\":\"\"}}}],\"scatterpolar\":[{\"type\":\"scatterpolar\",\"marker\":{\"colorbar\":{\"outlinewidth\":0,\"ticks\":\"\"}}}],\"histogram\":[{\"marker\":{\"pattern\":{\"fillmode\":\"overlay\",\"size\":10,\"solidity\":0.2}},\"type\":\"histogram\"}],\"scattergl\":[{\"type\":\"scattergl\",\"marker\":{\"colorbar\":{\"outlinewidth\":0,\"ticks\":\"\"}}}],\"scatter3d\":[{\"type\":\"scatter3d\",\"line\":{\"colorbar\":{\"outlinewidth\":0,\"ticks\":\"\"}},\"marker\":{\"colorbar\":{\"outlinewidth\":0,\"ticks\":\"\"}}}],\"scattermapbox\":[{\"type\":\"scattermapbox\",\"marker\":{\"colorbar\":{\"outlinewidth\":0,\"ticks\":\"\"}}}],\"scatterternary\":[{\"type\":\"scatterternary\",\"marker\":{\"colorbar\":{\"outlinewidth\":0,\"ticks\":\"\"}}}],\"scattercarpet\":[{\"type\":\"scattercarpet\",\"marker\":{\"colorbar\":{\"outlinewidth\":0,\"ticks\":\"\"}}}],\"carpet\":[{\"aaxis\":{\"endlinecolor\":\"#2a3f5f\",\"gridcolor\":\"white\",\"linecolor\":\"white\",\"minorgridcolor\":\"white\",\"startlinecolor\":\"#2a3f5f\"},\"baxis\":{\"endlinecolor\":\"#2a3f5f\",\"gridcolor\":\"white\",\"linecolor\":\"white\",\"minorgridcolor\":\"white\",\"startlinecolor\":\"#2a3f5f\"},\"type\":\"carpet\"}],\"table\":[{\"cells\":{\"fill\":{\"color\":\"#EBF0F8\"},\"line\":{\"color\":\"white\"}},\"header\":{\"fill\":{\"color\":\"#C8D4E3\"},\"line\":{\"color\":\"white\"}},\"type\":\"table\"}],\"barpolar\":[{\"marker\":{\"line\":{\"color\":\"#E5ECF6\",\"width\":0.5},\"pattern\":{\"fillmode\":\"overlay\",\"size\":10,\"solidity\":0.2}},\"type\":\"barpolar\"}],\"pie\":[{\"automargin\":true,\"type\":\"pie\"}]},\"layout\":{\"autotypenumbers\":\"strict\",\"colorway\":[\"#636efa\",\"#EF553B\",\"#00cc96\",\"#ab63fa\",\"#FFA15A\",\"#19d3f3\",\"#FF6692\",\"#B6E880\",\"#FF97FF\",\"#FECB52\"],\"font\":{\"color\":\"#2a3f5f\"},\"hovermode\":\"closest\",\"hoverlabel\":{\"align\":\"left\"},\"paper_bgcolor\":\"white\",\"plot_bgcolor\":\"#E5ECF6\",\"polar\":{\"bgcolor\":\"#E5ECF6\",\"angularaxis\":{\"gridcolor\":\"white\",\"linecolor\":\"white\",\"ticks\":\"\"},\"radialaxis\":{\"gridcolor\":\"white\",\"linecolor\":\"white\",\"ticks\":\"\"}},\"ternary\":{\"bgcolor\":\"#E5ECF6\",\"aaxis\":{\"gridcolor\":\"white\",\"linecolor\":\"white\",\"ticks\":\"\"},\"baxis\":{\"gridcolor\":\"white\",\"linecolor\":\"white\",\"ticks\":\"\"},\"caxis\":{\"gridcolor\":\"white\",\"linecolor\":\"white\",\"ticks\":\"\"}},\"coloraxis\":{\"colorbar\":{\"outlinewidth\":0,\"ticks\":\"\"}},\"colorscale\":{\"sequential\":[[0.0,\"#0d0887\"],[0.1111111111111111,\"#46039f\"],[0.2222222222222222,\"#7201a8\"],[0.3333333333333333,\"#9c179e\"],[0.4444444444444444,\"#bd3786\"],[0.5555555555555556,\"#d8576b\"],[0.6666666666666666,\"#ed7953\"],[0.7777777777777778,\"#fb9f3a\"],[0.8888888888888888,\"#fdca26\"],[1.0,\"#f0f921\"]],\"sequentialminus\":[[0.0,\"#0d0887\"],[0.1111111111111111,\"#46039f\"],[0.2222222222222222,\"#7201a8\"],[0.3333333333333333,\"#9c179e\"],[0.4444444444444444,\"#bd3786\"],[0.5555555555555556,\"#d8576b\"],[0.6666666666666666,\"#ed7953\"],[0.7777777777777778,\"#fb9f3a\"],[0.8888888888888888,\"#fdca26\"],[1.0,\"#f0f921\"]],\"diverging\":[[0,\"#8e0152\"],[0.1,\"#c51b7d\"],[0.2,\"#de77ae\"],[0.3,\"#f1b6da\"],[0.4,\"#fde0ef\"],[0.5,\"#f7f7f7\"],[0.6,\"#e6f5d0\"],[0.7,\"#b8e186\"],[0.8,\"#7fbc41\"],[0.9,\"#4d9221\"],[1,\"#276419\"]]},\"xaxis\":{\"gridcolor\":\"white\",\"linecolor\":\"white\",\"ticks\":\"\",\"title\":{\"standoff\":15},\"zerolinecolor\":\"white\",\"automargin\":true,\"zerolinewidth\":2},\"yaxis\":{\"gridcolor\":\"white\",\"linecolor\":\"white\",\"ticks\":\"\",\"title\":{\"standoff\":15},\"zerolinecolor\":\"white\",\"automargin\":true,\"zerolinewidth\":2},\"scene\":{\"xaxis\":{\"backgroundcolor\":\"#E5ECF6\",\"gridcolor\":\"white\",\"linecolor\":\"white\",\"showbackground\":true,\"ticks\":\"\",\"zerolinecolor\":\"white\",\"gridwidth\":2},\"yaxis\":{\"backgroundcolor\":\"#E5ECF6\",\"gridcolor\":\"white\",\"linecolor\":\"white\",\"showbackground\":true,\"ticks\":\"\",\"zerolinecolor\":\"white\",\"gridwidth\":2},\"zaxis\":{\"backgroundcolor\":\"#E5ECF6\",\"gridcolor\":\"white\",\"linecolor\":\"white\",\"showbackground\":true,\"ticks\":\"\",\"zerolinecolor\":\"white\",\"gridwidth\":2}},\"shapedefaults\":{\"line\":{\"color\":\"#2a3f5f\"}},\"annotationdefaults\":{\"arrowcolor\":\"#2a3f5f\",\"arrowhead\":0,\"arrowwidth\":1},\"geo\":{\"bgcolor\":\"white\",\"landcolor\":\"#E5ECF6\",\"subunitcolor\":\"white\",\"showland\":true,\"showlakes\":true,\"lakecolor\":\"white\"},\"title\":{\"x\":0.05},\"mapbox\":{\"style\":\"light\"}}},\"title\":{\"text\":\"Development Indicators\"},\"xaxis\":{\"title\":{\"text\":\"Year\"}},\"yaxis\":{\"title\":{\"text\":\"\"}},\"autosize\":false,\"width\":800,\"height\":600},                        {\"responsive\": true}                    ).then(function(){\n",
       "                            \n",
       "var gd = document.getElementById('a2d3aa62-6e5e-46c5-9b2a-9de4f9ff4c75');\n",
       "var x = new MutationObserver(function (mutations, observer) {{\n",
       "        var display = window.getComputedStyle(gd).display;\n",
       "        if (!display || display === 'none') {{\n",
       "            console.log([gd, 'removed!']);\n",
       "            Plotly.purge(gd);\n",
       "            observer.disconnect();\n",
       "        }}\n",
       "}});\n",
       "\n",
       "// Listen for the removal of the full notebook cells\n",
       "var notebookContainer = gd.closest('#notebook-container');\n",
       "if (notebookContainer) {{\n",
       "    x.observe(notebookContainer, {childList: true});\n",
       "}}\n",
       "\n",
       "// Listen for the clearing of the current output cell\n",
       "var outputEl = gd.closest('.output');\n",
       "if (outputEl) {{\n",
       "    x.observe(outputEl, {childList: true});\n",
       "}}\n",
       "\n",
       "                        })                };                });            </script>        </div>"
      ]
     },
     "metadata": {},
     "output_type": "display_data"
    }
   ],
   "source": [
    "fig = go.Figure()\n",
    "percent_variables=['Age dependency ratio, young (% change)','Age dependency ratio, old (% change)',\n",
    "                  ]\n",
    "for var in percent_variables:\n",
    "    fig.add_trace(go.Scatter(x=df_swi['Year'], y=df_swi[var],\n",
    "                name=var))\n",
    "    \n",
    "# Edit the layout\n",
    "fig.update_traces(hoverinfo='all', mode='lines+markers')\n",
    "fig.update_layout(title='Development Indicators',\n",
    "               xaxis_title='Year',\n",
    "               yaxis_title='',\n",
    "                 autosize=False,\n",
    "                width=800,\n",
    "                height=600\n",
    "                 )"
   ]
  },
  {
   "cell_type": "code",
   "execution_count": 164,
   "id": "4be40516-e048-4db5-a710-13be377712c8",
   "metadata": {},
   "outputs": [
    {
     "data": {
      "application/vnd.plotly.v1+json": {
       "config": {
        "plotlyServerURL": "https://plot.ly"
       },
       "data": [
        {
         "name": "Age dependency ratio, young",
         "orientation": "h",
         "type": "bar",
         "x": [
          22.624277864534598,
          22.399992875109383,
          22.28546841508125,
          22.20530110185588,
          22.110928845161467,
          22.07065522626326,
          22.077148250554963,
          22.097875163929025,
          22.179668780812758,
          22.32920131950386,
          22.500244529371283
         ],
         "y": [
          2008,
          2009,
          2010,
          2011,
          2012,
          2013,
          2014,
          2015,
          2016,
          2017,
          2018
         ]
        },
        {
         "name": "Age dependency ratio, middle",
         "orientation": "h",
         "type": "bar",
         "x": [
          53.35482354276668,
          53.26077440739291,
          53.040077422955946,
          52.74596718812171,
          52.407750010520076,
          52.059925504605076,
          51.6965794574749,
          51.35074646822348,
          50.976851532982835,
          50.49821017215142,
          49.94569244990232
         ],
         "y": [
          2008,
          2009,
          2010,
          2011,
          2012,
          2013,
          2014,
          2015,
          2016,
          2017,
          2018
         ]
        },
        {
         "name": "Age dependency ratio, old",
         "orientation": "h",
         "type": "bar",
         "x": [
          24.02089859269872,
          24.33923271749771,
          24.6744541619628,
          25.04873171002241,
          25.481321144318457,
          25.869419269131665,
          26.226272291970137,
          26.551378367847494,
          26.843479686204407,
          27.17258850834472,
          27.5540630207264
         ],
         "y": [
          2008,
          2009,
          2010,
          2011,
          2012,
          2013,
          2014,
          2015,
          2016,
          2017,
          2018
         ]
        }
       ],
       "layout": {
        "autosize": false,
        "barmode": "stack",
        "height": 500,
        "template": {
         "data": {
          "bar": [
           {
            "error_x": {
             "color": "#2a3f5f"
            },
            "error_y": {
             "color": "#2a3f5f"
            },
            "marker": {
             "line": {
              "color": "#E5ECF6",
              "width": 0.5
             },
             "pattern": {
              "fillmode": "overlay",
              "size": 10,
              "solidity": 0.2
             }
            },
            "type": "bar"
           }
          ],
          "barpolar": [
           {
            "marker": {
             "line": {
              "color": "#E5ECF6",
              "width": 0.5
             },
             "pattern": {
              "fillmode": "overlay",
              "size": 10,
              "solidity": 0.2
             }
            },
            "type": "barpolar"
           }
          ],
          "carpet": [
           {
            "aaxis": {
             "endlinecolor": "#2a3f5f",
             "gridcolor": "white",
             "linecolor": "white",
             "minorgridcolor": "white",
             "startlinecolor": "#2a3f5f"
            },
            "baxis": {
             "endlinecolor": "#2a3f5f",
             "gridcolor": "white",
             "linecolor": "white",
             "minorgridcolor": "white",
             "startlinecolor": "#2a3f5f"
            },
            "type": "carpet"
           }
          ],
          "choropleth": [
           {
            "colorbar": {
             "outlinewidth": 0,
             "ticks": ""
            },
            "type": "choropleth"
           }
          ],
          "contour": [
           {
            "colorbar": {
             "outlinewidth": 0,
             "ticks": ""
            },
            "colorscale": [
             [
              0,
              "#0d0887"
             ],
             [
              0.1111111111111111,
              "#46039f"
             ],
             [
              0.2222222222222222,
              "#7201a8"
             ],
             [
              0.3333333333333333,
              "#9c179e"
             ],
             [
              0.4444444444444444,
              "#bd3786"
             ],
             [
              0.5555555555555556,
              "#d8576b"
             ],
             [
              0.6666666666666666,
              "#ed7953"
             ],
             [
              0.7777777777777778,
              "#fb9f3a"
             ],
             [
              0.8888888888888888,
              "#fdca26"
             ],
             [
              1,
              "#f0f921"
             ]
            ],
            "type": "contour"
           }
          ],
          "contourcarpet": [
           {
            "colorbar": {
             "outlinewidth": 0,
             "ticks": ""
            },
            "type": "contourcarpet"
           }
          ],
          "heatmap": [
           {
            "colorbar": {
             "outlinewidth": 0,
             "ticks": ""
            },
            "colorscale": [
             [
              0,
              "#0d0887"
             ],
             [
              0.1111111111111111,
              "#46039f"
             ],
             [
              0.2222222222222222,
              "#7201a8"
             ],
             [
              0.3333333333333333,
              "#9c179e"
             ],
             [
              0.4444444444444444,
              "#bd3786"
             ],
             [
              0.5555555555555556,
              "#d8576b"
             ],
             [
              0.6666666666666666,
              "#ed7953"
             ],
             [
              0.7777777777777778,
              "#fb9f3a"
             ],
             [
              0.8888888888888888,
              "#fdca26"
             ],
             [
              1,
              "#f0f921"
             ]
            ],
            "type": "heatmap"
           }
          ],
          "heatmapgl": [
           {
            "colorbar": {
             "outlinewidth": 0,
             "ticks": ""
            },
            "colorscale": [
             [
              0,
              "#0d0887"
             ],
             [
              0.1111111111111111,
              "#46039f"
             ],
             [
              0.2222222222222222,
              "#7201a8"
             ],
             [
              0.3333333333333333,
              "#9c179e"
             ],
             [
              0.4444444444444444,
              "#bd3786"
             ],
             [
              0.5555555555555556,
              "#d8576b"
             ],
             [
              0.6666666666666666,
              "#ed7953"
             ],
             [
              0.7777777777777778,
              "#fb9f3a"
             ],
             [
              0.8888888888888888,
              "#fdca26"
             ],
             [
              1,
              "#f0f921"
             ]
            ],
            "type": "heatmapgl"
           }
          ],
          "histogram": [
           {
            "marker": {
             "pattern": {
              "fillmode": "overlay",
              "size": 10,
              "solidity": 0.2
             }
            },
            "type": "histogram"
           }
          ],
          "histogram2d": [
           {
            "colorbar": {
             "outlinewidth": 0,
             "ticks": ""
            },
            "colorscale": [
             [
              0,
              "#0d0887"
             ],
             [
              0.1111111111111111,
              "#46039f"
             ],
             [
              0.2222222222222222,
              "#7201a8"
             ],
             [
              0.3333333333333333,
              "#9c179e"
             ],
             [
              0.4444444444444444,
              "#bd3786"
             ],
             [
              0.5555555555555556,
              "#d8576b"
             ],
             [
              0.6666666666666666,
              "#ed7953"
             ],
             [
              0.7777777777777778,
              "#fb9f3a"
             ],
             [
              0.8888888888888888,
              "#fdca26"
             ],
             [
              1,
              "#f0f921"
             ]
            ],
            "type": "histogram2d"
           }
          ],
          "histogram2dcontour": [
           {
            "colorbar": {
             "outlinewidth": 0,
             "ticks": ""
            },
            "colorscale": [
             [
              0,
              "#0d0887"
             ],
             [
              0.1111111111111111,
              "#46039f"
             ],
             [
              0.2222222222222222,
              "#7201a8"
             ],
             [
              0.3333333333333333,
              "#9c179e"
             ],
             [
              0.4444444444444444,
              "#bd3786"
             ],
             [
              0.5555555555555556,
              "#d8576b"
             ],
             [
              0.6666666666666666,
              "#ed7953"
             ],
             [
              0.7777777777777778,
              "#fb9f3a"
             ],
             [
              0.8888888888888888,
              "#fdca26"
             ],
             [
              1,
              "#f0f921"
             ]
            ],
            "type": "histogram2dcontour"
           }
          ],
          "mesh3d": [
           {
            "colorbar": {
             "outlinewidth": 0,
             "ticks": ""
            },
            "type": "mesh3d"
           }
          ],
          "parcoords": [
           {
            "line": {
             "colorbar": {
              "outlinewidth": 0,
              "ticks": ""
             }
            },
            "type": "parcoords"
           }
          ],
          "pie": [
           {
            "automargin": true,
            "type": "pie"
           }
          ],
          "scatter": [
           {
            "fillpattern": {
             "fillmode": "overlay",
             "size": 10,
             "solidity": 0.2
            },
            "type": "scatter"
           }
          ],
          "scatter3d": [
           {
            "line": {
             "colorbar": {
              "outlinewidth": 0,
              "ticks": ""
             }
            },
            "marker": {
             "colorbar": {
              "outlinewidth": 0,
              "ticks": ""
             }
            },
            "type": "scatter3d"
           }
          ],
          "scattercarpet": [
           {
            "marker": {
             "colorbar": {
              "outlinewidth": 0,
              "ticks": ""
             }
            },
            "type": "scattercarpet"
           }
          ],
          "scattergeo": [
           {
            "marker": {
             "colorbar": {
              "outlinewidth": 0,
              "ticks": ""
             }
            },
            "type": "scattergeo"
           }
          ],
          "scattergl": [
           {
            "marker": {
             "colorbar": {
              "outlinewidth": 0,
              "ticks": ""
             }
            },
            "type": "scattergl"
           }
          ],
          "scattermapbox": [
           {
            "marker": {
             "colorbar": {
              "outlinewidth": 0,
              "ticks": ""
             }
            },
            "type": "scattermapbox"
           }
          ],
          "scatterpolar": [
           {
            "marker": {
             "colorbar": {
              "outlinewidth": 0,
              "ticks": ""
             }
            },
            "type": "scatterpolar"
           }
          ],
          "scatterpolargl": [
           {
            "marker": {
             "colorbar": {
              "outlinewidth": 0,
              "ticks": ""
             }
            },
            "type": "scatterpolargl"
           }
          ],
          "scatterternary": [
           {
            "marker": {
             "colorbar": {
              "outlinewidth": 0,
              "ticks": ""
             }
            },
            "type": "scatterternary"
           }
          ],
          "surface": [
           {
            "colorbar": {
             "outlinewidth": 0,
             "ticks": ""
            },
            "colorscale": [
             [
              0,
              "#0d0887"
             ],
             [
              0.1111111111111111,
              "#46039f"
             ],
             [
              0.2222222222222222,
              "#7201a8"
             ],
             [
              0.3333333333333333,
              "#9c179e"
             ],
             [
              0.4444444444444444,
              "#bd3786"
             ],
             [
              0.5555555555555556,
              "#d8576b"
             ],
             [
              0.6666666666666666,
              "#ed7953"
             ],
             [
              0.7777777777777778,
              "#fb9f3a"
             ],
             [
              0.8888888888888888,
              "#fdca26"
             ],
             [
              1,
              "#f0f921"
             ]
            ],
            "type": "surface"
           }
          ],
          "table": [
           {
            "cells": {
             "fill": {
              "color": "#EBF0F8"
             },
             "line": {
              "color": "white"
             }
            },
            "header": {
             "fill": {
              "color": "#C8D4E3"
             },
             "line": {
              "color": "white"
             }
            },
            "type": "table"
           }
          ]
         },
         "layout": {
          "annotationdefaults": {
           "arrowcolor": "#2a3f5f",
           "arrowhead": 0,
           "arrowwidth": 1
          },
          "autotypenumbers": "strict",
          "coloraxis": {
           "colorbar": {
            "outlinewidth": 0,
            "ticks": ""
           }
          },
          "colorscale": {
           "diverging": [
            [
             0,
             "#8e0152"
            ],
            [
             0.1,
             "#c51b7d"
            ],
            [
             0.2,
             "#de77ae"
            ],
            [
             0.3,
             "#f1b6da"
            ],
            [
             0.4,
             "#fde0ef"
            ],
            [
             0.5,
             "#f7f7f7"
            ],
            [
             0.6,
             "#e6f5d0"
            ],
            [
             0.7,
             "#b8e186"
            ],
            [
             0.8,
             "#7fbc41"
            ],
            [
             0.9,
             "#4d9221"
            ],
            [
             1,
             "#276419"
            ]
           ],
           "sequential": [
            [
             0,
             "#0d0887"
            ],
            [
             0.1111111111111111,
             "#46039f"
            ],
            [
             0.2222222222222222,
             "#7201a8"
            ],
            [
             0.3333333333333333,
             "#9c179e"
            ],
            [
             0.4444444444444444,
             "#bd3786"
            ],
            [
             0.5555555555555556,
             "#d8576b"
            ],
            [
             0.6666666666666666,
             "#ed7953"
            ],
            [
             0.7777777777777778,
             "#fb9f3a"
            ],
            [
             0.8888888888888888,
             "#fdca26"
            ],
            [
             1,
             "#f0f921"
            ]
           ],
           "sequentialminus": [
            [
             0,
             "#0d0887"
            ],
            [
             0.1111111111111111,
             "#46039f"
            ],
            [
             0.2222222222222222,
             "#7201a8"
            ],
            [
             0.3333333333333333,
             "#9c179e"
            ],
            [
             0.4444444444444444,
             "#bd3786"
            ],
            [
             0.5555555555555556,
             "#d8576b"
            ],
            [
             0.6666666666666666,
             "#ed7953"
            ],
            [
             0.7777777777777778,
             "#fb9f3a"
            ],
            [
             0.8888888888888888,
             "#fdca26"
            ],
            [
             1,
             "#f0f921"
            ]
           ]
          },
          "colorway": [
           "#636efa",
           "#EF553B",
           "#00cc96",
           "#ab63fa",
           "#FFA15A",
           "#19d3f3",
           "#FF6692",
           "#B6E880",
           "#FF97FF",
           "#FECB52"
          ],
          "font": {
           "color": "#2a3f5f"
          },
          "geo": {
           "bgcolor": "white",
           "lakecolor": "white",
           "landcolor": "#E5ECF6",
           "showlakes": true,
           "showland": true,
           "subunitcolor": "white"
          },
          "hoverlabel": {
           "align": "left"
          },
          "hovermode": "closest",
          "mapbox": {
           "style": "light"
          },
          "paper_bgcolor": "white",
          "plot_bgcolor": "#E5ECF6",
          "polar": {
           "angularaxis": {
            "gridcolor": "white",
            "linecolor": "white",
            "ticks": ""
           },
           "bgcolor": "#E5ECF6",
           "radialaxis": {
            "gridcolor": "white",
            "linecolor": "white",
            "ticks": ""
           }
          },
          "scene": {
           "xaxis": {
            "backgroundcolor": "#E5ECF6",
            "gridcolor": "white",
            "gridwidth": 2,
            "linecolor": "white",
            "showbackground": true,
            "ticks": "",
            "zerolinecolor": "white"
           },
           "yaxis": {
            "backgroundcolor": "#E5ECF6",
            "gridcolor": "white",
            "gridwidth": 2,
            "linecolor": "white",
            "showbackground": true,
            "ticks": "",
            "zerolinecolor": "white"
           },
           "zaxis": {
            "backgroundcolor": "#E5ECF6",
            "gridcolor": "white",
            "gridwidth": 2,
            "linecolor": "white",
            "showbackground": true,
            "ticks": "",
            "zerolinecolor": "white"
           }
          },
          "shapedefaults": {
           "line": {
            "color": "#2a3f5f"
           }
          },
          "ternary": {
           "aaxis": {
            "gridcolor": "white",
            "linecolor": "white",
            "ticks": ""
           },
           "baxis": {
            "gridcolor": "white",
            "linecolor": "white",
            "ticks": ""
           },
           "bgcolor": "#E5ECF6",
           "caxis": {
            "gridcolor": "white",
            "linecolor": "white",
            "ticks": ""
           }
          },
          "title": {
           "x": 0.05
          },
          "xaxis": {
           "automargin": true,
           "gridcolor": "white",
           "linecolor": "white",
           "ticks": "",
           "title": {
            "standoff": 15
           },
           "zerolinecolor": "white",
           "zerolinewidth": 2
          },
          "yaxis": {
           "automargin": true,
           "gridcolor": "white",
           "linecolor": "white",
           "ticks": "",
           "title": {
            "standoff": 15
           },
           "zerolinecolor": "white",
           "zerolinewidth": 2
          }
         }
        },
        "width": 700,
        "xaxis": {
         "autorange": true,
         "range": [
          0,
          105.26315789473684
         ],
         "type": "linear"
        },
        "yaxis": {
         "autorange": true,
         "range": [
          2007.5,
          2018.5
         ],
         "type": "linear"
        }
       }
      },
      "image/png": "[encoded data removed]",
      "text/html": [
       "<div>                            <div id=\"5e68a885-54c7-4ecd-bca6-42c7da443d90\" class=\"plotly-graph-div\" style=\"height:500px; width:700px;\"></div>            <script type=\"text/javascript\">                require([\"plotly\"], function(Plotly) {                    window.PLOTLYENV=window.PLOTLYENV || {};                                    if (document.getElementById(\"5e68a885-54c7-4ecd-bca6-42c7da443d90\")) {                    Plotly.newPlot(                        \"5e68a885-54c7-4ecd-bca6-42c7da443d90\",                        [{\"name\":\"Age dependency ratio, young\",\"orientation\":\"h\",\"x\":[22.624277864534598,22.399992875109383,22.28546841508125,22.20530110185588,22.110928845161467,22.07065522626326,22.077148250554963,22.097875163929025,22.179668780812758,22.32920131950386,22.500244529371283],\"y\":[2008,2009,2010,2011,2012,2013,2014,2015,2016,2017,2018],\"type\":\"bar\"},{\"name\":\"Age dependency ratio, middle\",\"orientation\":\"h\",\"x\":[53.35482354276668,53.26077440739291,53.040077422955946,52.74596718812171,52.407750010520076,52.059925504605076,51.6965794574749,51.35074646822348,50.976851532982835,50.49821017215142,49.94569244990232],\"y\":[2008,2009,2010,2011,2012,2013,2014,2015,2016,2017,2018],\"type\":\"bar\"},{\"name\":\"Age dependency ratio, old\",\"orientation\":\"h\",\"x\":[24.02089859269872,24.33923271749771,24.6744541619628,25.04873171002241,25.481321144318457,25.869419269131665,26.226272291970137,26.551378367847494,26.843479686204407,27.17258850834472,27.5540630207264],\"y\":[2008,2009,2010,2011,2012,2013,2014,2015,2016,2017,2018],\"type\":\"bar\"}],                        {\"template\":{\"data\":{\"histogram2dcontour\":[{\"type\":\"histogram2dcontour\",\"colorbar\":{\"outlinewidth\":0,\"ticks\":\"\"},\"colorscale\":[[0.0,\"#0d0887\"],[0.1111111111111111,\"#46039f\"],[0.2222222222222222,\"#7201a8\"],[0.3333333333333333,\"#9c179e\"],[0.4444444444444444,\"#bd3786\"],[0.5555555555555556,\"#d8576b\"],[0.6666666666666666,\"#ed7953\"],[0.7777777777777778,\"#fb9f3a\"],[0.8888888888888888,\"#fdca26\"],[1.0,\"#f0f921\"]]}],\"choropleth\":[{\"type\":\"choropleth\",\"colorbar\":{\"outlinewidth\":0,\"ticks\":\"\"}}],\"histogram2d\":[{\"type\":\"histogram2d\",\"colorbar\":{\"outlinewidth\":0,\"ticks\":\"\"},\"colorscale\":[[0.0,\"#0d0887\"],[0.1111111111111111,\"#46039f\"],[0.2222222222222222,\"#7201a8\"],[0.3333333333333333,\"#9c179e\"],[0.4444444444444444,\"#bd3786\"],[0.5555555555555556,\"#d8576b\"],[0.6666666666666666,\"#ed7953\"],[0.7777777777777778,\"#fb9f3a\"],[0.8888888888888888,\"#fdca26\"],[1.0,\"#f0f921\"]]}],\"heatmap\":[{\"type\":\"heatmap\",\"colorbar\":{\"outlinewidth\":0,\"ticks\":\"\"},\"colorscale\":[[0.0,\"#0d0887\"],[0.1111111111111111,\"#46039f\"],[0.2222222222222222,\"#7201a8\"],[0.3333333333333333,\"#9c179e\"],[0.4444444444444444,\"#bd3786\"],[0.5555555555555556,\"#d8576b\"],[0.6666666666666666,\"#ed7953\"],[0.7777777777777778,\"#fb9f3a\"],[0.8888888888888888,\"#fdca26\"],[1.0,\"#f0f921\"]]}],\"heatmapgl\":[{\"type\":\"heatmapgl\",\"colorbar\":{\"outlinewidth\":0,\"ticks\":\"\"},\"colorscale\":[[0.0,\"#0d0887\"],[0.1111111111111111,\"#46039f\"],[0.2222222222222222,\"#7201a8\"],[0.3333333333333333,\"#9c179e\"],[0.4444444444444444,\"#bd3786\"],[0.5555555555555556,\"#d8576b\"],[0.6666666666666666,\"#ed7953\"],[0.7777777777777778,\"#fb9f3a\"],[0.8888888888888888,\"#fdca26\"],[1.0,\"#f0f921\"]]}],\"contourcarpet\":[{\"type\":\"contourcarpet\",\"colorbar\":{\"outlinewidth\":0,\"ticks\":\"\"}}],\"contour\":[{\"type\":\"contour\",\"colorbar\":{\"outlinewidth\":0,\"ticks\":\"\"},\"colorscale\":[[0.0,\"#0d0887\"],[0.1111111111111111,\"#46039f\"],[0.2222222222222222,\"#7201a8\"],[0.3333333333333333,\"#9c179e\"],[0.4444444444444444,\"#bd3786\"],[0.5555555555555556,\"#d8576b\"],[0.6666666666666666,\"#ed7953\"],[0.7777777777777778,\"#fb9f3a\"],[0.8888888888888888,\"#fdca26\"],[1.0,\"#f0f921\"]]}],\"surface\":[{\"type\":\"surface\",\"colorbar\":{\"outlinewidth\":0,\"ticks\":\"\"},\"colorscale\":[[0.0,\"#0d0887\"],[0.1111111111111111,\"#46039f\"],[0.2222222222222222,\"#7201a8\"],[0.3333333333333333,\"#9c179e\"],[0.4444444444444444,\"#bd3786\"],[0.5555555555555556,\"#d8576b\"],[0.6666666666666666,\"#ed7953\"],[0.7777777777777778,\"#fb9f3a\"],[0.8888888888888888,\"#fdca26\"],[1.0,\"#f0f921\"]]}],\"mesh3d\":[{\"type\":\"mesh3d\",\"colorbar\":{\"outlinewidth\":0,\"ticks\":\"\"}}],\"scatter\":[{\"fillpattern\":{\"fillmode\":\"overlay\",\"size\":10,\"solidity\":0.2},\"type\":\"scatter\"}],\"parcoords\":[{\"type\":\"parcoords\",\"line\":{\"colorbar\":{\"outlinewidth\":0,\"ticks\":\"\"}}}],\"scatterpolargl\":[{\"type\":\"scatterpolargl\",\"marker\":{\"colorbar\":{\"outlinewidth\":0,\"ticks\":\"\"}}}],\"bar\":[{\"error_x\":{\"color\":\"#2a3f5f\"},\"error_y\":{\"color\":\"#2a3f5f\"},\"marker\":{\"line\":{\"color\":\"#E5ECF6\",\"width\":0.5},\"pattern\":{\"fillmode\":\"overlay\",\"size\":10,\"solidity\":0.2}},\"type\":\"bar\"}],\"scattergeo\":[{\"type\":\"scattergeo\",\"marker\":{\"colorbar\":{\"outlinewidth\":0,\"ticks\":\"\"}}}],\"scatterpolar\":[{\"type\":\"scatterpolar\",\"marker\":{\"colorbar\":{\"outlinewidth\":0,\"ticks\":\"\"}}}],\"histogram\":[{\"marker\":{\"pattern\":{\"fillmode\":\"overlay\",\"size\":10,\"solidity\":0.2}},\"type\":\"histogram\"}],\"scattergl\":[{\"type\":\"scattergl\",\"marker\":{\"colorbar\":{\"outlinewidth\":0,\"ticks\":\"\"}}}],\"scatter3d\":[{\"type\":\"scatter3d\",\"line\":{\"colorbar\":{\"outlinewidth\":0,\"ticks\":\"\"}},\"marker\":{\"colorbar\":{\"outlinewidth\":0,\"ticks\":\"\"}}}],\"scattermapbox\":[{\"type\":\"scattermapbox\",\"marker\":{\"colorbar\":{\"outlinewidth\":0,\"ticks\":\"\"}}}],\"scatterternary\":[{\"type\":\"scatterternary\",\"marker\":{\"colorbar\":{\"outlinewidth\":0,\"ticks\":\"\"}}}],\"scattercarpet\":[{\"type\":\"scattercarpet\",\"marker\":{\"colorbar\":{\"outlinewidth\":0,\"ticks\":\"\"}}}],\"carpet\":[{\"aaxis\":{\"endlinecolor\":\"#2a3f5f\",\"gridcolor\":\"white\",\"linecolor\":\"white\",\"minorgridcolor\":\"white\",\"startlinecolor\":\"#2a3f5f\"},\"baxis\":{\"endlinecolor\":\"#2a3f5f\",\"gridcolor\":\"white\",\"linecolor\":\"white\",\"minorgridcolor\":\"white\",\"startlinecolor\":\"#2a3f5f\"},\"type\":\"carpet\"}],\"table\":[{\"cells\":{\"fill\":{\"color\":\"#EBF0F8\"},\"line\":{\"color\":\"white\"}},\"header\":{\"fill\":{\"color\":\"#C8D4E3\"},\"line\":{\"color\":\"white\"}},\"type\":\"table\"}],\"barpolar\":[{\"marker\":{\"line\":{\"color\":\"#E5ECF6\",\"width\":0.5},\"pattern\":{\"fillmode\":\"overlay\",\"size\":10,\"solidity\":0.2}},\"type\":\"barpolar\"}],\"pie\":[{\"automargin\":true,\"type\":\"pie\"}]},\"layout\":{\"autotypenumbers\":\"strict\",\"colorway\":[\"#636efa\",\"#EF553B\",\"#00cc96\",\"#ab63fa\",\"#FFA15A\",\"#19d3f3\",\"#FF6692\",\"#B6E880\",\"#FF97FF\",\"#FECB52\"],\"font\":{\"color\":\"#2a3f5f\"},\"hovermode\":\"closest\",\"hoverlabel\":{\"align\":\"left\"},\"paper_bgcolor\":\"white\",\"plot_bgcolor\":\"#E5ECF6\",\"polar\":{\"bgcolor\":\"#E5ECF6\",\"angularaxis\":{\"gridcolor\":\"white\",\"linecolor\":\"white\",\"ticks\":\"\"},\"radialaxis\":{\"gridcolor\":\"white\",\"linecolor\":\"white\",\"ticks\":\"\"}},\"ternary\":{\"bgcolor\":\"#E5ECF6\",\"aaxis\":{\"gridcolor\":\"white\",\"linecolor\":\"white\",\"ticks\":\"\"},\"baxis\":{\"gridcolor\":\"white\",\"linecolor\":\"white\",\"ticks\":\"\"},\"caxis\":{\"gridcolor\":\"white\",\"linecolor\":\"white\",\"ticks\":\"\"}},\"coloraxis\":{\"colorbar\":{\"outlinewidth\":0,\"ticks\":\"\"}},\"colorscale\":{\"sequential\":[[0.0,\"#0d0887\"],[0.1111111111111111,\"#46039f\"],[0.2222222222222222,\"#7201a8\"],[0.3333333333333333,\"#9c179e\"],[0.4444444444444444,\"#bd3786\"],[0.5555555555555556,\"#d8576b\"],[0.6666666666666666,\"#ed7953\"],[0.7777777777777778,\"#fb9f3a\"],[0.8888888888888888,\"#fdca26\"],[1.0,\"#f0f921\"]],\"sequentialminus\":[[0.0,\"#0d0887\"],[0.1111111111111111,\"#46039f\"],[0.2222222222222222,\"#7201a8\"],[0.3333333333333333,\"#9c179e\"],[0.4444444444444444,\"#bd3786\"],[0.5555555555555556,\"#d8576b\"],[0.6666666666666666,\"#ed7953\"],[0.7777777777777778,\"#fb9f3a\"],[0.8888888888888888,\"#fdca26\"],[1.0,\"#f0f921\"]],\"diverging\":[[0,\"#8e0152\"],[0.1,\"#c51b7d\"],[0.2,\"#de77ae\"],[0.3,\"#f1b6da\"],[0.4,\"#fde0ef\"],[0.5,\"#f7f7f7\"],[0.6,\"#e6f5d0\"],[0.7,\"#b8e186\"],[0.8,\"#7fbc41\"],[0.9,\"#4d9221\"],[1,\"#276419\"]]},\"xaxis\":{\"gridcolor\":\"white\",\"linecolor\":\"white\",\"ticks\":\"\",\"title\":{\"standoff\":15},\"zerolinecolor\":\"white\",\"automargin\":true,\"zerolinewidth\":2},\"yaxis\":{\"gridcolor\":\"white\",\"linecolor\":\"white\",\"ticks\":\"\",\"title\":{\"standoff\":15},\"zerolinecolor\":\"white\",\"automargin\":true,\"zerolinewidth\":2},\"scene\":{\"xaxis\":{\"backgroundcolor\":\"#E5ECF6\",\"gridcolor\":\"white\",\"linecolor\":\"white\",\"showbackground\":true,\"ticks\":\"\",\"zerolinecolor\":\"white\",\"gridwidth\":2},\"yaxis\":{\"backgroundcolor\":\"#E5ECF6\",\"gridcolor\":\"white\",\"linecolor\":\"white\",\"showbackground\":true,\"ticks\":\"\",\"zerolinecolor\":\"white\",\"gridwidth\":2},\"zaxis\":{\"backgroundcolor\":\"#E5ECF6\",\"gridcolor\":\"white\",\"linecolor\":\"white\",\"showbackground\":true,\"ticks\":\"\",\"zerolinecolor\":\"white\",\"gridwidth\":2}},\"shapedefaults\":{\"line\":{\"color\":\"#2a3f5f\"}},\"annotationdefaults\":{\"arrowcolor\":\"#2a3f5f\",\"arrowhead\":0,\"arrowwidth\":1},\"geo\":{\"bgcolor\":\"white\",\"landcolor\":\"#E5ECF6\",\"subunitcolor\":\"white\",\"showland\":true,\"showlakes\":true,\"lakecolor\":\"white\"},\"title\":{\"x\":0.05},\"mapbox\":{\"style\":\"light\"}}},\"barmode\":\"stack\",\"autosize\":false,\"width\":700,\"height\":500},                        {\"responsive\": true}                    ).then(function(){\n",
       "                            \n",
       "var gd = document.getElementById('5e68a885-54c7-4ecd-bca6-42c7da443d90');\n",
       "var x = new MutationObserver(function (mutations, observer) {{\n",
       "        var display = window.getComputedStyle(gd).display;\n",
       "        if (!display || display === 'none') {{\n",
       "            console.log([gd, 'removed!']);\n",
       "            Plotly.purge(gd);\n",
       "            observer.disconnect();\n",
       "        }}\n",
       "}});\n",
       "\n",
       "// Listen for the removal of the full notebook cells\n",
       "var notebookContainer = gd.closest('#notebook-container');\n",
       "if (notebookContainer) {{\n",
       "    x.observe(notebookContainer, {childList: true});\n",
       "}}\n",
       "\n",
       "// Listen for the clearing of the current output cell\n",
       "var outputEl = gd.closest('.output');\n",
       "if (outputEl) {{\n",
       "    x.observe(outputEl, {childList: true});\n",
       "}}\n",
       "\n",
       "                        })                };                });            </script>        </div>"
      ]
     },
     "metadata": {},
     "output_type": "display_data"
    }
   ],
   "source": [
    "years=df_swi['Year'].tolist()\n",
    "\n",
    "fig = go.Figure()\n",
    "fig.add_trace(go.Bar(name='Age dependency ratio, young', y=years, x=df_swi['Age dependency ratio, young (% of working-age population)'],orientation='h'))\n",
    "fig.add_trace(go.Bar(name='Age dependency ratio, middle', y=years, x=df_swi['Age dependency ratio, middle (% of working-age population)'],orientation='h'))\n",
    "fig.add_trace(go.Bar(name='Age dependency ratio, old', y=years, x=df_swi['Age dependency ratio, old (% of working-age population)'],orientation='h'))\n",
    "\n",
    "# Change the bar mode\n",
    "fig.update_layout(barmode='stack',autosize=False,\n",
    "                width=700,\n",
    "                height=500)\n",
    "fig.show()"
   ]
  },
  {
   "cell_type": "markdown",
   "id": "cd91f918-bfea-4f9e-a104-862aca003252",
   "metadata": {},
   "source": [
    "## We are analyzing Switzerland for a 11 year period from 2008-2018\n",
    "### Key observations:\n",
    "\n",
    "#### Switzerland Economy: \n",
    "- The average GDP growth rate is 1.7% with 1.47% standard deviation. Median is 1.81%. Only once, in 2019, the GDP growth rate went negative, -2.3%. Growth rate rebounded the subsequent year to a higher rate than the year pervious to the dip.\n",
    "\n",
    "- Switzerland has a average Gini index of 32.6 over the 11 year period. It informs that income inequality is low and the country has a huge middle class. This would help generate internal demand and long term growth.\n",
    "- Switzerland's working-age population is getting older at an average of 1.38% over the 11 years while the younger worker population has remained steady at 22%. The age pyramid of the labor force seems to be inverting gradually, bulge at the top and thin at the bottom. \n",
    "- The country's population is growing at an average rate of 1.1%. A rate lower than the GDP growth rate. That's suggests that the country is growing at the right pace.\n",
    "-  For a developed country, a 1-3% annual inflation is considered good for growth. In this case, Switzerland had a good inflation in 2008, though from 2011-2016, the country was in a deflationary state.\n",
    "\n",
    "   \n",
    "#### Evaluating Policy \n",
    "- Central government debt (as %GDP) has steadily reduced over the 11 year period.\n",
    "- Country has chronic fiscal deficit, i.e., their expenditure needs are higher than its tax revenue. The level of this deficit is steady over the years at about 1.8%. This informs us that the country's consumption expenses are more than its savings and this additional expenses are met through sources besides tax collected. \n",
    "\n",
    "\n",
    "#### Opportunities: \n",
    "-\n",
    "\n",
    "#### Risks:\n",
    "- "
   ]
  },
  {
   "cell_type": "markdown",
   "id": "c5b47148-70ed-4d12-84a6-535b13bc9eec",
   "metadata": {},
   "source": [
    "\n",
    "## Q&A:\n",
    "a) Market size: demand, growth and demography:\n",
    "\n",
    "· Is the country growing robustly?\n",
    "Yes, Switzerland is growing robustly. The country's GDP per capita, PPP has increased in all of the 11 years. The GDP growth rate is stable across the years at an average of 1.7%. This is a good rate for a developing nation. Even other important indicators, government consumption and tax revenue are steady. Such stablity would help the government plan.  \n",
    "\n",
    "Furthermore, Switzerland has a average Gini index of 32.6 over the 11 year period. It informs that income inequality is low and the country has a huge middle class. This would help generate internal demand and long term growth.\n",
    "The country's population is expanding at an average rate of 1.1%, whereas the GDP growth rate is higher. That's suggests that the country is growing at the right pace.\n",
    "\n",
    "Finally, the country's debt has steadily reduced over the 11 year period and it has been a current account surplus country over the period. The additional financing would strengthen the currency.  \n",
    "\n",
    "· Based on what you learned in this specialization, how fast should this country grow? Is it growing too fast, too slow, or “just right”? HINT: Potential vs Actual.\n",
    "\n",
    "For a developed economy, an ideal GDP growth rate is positive thought not so high that the inflation also goes too high. A good rate would be around 2-3%. Switzerland's average GDP growth rate has been 1.7% with 1.47% standard deviation. Median is 1.81%. Only once, in 2009, the GDP growth rate went negative, -2.3%. Growth rate rebounded the subsequent year to a higher rate than the year pervious to the dip. \n",
    "\n",
    "Country's has been in deflation for 5 years, from 2011-2016. That suggests that the country actual growth wasn't enough in that period to be in inflation.  \n",
    "\n",
    "\n",
    "· Does the country appear to have a large, stable middle class? How is the age pyramid distributed?\n",
    "- Yes, in the 2008-2018 period, the country has had a large stable middle class. Switzerland has a average Gini index of 32.6 over the 11 year period. It informs that income inequality is low and the country has a huge middle class. This would help generate internal demand and long term growth.\n",
    "- Switzerland's working-age population is getting older at an average of 1.38% over the 11 years while the younger worker population has remained steady at 22%. The age pyramid of the labor force seems to be inverting gradually, bulge at the top and thin at the bottom. \n",
    "\n",
    "  \n",
    "· Does inflation behave as you would expect, based on your answer above? HINT: look at inflationary/recessionary GAP.\n",
    "    Yes. Inflation has a direct relationship with GDP growth rate and that is evident from the graphs. Inflation and real GDP growth rate move in conjunction across the 11 years. The country was in a deflationary period from 2011-16.\n",
    "    \n",
    "· What is the country's demography like?  Is the population growing or shrinking, young or old?\n",
    "    - Population is growing steadily at 1.1% on average until 2016 and it went below 1% growth in 2017 and 2018. \n",
    "    - Switzerland's working-age population is getting older at an average of 1.38% over the 11 years while the younger worker population has remained steady at 22%. The age pyramid of the labor force seems to be inverting gradually, widening at the top and thinning at the bottom. Population growth isn't happening at the rate of older workforce increase.\n",
    "    \n",
    "· What opportunities and risks can you identify for an investment in this country, based on your answers to these questions? Look at the BoP, FX stability, inflation for example.\n",
    "\n",
    "Opportunities: \n",
    "- Stablity in the country which is evident in the consistent rate of growth of GDP, expenditure, and tax collection.\n",
    "\n",
    "Risks:\n",
    "- It's a current account surplus nation, so the country's growth depends on external demand. It also is susceptible to exchange rate volatility. Such dependance on global forces also is an issue.\n",
    "- Age pyramid inverting, which can lead to declining growth in the long run. Population isn't growing at a fast enough rate.\n",
    "\n",
    "b) Fiscal and monetary stability.\n",
    "\n",
    "· Calculate the country's fiscal deficit by subtracting the \"General government final consumption expenditure (% of GDP)\" from the \"Tax revenue (% of GDP)\". Does it have a deficit, a surplus, or a balanced budget?\n",
    "Country has chronic fiscal deficit, i.e., their spending is higher than its revenue. The level of this deficit is steady over the years at about 1.8%. \n",
    "\n",
    "· Is this country's fiscal deficit a problem, based on what you know and your conclusions in the first section? (Remember that this is expressed as a % of GDP.)\n",
    "Yes, since its chronically stayed in the deficit at -1.8% on average.  \n",
    "\n",
    "· Is this country's debt a problem?  Why or why not?\n",
    "No, it ain't a problem. Country's average debt over the 11 year period is 20.7% of the GDP. That's within controllable levels as compared to other developed countries. Also, the debt has been on a downward trajectory from 23% in 2008 to 18% in 2018.\n",
    "\n",
    "  \n",
    "· Does monetary policy in this country appear to be expansive or restrictive? Is this appropriate, given your conclusions in the first section? HINT: look at the real interest rate.\n",
    "Switzerland's monetary policy seems expansive, as real interest rates on average have been 2.7% over the 11 years. This is quite low and should help stimulate aggregate demand in the economy and bring the country out of recessionary gap.\n",
    "\n",
    "· What opportunities or risks can you identify for a firm, based on your answers to these questions?\n",
    "Opportunities: \n",
    "- Public debt is reducing\n",
    "- Country came out from a 5 year deflationary period in 2017.\n",
    "\n",
    "Risks:\n",
    "- It's chronic fiscal deficit needs to be fixed. Tax revenues aren't enough to cover the spending.\n",
    "- GDP isn't growing at potential GDP rate.\n",
    "\n",
    "c) External opportunities and risks.\n",
    "\n",
    "· Does this country have a current-account deficit, or a surplus? \n",
    "Switzerland has been a current account surplus country over 2008-2018 period.\n",
    "\n",
    "· What risks does this current-account position pose for a potential investor? Look for FX fluctuations, foreign debt exposure, etc.\n",
    "It's a current account surplus nation, so the country's growth depends on external demand. It also is susceptible to exchange rate volatility. Such dependance on global forces also is an issue.\n",
    "\n",
    "· What are the costs and benefits of its net migration position?\n",
    "Not appropriate data available to find answer to this question."
   ]
  },
  {
   "cell_type": "code",
   "execution_count": null,
   "id": "4399474d-d569-47da-89c3-e2501388ca57",
   "metadata": {},
   "outputs": [],
   "source": []
  }
 ],
 "metadata": {
  "kernelspec": {
   "display_name": "Python 3 (ipykernel)",
   "language": "python",
   "name": "python3"
  },
  "language_info": {
   "codemirror_mode": {
    "name": "ipython",
    "version": 3
   },
   "file_extension": ".py",
   "mimetype": "text/x-python",
   "name": "python",
   "nbconvert_exporter": "python",
   "pygments_lexer": "ipython3",
   "version": "3.9.16"
  }
 },
 "nbformat": 4,
 "nbformat_minor": 5
}
